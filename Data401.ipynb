{
 "cells": [
  {
   "cell_type": "code",
   "execution_count": 0,
   "metadata": {
    "application/vnd.databricks.v1+cell": {
     "cellMetadata": {
      "byteLimit": 2048000,
      "rowLimit": 10000
     },
     "inputWidgets": {},
     "nuid": "6c116222-7474-464e-b406-879f89f47ee5",
     "showTitle": false,
     "title": ""
    }
   },
   "outputs": [
    {
     "output_type": "display_data",
     "data": {
      "text/html": [
       "<div>\n",
       "<style scoped>\n",
       "    .dataframe tbody tr th:only-of-type {\n",
       "        vertical-align: middle;\n",
       "    }\n",
       "\n",
       "    .dataframe tbody tr th {\n",
       "        vertical-align: top;\n",
       "    }\n",
       "\n",
       "    .dataframe thead th {\n",
       "        text-align: right;\n",
       "    }\n",
       "</style>\n",
       "<table border=\"1\" class=\"dataframe\">\n",
       "  <thead>\n",
       "    <tr style=\"text-align: right;\">\n",
       "      <th></th>\n",
       "      <th>0</th>\n",
       "    </tr>\n",
       "  </thead>\n",
       "  <tbody>\n",
       "    <tr>\n",
       "      <th>0</th>\n",
       "      <td>10</td>\n",
       "    </tr>\n",
       "    <tr>\n",
       "      <th>1</th>\n",
       "      <td>20</td>\n",
       "    </tr>\n",
       "    <tr>\n",
       "      <th>2</th>\n",
       "      <td>30</td>\n",
       "    </tr>\n",
       "  </tbody>\n",
       "</table>\n",
       "</div>"
      ]
     },
     "metadata": {
      "application/vnd.databricks.v1+output": {
       "addedWidgets": {},
       "arguments": {},
       "data": "<div>\n<style scoped>\n    .dataframe tbody tr th:only-of-type {\n        vertical-align: middle;\n    }\n\n    .dataframe tbody tr th {\n        vertical-align: top;\n    }\n\n    .dataframe thead th {\n        text-align: right;\n    }\n</style>\n<table border=\"1\" class=\"dataframe\">\n  <thead>\n    <tr style=\"text-align: right;\">\n      <th></th>\n      <th>0</th>\n    </tr>\n  </thead>\n  <tbody>\n    <tr>\n      <th>0</th>\n      <td>10</td>\n    </tr>\n    <tr>\n      <th>1</th>\n      <td>20</td>\n    </tr>\n    <tr>\n      <th>2</th>\n      <td>30</td>\n    </tr>\n  </tbody>\n</table>\n</div>",
       "datasetInfos": [],
       "metadata": {},
       "removedWidgets": [],
       "textData": null,
       "type": "htmlSandbox"
      }
     },
     "output_type": "display_data"
    }
   ],
   "source": [
    "import pandas as pd\n",
    "pd.DataFrame([10,20,30])"
   ]
  },
  {
   "cell_type": "code",
   "execution_count": 0,
   "metadata": {
    "application/vnd.databricks.v1+cell": {
     "cellMetadata": {
      "byteLimit": 2048000,
      "rowLimit": 10000
     },
     "inputWidgets": {},
     "nuid": "69d84968-8f39-4077-848a-437f8d194958",
     "showTitle": false,
     "title": ""
    }
   },
   "outputs": [
    {
     "output_type": "stream",
     "name": "stdout",
     "output_type": "stream",
     "text": [
      "Out[12]: [Row(sepal_length=5.1, sepal_width=3.5, petal_length=1.4, petal_width=0.2, species='setosa'),\n Row(sepal_length=4.9, sepal_width=3.0, petal_length=1.4, petal_width=0.2, species='setosa'),\n Row(sepal_length=4.7, sepal_width=3.2, petal_length=1.3, petal_width=0.2, species='setosa'),\n Row(sepal_length=4.6, sepal_width=3.1, petal_length=1.5, petal_width=0.2, species='setosa'),\n Row(sepal_length=5.0, sepal_width=3.6, petal_length=1.4, petal_width=0.2, species='setosa')]"
     ]
    }
   ],
   "source": [
    "iris=sqlContext.read.load('/FileStore/tables/iris.csv', format='csv', header=True, inferSchema=True)\n",
    "iris.head(5)"
   ]
  },
  {
   "cell_type": "code",
   "execution_count": 0,
   "metadata": {
    "application/vnd.databricks.v1+cell": {
     "cellMetadata": {
      "byteLimit": 2048000,
      "rowLimit": 10000
     },
     "inputWidgets": {},
     "nuid": "7f5397be-2479-4a4d-8f0b-145ca39ecaed",
     "showTitle": false,
     "title": ""
    }
   },
   "outputs": [
    {
     "output_type": "stream",
     "name": "stdout",
     "output_type": "stream",
     "text": [
      "Out[13]: [('sepal_length', 'double'),\n ('sepal_width', 'double'),\n ('petal_length', 'double'),\n ('petal_width', 'double'),\n ('species', 'string')]"
     ]
    }
   ],
   "source": [
    "iris.dtypes"
   ]
  },
  {
   "cell_type": "code",
   "execution_count": 0,
   "metadata": {
    "application/vnd.databricks.v1+cell": {
     "cellMetadata": {
      "byteLimit": 2048000,
      "rowLimit": 10000
     },
     "inputWidgets": {},
     "nuid": "c68a0025-995c-4d22-a6ba-fe53a4e9d5e2",
     "showTitle": false,
     "title": ""
    }
   },
   "outputs": [
    {
     "output_type": "stream",
     "name": "stdout",
     "output_type": "stream",
     "text": [
      "Out[14]: pyspark.sql.dataframe.DataFrame"
     ]
    }
   ],
   "source": [
    "type(iris)"
   ]
  },
  {
   "cell_type": "code",
   "execution_count": 0,
   "metadata": {
    "application/vnd.databricks.v1+cell": {
     "cellMetadata": {
      "byteLimit": 2048000,
      "rowLimit": 10000
     },
     "inputWidgets": {},
     "nuid": "1fca28bd-7d42-401f-826b-4a743bb44571",
     "showTitle": false,
     "title": ""
    }
   },
   "outputs": [
    {
     "output_type": "display_data",
     "data": {
      "text/html": [
       "<style scoped>\n",
       "  .table-result-container {\n",
       "    max-height: 300px;\n",
       "    overflow: auto;\n",
       "  }\n",
       "  table, th, td {\n",
       "    border: 1px solid black;\n",
       "    border-collapse: collapse;\n",
       "  }\n",
       "  th, td {\n",
       "    padding: 5px;\n",
       "  }\n",
       "  th {\n",
       "    text-align: left;\n",
       "  }\n",
       "</style><div class='table-result-container'><table class='table-result'><thead style='background-color: white'><tr><th>sepal_length</th><th>sepal_width</th><th>petal_length</th><th>petal_width</th><th>species</th></tr></thead><tbody><tr><td>5.1</td><td>3.5</td><td>1.4</td><td>0.2</td><td>setosa</td></tr><tr><td>4.9</td><td>3.0</td><td>1.4</td><td>0.2</td><td>setosa</td></tr><tr><td>4.7</td><td>3.2</td><td>1.3</td><td>0.2</td><td>setosa</td></tr><tr><td>4.6</td><td>3.1</td><td>1.5</td><td>0.2</td><td>setosa</td></tr><tr><td>5.0</td><td>3.6</td><td>1.4</td><td>0.2</td><td>setosa</td></tr><tr><td>5.4</td><td>3.9</td><td>1.7</td><td>0.4</td><td>setosa</td></tr><tr><td>4.6</td><td>3.4</td><td>1.4</td><td>0.3</td><td>setosa</td></tr><tr><td>5.0</td><td>3.4</td><td>1.5</td><td>0.2</td><td>setosa</td></tr><tr><td>4.4</td><td>2.9</td><td>1.4</td><td>0.2</td><td>setosa</td></tr><tr><td>4.9</td><td>3.1</td><td>1.5</td><td>0.1</td><td>setosa</td></tr><tr><td>5.4</td><td>3.7</td><td>1.5</td><td>0.2</td><td>setosa</td></tr><tr><td>4.8</td><td>3.4</td><td>1.6</td><td>0.2</td><td>setosa</td></tr><tr><td>4.8</td><td>3.0</td><td>1.4</td><td>0.1</td><td>setosa</td></tr><tr><td>4.3</td><td>3.0</td><td>1.1</td><td>0.1</td><td>setosa</td></tr><tr><td>5.8</td><td>4.0</td><td>1.2</td><td>0.2</td><td>setosa</td></tr><tr><td>5.7</td><td>4.4</td><td>1.5</td><td>0.4</td><td>setosa</td></tr><tr><td>5.4</td><td>3.9</td><td>1.3</td><td>0.4</td><td>setosa</td></tr><tr><td>5.1</td><td>3.5</td><td>1.4</td><td>0.3</td><td>setosa</td></tr><tr><td>5.7</td><td>3.8</td><td>1.7</td><td>0.3</td><td>setosa</td></tr><tr><td>5.1</td><td>3.8</td><td>1.5</td><td>0.3</td><td>setosa</td></tr><tr><td>5.4</td><td>3.4</td><td>1.7</td><td>0.2</td><td>setosa</td></tr><tr><td>5.1</td><td>3.7</td><td>1.5</td><td>0.4</td><td>setosa</td></tr><tr><td>4.6</td><td>3.6</td><td>1.0</td><td>0.2</td><td>setosa</td></tr><tr><td>5.1</td><td>3.3</td><td>1.7</td><td>0.5</td><td>setosa</td></tr><tr><td>4.8</td><td>3.4</td><td>1.9</td><td>0.2</td><td>setosa</td></tr><tr><td>5.0</td><td>3.0</td><td>1.6</td><td>0.2</td><td>setosa</td></tr><tr><td>5.0</td><td>3.4</td><td>1.6</td><td>0.4</td><td>setosa</td></tr><tr><td>5.2</td><td>3.5</td><td>1.5</td><td>0.2</td><td>setosa</td></tr><tr><td>5.2</td><td>3.4</td><td>1.4</td><td>0.2</td><td>setosa</td></tr><tr><td>4.7</td><td>3.2</td><td>1.6</td><td>0.2</td><td>setosa</td></tr><tr><td>4.8</td><td>3.1</td><td>1.6</td><td>0.2</td><td>setosa</td></tr><tr><td>5.4</td><td>3.4</td><td>1.5</td><td>0.4</td><td>setosa</td></tr><tr><td>5.2</td><td>4.1</td><td>1.5</td><td>0.1</td><td>setosa</td></tr><tr><td>5.5</td><td>4.2</td><td>1.4</td><td>0.2</td><td>setosa</td></tr><tr><td>4.9</td><td>3.1</td><td>1.5</td><td>0.1</td><td>setosa</td></tr><tr><td>5.0</td><td>3.2</td><td>1.2</td><td>0.2</td><td>setosa</td></tr><tr><td>5.5</td><td>3.5</td><td>1.3</td><td>0.2</td><td>setosa</td></tr><tr><td>4.9</td><td>3.1</td><td>1.5</td><td>0.1</td><td>setosa</td></tr><tr><td>4.4</td><td>3.0</td><td>1.3</td><td>0.2</td><td>setosa</td></tr><tr><td>5.1</td><td>3.4</td><td>1.5</td><td>0.2</td><td>setosa</td></tr><tr><td>5.0</td><td>3.5</td><td>1.3</td><td>0.3</td><td>setosa</td></tr><tr><td>4.5</td><td>2.3</td><td>1.3</td><td>0.3</td><td>setosa</td></tr><tr><td>4.4</td><td>3.2</td><td>1.3</td><td>0.2</td><td>setosa</td></tr><tr><td>5.0</td><td>3.5</td><td>1.6</td><td>0.6</td><td>setosa</td></tr><tr><td>5.1</td><td>3.8</td><td>1.9</td><td>0.4</td><td>setosa</td></tr><tr><td>4.8</td><td>3.0</td><td>1.4</td><td>0.3</td><td>setosa</td></tr><tr><td>5.1</td><td>3.8</td><td>1.6</td><td>0.2</td><td>setosa</td></tr><tr><td>4.6</td><td>3.2</td><td>1.4</td><td>0.2</td><td>setosa</td></tr><tr><td>5.3</td><td>3.7</td><td>1.5</td><td>0.2</td><td>setosa</td></tr><tr><td>5.0</td><td>3.3</td><td>1.4</td><td>0.2</td><td>setosa</td></tr><tr><td>7.0</td><td>3.2</td><td>4.7</td><td>1.4</td><td>versicolor</td></tr><tr><td>6.4</td><td>3.2</td><td>4.5</td><td>1.5</td><td>versicolor</td></tr><tr><td>6.9</td><td>3.1</td><td>4.9</td><td>1.5</td><td>versicolor</td></tr><tr><td>5.5</td><td>2.3</td><td>4.0</td><td>1.3</td><td>versicolor</td></tr><tr><td>6.5</td><td>2.8</td><td>4.6</td><td>1.5</td><td>versicolor</td></tr><tr><td>5.7</td><td>2.8</td><td>4.5</td><td>1.3</td><td>versicolor</td></tr><tr><td>6.3</td><td>3.3</td><td>4.7</td><td>1.6</td><td>versicolor</td></tr><tr><td>4.9</td><td>2.4</td><td>3.3</td><td>1.0</td><td>versicolor</td></tr><tr><td>6.6</td><td>2.9</td><td>4.6</td><td>1.3</td><td>versicolor</td></tr><tr><td>5.2</td><td>2.7</td><td>3.9</td><td>1.4</td><td>versicolor</td></tr><tr><td>5.0</td><td>2.0</td><td>3.5</td><td>1.0</td><td>versicolor</td></tr><tr><td>5.9</td><td>3.0</td><td>4.2</td><td>1.5</td><td>versicolor</td></tr><tr><td>6.0</td><td>2.2</td><td>4.0</td><td>1.0</td><td>versicolor</td></tr><tr><td>6.1</td><td>2.9</td><td>4.7</td><td>1.4</td><td>versicolor</td></tr><tr><td>5.6</td><td>2.9</td><td>3.6</td><td>1.3</td><td>versicolor</td></tr><tr><td>6.7</td><td>3.1</td><td>4.4</td><td>1.4</td><td>versicolor</td></tr><tr><td>5.6</td><td>3.0</td><td>4.5</td><td>1.5</td><td>versicolor</td></tr><tr><td>5.8</td><td>2.7</td><td>4.1</td><td>1.0</td><td>versicolor</td></tr><tr><td>6.2</td><td>2.2</td><td>4.5</td><td>1.5</td><td>versicolor</td></tr><tr><td>5.6</td><td>2.5</td><td>3.9</td><td>1.1</td><td>versicolor</td></tr><tr><td>5.9</td><td>3.2</td><td>4.8</td><td>1.8</td><td>versicolor</td></tr><tr><td>6.1</td><td>2.8</td><td>4.0</td><td>1.3</td><td>versicolor</td></tr><tr><td>6.3</td><td>2.5</td><td>4.9</td><td>1.5</td><td>versicolor</td></tr><tr><td>6.1</td><td>2.8</td><td>4.7</td><td>1.2</td><td>versicolor</td></tr><tr><td>6.4</td><td>2.9</td><td>4.3</td><td>1.3</td><td>versicolor</td></tr><tr><td>6.6</td><td>3.0</td><td>4.4</td><td>1.4</td><td>versicolor</td></tr><tr><td>6.8</td><td>2.8</td><td>4.8</td><td>1.4</td><td>versicolor</td></tr><tr><td>6.7</td><td>3.0</td><td>5.0</td><td>1.7</td><td>versicolor</td></tr><tr><td>6.0</td><td>2.9</td><td>4.5</td><td>1.5</td><td>versicolor</td></tr><tr><td>5.7</td><td>2.6</td><td>3.5</td><td>1.0</td><td>versicolor</td></tr><tr><td>5.5</td><td>2.4</td><td>3.8</td><td>1.1</td><td>versicolor</td></tr><tr><td>5.5</td><td>2.4</td><td>3.7</td><td>1.0</td><td>versicolor</td></tr><tr><td>5.8</td><td>2.7</td><td>3.9</td><td>1.2</td><td>versicolor</td></tr><tr><td>6.0</td><td>2.7</td><td>5.1</td><td>1.6</td><td>versicolor</td></tr><tr><td>5.4</td><td>3.0</td><td>4.5</td><td>1.5</td><td>versicolor</td></tr><tr><td>6.0</td><td>3.4</td><td>4.5</td><td>1.6</td><td>versicolor</td></tr><tr><td>6.7</td><td>3.1</td><td>4.7</td><td>1.5</td><td>versicolor</td></tr><tr><td>6.3</td><td>2.3</td><td>4.4</td><td>1.3</td><td>versicolor</td></tr><tr><td>5.6</td><td>3.0</td><td>4.1</td><td>1.3</td><td>versicolor</td></tr><tr><td>5.5</td><td>2.5</td><td>4.0</td><td>1.3</td><td>versicolor</td></tr><tr><td>5.5</td><td>2.6</td><td>4.4</td><td>1.2</td><td>versicolor</td></tr><tr><td>6.1</td><td>3.0</td><td>4.6</td><td>1.4</td><td>versicolor</td></tr><tr><td>5.8</td><td>2.6</td><td>4.0</td><td>1.2</td><td>versicolor</td></tr><tr><td>5.0</td><td>2.3</td><td>3.3</td><td>1.0</td><td>versicolor</td></tr><tr><td>5.6</td><td>2.7</td><td>4.2</td><td>1.3</td><td>versicolor</td></tr><tr><td>5.7</td><td>3.0</td><td>4.2</td><td>1.2</td><td>versicolor</td></tr><tr><td>5.7</td><td>2.9</td><td>4.2</td><td>1.3</td><td>versicolor</td></tr><tr><td>6.2</td><td>2.9</td><td>4.3</td><td>1.3</td><td>versicolor</td></tr><tr><td>5.1</td><td>2.5</td><td>3.0</td><td>1.1</td><td>versicolor</td></tr><tr><td>5.7</td><td>2.8</td><td>4.1</td><td>1.3</td><td>versicolor</td></tr><tr><td>6.3</td><td>3.3</td><td>6.0</td><td>2.5</td><td>virginica</td></tr><tr><td>5.8</td><td>2.7</td><td>5.1</td><td>1.9</td><td>virginica</td></tr><tr><td>7.1</td><td>3.0</td><td>5.9</td><td>2.1</td><td>virginica</td></tr><tr><td>6.3</td><td>2.9</td><td>5.6</td><td>1.8</td><td>virginica</td></tr><tr><td>6.5</td><td>3.0</td><td>5.8</td><td>2.2</td><td>virginica</td></tr><tr><td>7.6</td><td>3.0</td><td>6.6</td><td>2.1</td><td>virginica</td></tr><tr><td>4.9</td><td>2.5</td><td>4.5</td><td>1.7</td><td>virginica</td></tr><tr><td>7.3</td><td>2.9</td><td>6.3</td><td>1.8</td><td>virginica</td></tr><tr><td>6.7</td><td>2.5</td><td>5.8</td><td>1.8</td><td>virginica</td></tr><tr><td>7.2</td><td>3.6</td><td>6.1</td><td>2.5</td><td>virginica</td></tr><tr><td>6.5</td><td>3.2</td><td>5.1</td><td>2.0</td><td>virginica</td></tr><tr><td>6.4</td><td>2.7</td><td>5.3</td><td>1.9</td><td>virginica</td></tr><tr><td>6.8</td><td>3.0</td><td>5.5</td><td>2.1</td><td>virginica</td></tr><tr><td>5.7</td><td>2.5</td><td>5.0</td><td>2.0</td><td>virginica</td></tr><tr><td>5.8</td><td>2.8</td><td>5.1</td><td>2.4</td><td>virginica</td></tr><tr><td>6.4</td><td>3.2</td><td>5.3</td><td>2.3</td><td>virginica</td></tr><tr><td>6.5</td><td>3.0</td><td>5.5</td><td>1.8</td><td>virginica</td></tr><tr><td>7.7</td><td>3.8</td><td>6.7</td><td>2.2</td><td>virginica</td></tr><tr><td>7.7</td><td>2.6</td><td>6.9</td><td>2.3</td><td>virginica</td></tr><tr><td>6.0</td><td>2.2</td><td>5.0</td><td>1.5</td><td>virginica</td></tr><tr><td>6.9</td><td>3.2</td><td>5.7</td><td>2.3</td><td>virginica</td></tr><tr><td>5.6</td><td>2.8</td><td>4.9</td><td>2.0</td><td>virginica</td></tr><tr><td>7.7</td><td>2.8</td><td>6.7</td><td>2.0</td><td>virginica</td></tr><tr><td>6.3</td><td>2.7</td><td>4.9</td><td>1.8</td><td>virginica</td></tr><tr><td>6.7</td><td>3.3</td><td>5.7</td><td>2.1</td><td>virginica</td></tr><tr><td>7.2</td><td>3.2</td><td>6.0</td><td>1.8</td><td>virginica</td></tr><tr><td>6.2</td><td>2.8</td><td>4.8</td><td>1.8</td><td>virginica</td></tr><tr><td>6.1</td><td>3.0</td><td>4.9</td><td>1.8</td><td>virginica</td></tr><tr><td>6.4</td><td>2.8</td><td>5.6</td><td>2.1</td><td>virginica</td></tr><tr><td>7.2</td><td>3.0</td><td>5.8</td><td>1.6</td><td>virginica</td></tr><tr><td>7.4</td><td>2.8</td><td>6.1</td><td>1.9</td><td>virginica</td></tr><tr><td>7.9</td><td>3.8</td><td>6.4</td><td>2.0</td><td>virginica</td></tr><tr><td>6.4</td><td>2.8</td><td>5.6</td><td>2.2</td><td>virginica</td></tr><tr><td>6.3</td><td>2.8</td><td>5.1</td><td>1.5</td><td>virginica</td></tr><tr><td>6.1</td><td>2.6</td><td>5.6</td><td>1.4</td><td>virginica</td></tr><tr><td>7.7</td><td>3.0</td><td>6.1</td><td>2.3</td><td>virginica</td></tr><tr><td>6.3</td><td>3.4</td><td>5.6</td><td>2.4</td><td>virginica</td></tr><tr><td>6.4</td><td>3.1</td><td>5.5</td><td>1.8</td><td>virginica</td></tr><tr><td>6.0</td><td>3.0</td><td>4.8</td><td>1.8</td><td>virginica</td></tr><tr><td>6.9</td><td>3.1</td><td>5.4</td><td>2.1</td><td>virginica</td></tr><tr><td>6.7</td><td>3.1</td><td>5.6</td><td>2.4</td><td>virginica</td></tr><tr><td>6.9</td><td>3.1</td><td>5.1</td><td>2.3</td><td>virginica</td></tr><tr><td>5.8</td><td>2.7</td><td>5.1</td><td>1.9</td><td>virginica</td></tr><tr><td>6.8</td><td>3.2</td><td>5.9</td><td>2.3</td><td>virginica</td></tr><tr><td>6.7</td><td>3.3</td><td>5.7</td><td>2.5</td><td>virginica</td></tr><tr><td>6.7</td><td>3.0</td><td>5.2</td><td>2.3</td><td>virginica</td></tr><tr><td>6.3</td><td>2.5</td><td>5.0</td><td>1.9</td><td>virginica</td></tr><tr><td>6.5</td><td>3.0</td><td>5.2</td><td>2.0</td><td>virginica</td></tr><tr><td>6.2</td><td>3.4</td><td>5.4</td><td>2.3</td><td>virginica</td></tr><tr><td>5.9</td><td>3.0</td><td>5.1</td><td>1.8</td><td>virginica</td></tr></tbody></table></div>"
      ]
     },
     "metadata": {
      "application/vnd.databricks.v1+output": {
       "addedWidgets": {},
       "aggData": [],
       "aggError": "",
       "aggOverflow": false,
       "aggSchema": [],
       "aggSeriesLimitReached": false,
       "aggType": "",
       "arguments": {},
       "columnCustomDisplayInfos": {},
       "data": [
        [
         5.1,
         3.5,
         1.4,
         0.2,
         "setosa"
        ],
        [
         4.9,
         3.0,
         1.4,
         0.2,
         "setosa"
        ],
        [
         4.7,
         3.2,
         1.3,
         0.2,
         "setosa"
        ],
        [
         4.6,
         3.1,
         1.5,
         0.2,
         "setosa"
        ],
        [
         5.0,
         3.6,
         1.4,
         0.2,
         "setosa"
        ],
        [
         5.4,
         3.9,
         1.7,
         0.4,
         "setosa"
        ],
        [
         4.6,
         3.4,
         1.4,
         0.3,
         "setosa"
        ],
        [
         5.0,
         3.4,
         1.5,
         0.2,
         "setosa"
        ],
        [
         4.4,
         2.9,
         1.4,
         0.2,
         "setosa"
        ],
        [
         4.9,
         3.1,
         1.5,
         0.1,
         "setosa"
        ],
        [
         5.4,
         3.7,
         1.5,
         0.2,
         "setosa"
        ],
        [
         4.8,
         3.4,
         1.6,
         0.2,
         "setosa"
        ],
        [
         4.8,
         3.0,
         1.4,
         0.1,
         "setosa"
        ],
        [
         4.3,
         3.0,
         1.1,
         0.1,
         "setosa"
        ],
        [
         5.8,
         4.0,
         1.2,
         0.2,
         "setosa"
        ],
        [
         5.7,
         4.4,
         1.5,
         0.4,
         "setosa"
        ],
        [
         5.4,
         3.9,
         1.3,
         0.4,
         "setosa"
        ],
        [
         5.1,
         3.5,
         1.4,
         0.3,
         "setosa"
        ],
        [
         5.7,
         3.8,
         1.7,
         0.3,
         "setosa"
        ],
        [
         5.1,
         3.8,
         1.5,
         0.3,
         "setosa"
        ],
        [
         5.4,
         3.4,
         1.7,
         0.2,
         "setosa"
        ],
        [
         5.1,
         3.7,
         1.5,
         0.4,
         "setosa"
        ],
        [
         4.6,
         3.6,
         1.0,
         0.2,
         "setosa"
        ],
        [
         5.1,
         3.3,
         1.7,
         0.5,
         "setosa"
        ],
        [
         4.8,
         3.4,
         1.9,
         0.2,
         "setosa"
        ],
        [
         5.0,
         3.0,
         1.6,
         0.2,
         "setosa"
        ],
        [
         5.0,
         3.4,
         1.6,
         0.4,
         "setosa"
        ],
        [
         5.2,
         3.5,
         1.5,
         0.2,
         "setosa"
        ],
        [
         5.2,
         3.4,
         1.4,
         0.2,
         "setosa"
        ],
        [
         4.7,
         3.2,
         1.6,
         0.2,
         "setosa"
        ],
        [
         4.8,
         3.1,
         1.6,
         0.2,
         "setosa"
        ],
        [
         5.4,
         3.4,
         1.5,
         0.4,
         "setosa"
        ],
        [
         5.2,
         4.1,
         1.5,
         0.1,
         "setosa"
        ],
        [
         5.5,
         4.2,
         1.4,
         0.2,
         "setosa"
        ],
        [
         4.9,
         3.1,
         1.5,
         0.1,
         "setosa"
        ],
        [
         5.0,
         3.2,
         1.2,
         0.2,
         "setosa"
        ],
        [
         5.5,
         3.5,
         1.3,
         0.2,
         "setosa"
        ],
        [
         4.9,
         3.1,
         1.5,
         0.1,
         "setosa"
        ],
        [
         4.4,
         3.0,
         1.3,
         0.2,
         "setosa"
        ],
        [
         5.1,
         3.4,
         1.5,
         0.2,
         "setosa"
        ],
        [
         5.0,
         3.5,
         1.3,
         0.3,
         "setosa"
        ],
        [
         4.5,
         2.3,
         1.3,
         0.3,
         "setosa"
        ],
        [
         4.4,
         3.2,
         1.3,
         0.2,
         "setosa"
        ],
        [
         5.0,
         3.5,
         1.6,
         0.6,
         "setosa"
        ],
        [
         5.1,
         3.8,
         1.9,
         0.4,
         "setosa"
        ],
        [
         4.8,
         3.0,
         1.4,
         0.3,
         "setosa"
        ],
        [
         5.1,
         3.8,
         1.6,
         0.2,
         "setosa"
        ],
        [
         4.6,
         3.2,
         1.4,
         0.2,
         "setosa"
        ],
        [
         5.3,
         3.7,
         1.5,
         0.2,
         "setosa"
        ],
        [
         5.0,
         3.3,
         1.4,
         0.2,
         "setosa"
        ],
        [
         7.0,
         3.2,
         4.7,
         1.4,
         "versicolor"
        ],
        [
         6.4,
         3.2,
         4.5,
         1.5,
         "versicolor"
        ],
        [
         6.9,
         3.1,
         4.9,
         1.5,
         "versicolor"
        ],
        [
         5.5,
         2.3,
         4.0,
         1.3,
         "versicolor"
        ],
        [
         6.5,
         2.8,
         4.6,
         1.5,
         "versicolor"
        ],
        [
         5.7,
         2.8,
         4.5,
         1.3,
         "versicolor"
        ],
        [
         6.3,
         3.3,
         4.7,
         1.6,
         "versicolor"
        ],
        [
         4.9,
         2.4,
         3.3,
         1.0,
         "versicolor"
        ],
        [
         6.6,
         2.9,
         4.6,
         1.3,
         "versicolor"
        ],
        [
         5.2,
         2.7,
         3.9,
         1.4,
         "versicolor"
        ],
        [
         5.0,
         2.0,
         3.5,
         1.0,
         "versicolor"
        ],
        [
         5.9,
         3.0,
         4.2,
         1.5,
         "versicolor"
        ],
        [
         6.0,
         2.2,
         4.0,
         1.0,
         "versicolor"
        ],
        [
         6.1,
         2.9,
         4.7,
         1.4,
         "versicolor"
        ],
        [
         5.6,
         2.9,
         3.6,
         1.3,
         "versicolor"
        ],
        [
         6.7,
         3.1,
         4.4,
         1.4,
         "versicolor"
        ],
        [
         5.6,
         3.0,
         4.5,
         1.5,
         "versicolor"
        ],
        [
         5.8,
         2.7,
         4.1,
         1.0,
         "versicolor"
        ],
        [
         6.2,
         2.2,
         4.5,
         1.5,
         "versicolor"
        ],
        [
         5.6,
         2.5,
         3.9,
         1.1,
         "versicolor"
        ],
        [
         5.9,
         3.2,
         4.8,
         1.8,
         "versicolor"
        ],
        [
         6.1,
         2.8,
         4.0,
         1.3,
         "versicolor"
        ],
        [
         6.3,
         2.5,
         4.9,
         1.5,
         "versicolor"
        ],
        [
         6.1,
         2.8,
         4.7,
         1.2,
         "versicolor"
        ],
        [
         6.4,
         2.9,
         4.3,
         1.3,
         "versicolor"
        ],
        [
         6.6,
         3.0,
         4.4,
         1.4,
         "versicolor"
        ],
        [
         6.8,
         2.8,
         4.8,
         1.4,
         "versicolor"
        ],
        [
         6.7,
         3.0,
         5.0,
         1.7,
         "versicolor"
        ],
        [
         6.0,
         2.9,
         4.5,
         1.5,
         "versicolor"
        ],
        [
         5.7,
         2.6,
         3.5,
         1.0,
         "versicolor"
        ],
        [
         5.5,
         2.4,
         3.8,
         1.1,
         "versicolor"
        ],
        [
         5.5,
         2.4,
         3.7,
         1.0,
         "versicolor"
        ],
        [
         5.8,
         2.7,
         3.9,
         1.2,
         "versicolor"
        ],
        [
         6.0,
         2.7,
         5.1,
         1.6,
         "versicolor"
        ],
        [
         5.4,
         3.0,
         4.5,
         1.5,
         "versicolor"
        ],
        [
         6.0,
         3.4,
         4.5,
         1.6,
         "versicolor"
        ],
        [
         6.7,
         3.1,
         4.7,
         1.5,
         "versicolor"
        ],
        [
         6.3,
         2.3,
         4.4,
         1.3,
         "versicolor"
        ],
        [
         5.6,
         3.0,
         4.1,
         1.3,
         "versicolor"
        ],
        [
         5.5,
         2.5,
         4.0,
         1.3,
         "versicolor"
        ],
        [
         5.5,
         2.6,
         4.4,
         1.2,
         "versicolor"
        ],
        [
         6.1,
         3.0,
         4.6,
         1.4,
         "versicolor"
        ],
        [
         5.8,
         2.6,
         4.0,
         1.2,
         "versicolor"
        ],
        [
         5.0,
         2.3,
         3.3,
         1.0,
         "versicolor"
        ],
        [
         5.6,
         2.7,
         4.2,
         1.3,
         "versicolor"
        ],
        [
         5.7,
         3.0,
         4.2,
         1.2,
         "versicolor"
        ],
        [
         5.7,
         2.9,
         4.2,
         1.3,
         "versicolor"
        ],
        [
         6.2,
         2.9,
         4.3,
         1.3,
         "versicolor"
        ],
        [
         5.1,
         2.5,
         3.0,
         1.1,
         "versicolor"
        ],
        [
         5.7,
         2.8,
         4.1,
         1.3,
         "versicolor"
        ],
        [
         6.3,
         3.3,
         6.0,
         2.5,
         "virginica"
        ],
        [
         5.8,
         2.7,
         5.1,
         1.9,
         "virginica"
        ],
        [
         7.1,
         3.0,
         5.9,
         2.1,
         "virginica"
        ],
        [
         6.3,
         2.9,
         5.6,
         1.8,
         "virginica"
        ],
        [
         6.5,
         3.0,
         5.8,
         2.2,
         "virginica"
        ],
        [
         7.6,
         3.0,
         6.6,
         2.1,
         "virginica"
        ],
        [
         4.9,
         2.5,
         4.5,
         1.7,
         "virginica"
        ],
        [
         7.3,
         2.9,
         6.3,
         1.8,
         "virginica"
        ],
        [
         6.7,
         2.5,
         5.8,
         1.8,
         "virginica"
        ],
        [
         7.2,
         3.6,
         6.1,
         2.5,
         "virginica"
        ],
        [
         6.5,
         3.2,
         5.1,
         2.0,
         "virginica"
        ],
        [
         6.4,
         2.7,
         5.3,
         1.9,
         "virginica"
        ],
        [
         6.8,
         3.0,
         5.5,
         2.1,
         "virginica"
        ],
        [
         5.7,
         2.5,
         5.0,
         2.0,
         "virginica"
        ],
        [
         5.8,
         2.8,
         5.1,
         2.4,
         "virginica"
        ],
        [
         6.4,
         3.2,
         5.3,
         2.3,
         "virginica"
        ],
        [
         6.5,
         3.0,
         5.5,
         1.8,
         "virginica"
        ],
        [
         7.7,
         3.8,
         6.7,
         2.2,
         "virginica"
        ],
        [
         7.7,
         2.6,
         6.9,
         2.3,
         "virginica"
        ],
        [
         6.0,
         2.2,
         5.0,
         1.5,
         "virginica"
        ],
        [
         6.9,
         3.2,
         5.7,
         2.3,
         "virginica"
        ],
        [
         5.6,
         2.8,
         4.9,
         2.0,
         "virginica"
        ],
        [
         7.7,
         2.8,
         6.7,
         2.0,
         "virginica"
        ],
        [
         6.3,
         2.7,
         4.9,
         1.8,
         "virginica"
        ],
        [
         6.7,
         3.3,
         5.7,
         2.1,
         "virginica"
        ],
        [
         7.2,
         3.2,
         6.0,
         1.8,
         "virginica"
        ],
        [
         6.2,
         2.8,
         4.8,
         1.8,
         "virginica"
        ],
        [
         6.1,
         3.0,
         4.9,
         1.8,
         "virginica"
        ],
        [
         6.4,
         2.8,
         5.6,
         2.1,
         "virginica"
        ],
        [
         7.2,
         3.0,
         5.8,
         1.6,
         "virginica"
        ],
        [
         7.4,
         2.8,
         6.1,
         1.9,
         "virginica"
        ],
        [
         7.9,
         3.8,
         6.4,
         2.0,
         "virginica"
        ],
        [
         6.4,
         2.8,
         5.6,
         2.2,
         "virginica"
        ],
        [
         6.3,
         2.8,
         5.1,
         1.5,
         "virginica"
        ],
        [
         6.1,
         2.6,
         5.6,
         1.4,
         "virginica"
        ],
        [
         7.7,
         3.0,
         6.1,
         2.3,
         "virginica"
        ],
        [
         6.3,
         3.4,
         5.6,
         2.4,
         "virginica"
        ],
        [
         6.4,
         3.1,
         5.5,
         1.8,
         "virginica"
        ],
        [
         6.0,
         3.0,
         4.8,
         1.8,
         "virginica"
        ],
        [
         6.9,
         3.1,
         5.4,
         2.1,
         "virginica"
        ],
        [
         6.7,
         3.1,
         5.6,
         2.4,
         "virginica"
        ],
        [
         6.9,
         3.1,
         5.1,
         2.3,
         "virginica"
        ],
        [
         5.8,
         2.7,
         5.1,
         1.9,
         "virginica"
        ],
        [
         6.8,
         3.2,
         5.9,
         2.3,
         "virginica"
        ],
        [
         6.7,
         3.3,
         5.7,
         2.5,
         "virginica"
        ],
        [
         6.7,
         3.0,
         5.2,
         2.3,
         "virginica"
        ],
        [
         6.3,
         2.5,
         5.0,
         1.9,
         "virginica"
        ],
        [
         6.5,
         3.0,
         5.2,
         2.0,
         "virginica"
        ],
        [
         6.2,
         3.4,
         5.4,
         2.3,
         "virginica"
        ],
        [
         5.9,
         3.0,
         5.1,
         1.8,
         "virginica"
        ]
       ],
       "datasetInfos": [],
       "dbfsResultPath": null,
       "isJsonSchema": true,
       "metadata": {},
       "overflow": false,
       "plotOptions": {
        "customPlotOptions": {},
        "displayType": "table",
        "pivotAggregation": null,
        "pivotColumns": null,
        "xColumns": null,
        "yColumns": null
       },
       "removedWidgets": [],
       "schema": [
        {
         "metadata": "{}",
         "name": "sepal_length",
         "type": "\"double\""
        },
        {
         "metadata": "{}",
         "name": "sepal_width",
         "type": "\"double\""
        },
        {
         "metadata": "{}",
         "name": "petal_length",
         "type": "\"double\""
        },
        {
         "metadata": "{}",
         "name": "petal_width",
         "type": "\"double\""
        },
        {
         "metadata": "{}",
         "name": "species",
         "type": "\"string\""
        }
       ],
       "type": "table"
      }
     },
     "output_type": "display_data"
    }
   ],
   "source": [
    "iris.display()"
   ]
  },
  {
   "cell_type": "code",
   "execution_count": 0,
   "metadata": {
    "application/vnd.databricks.v1+cell": {
     "cellMetadata": {
      "byteLimit": 2048000,
      "rowLimit": 10000
     },
     "inputWidgets": {},
     "nuid": "73e2a7fa-148b-46c9-a727-00557a1b0203",
     "showTitle": false,
     "title": ""
    }
   },
   "outputs": [
    {
     "output_type": "stream",
     "name": "stdout",
     "output_type": "stream",
     "text": [
      "Out[16]: [('sepal_length', 'double'),\n ('sepal_width', 'double'),\n ('petal_length', 'double'),\n ('petal_width', 'double'),\n ('species', 'string')]"
     ]
    }
   ],
   "source": [
    "iris.dtypes"
   ]
  },
  {
   "cell_type": "code",
   "execution_count": 0,
   "metadata": {
    "application/vnd.databricks.v1+cell": {
     "cellMetadata": {
      "byteLimit": 2048000,
      "rowLimit": 10000
     },
     "inputWidgets": {},
     "nuid": "32207326-e529-4d74-9991-c4313ffa8364",
     "showTitle": false,
     "title": ""
    }
   },
   "outputs": [
    {
     "output_type": "stream",
     "name": "stdout",
     "output_type": "stream",
     "text": [
      "Out[17]: <bound method DataFrame.printSchema of DataFrame[sepal_length: double, sepal_width: double, petal_length: double, petal_width: double, species: string]>"
     ]
    }
   ],
   "source": [
    "iris.printSchema"
   ]
  },
  {
   "cell_type": "code",
   "execution_count": 0,
   "metadata": {
    "application/vnd.databricks.v1+cell": {
     "cellMetadata": {
      "byteLimit": 2048000,
      "rowLimit": 10000
     },
     "inputWidgets": {},
     "nuid": "5b7baab3-00fe-432f-82a3-0235796c1ca8",
     "showTitle": false,
     "title": ""
    }
   },
   "outputs": [
    {
     "output_type": "display_data",
     "data": {
      "text/html": [
       "<style scoped>\n",
       "  .table-result-container {\n",
       "    max-height: 300px;\n",
       "    overflow: auto;\n",
       "  }\n",
       "  table, th, td {\n",
       "    border: 1px solid black;\n",
       "    border-collapse: collapse;\n",
       "  }\n",
       "  th, td {\n",
       "    padding: 5px;\n",
       "  }\n",
       "  th {\n",
       "    text-align: left;\n",
       "  }\n",
       "</style><div class='table-result-container'><table class='table-result'><thead style='background-color: white'><tr><th>summary</th><th>sepal_length</th><th>sepal_width</th><th>petal_length</th><th>petal_width</th><th>species</th></tr></thead><tbody><tr><td>count</td><td>150</td><td>150</td><td>150</td><td>150</td><td>150</td></tr><tr><td>mean</td><td>5.843333333333335</td><td>3.0540000000000007</td><td>3.7586666666666693</td><td>1.1986666666666672</td><td>null</td></tr><tr><td>stddev</td><td>0.8280661279778637</td><td>0.43359431136217375</td><td>1.764420419952262</td><td>0.7631607417008414</td><td>null</td></tr><tr><td>min</td><td>4.3</td><td>2.0</td><td>1.0</td><td>0.1</td><td>setosa</td></tr><tr><td>max</td><td>7.9</td><td>4.4</td><td>6.9</td><td>2.5</td><td>virginica</td></tr></tbody></table></div>"
      ]
     },
     "metadata": {
      "application/vnd.databricks.v1+output": {
       "addedWidgets": {},
       "aggData": [],
       "aggError": "",
       "aggOverflow": false,
       "aggSchema": [],
       "aggSeriesLimitReached": false,
       "aggType": "",
       "arguments": {},
       "columnCustomDisplayInfos": {},
       "data": [
        [
         "count",
         "150",
         "150",
         "150",
         "150",
         "150"
        ],
        [
         "mean",
         "5.843333333333335",
         "3.0540000000000007",
         "3.7586666666666693",
         "1.1986666666666672",
         null
        ],
        [
         "stddev",
         "0.8280661279778637",
         "0.43359431136217375",
         "1.764420419952262",
         "0.7631607417008414",
         null
        ],
        [
         "min",
         "4.3",
         "2.0",
         "1.0",
         "0.1",
         "setosa"
        ],
        [
         "max",
         "7.9",
         "4.4",
         "6.9",
         "2.5",
         "virginica"
        ]
       ],
       "datasetInfos": [],
       "dbfsResultPath": null,
       "isJsonSchema": true,
       "metadata": {},
       "overflow": false,
       "plotOptions": {
        "customPlotOptions": {},
        "displayType": "table",
        "pivotAggregation": null,
        "pivotColumns": null,
        "xColumns": null,
        "yColumns": null
       },
       "removedWidgets": [],
       "schema": [
        {
         "metadata": "{}",
         "name": "summary",
         "type": "\"string\""
        },
        {
         "metadata": "{}",
         "name": "sepal_length",
         "type": "\"string\""
        },
        {
         "metadata": "{}",
         "name": "sepal_width",
         "type": "\"string\""
        },
        {
         "metadata": "{}",
         "name": "petal_length",
         "type": "\"string\""
        },
        {
         "metadata": "{}",
         "name": "petal_width",
         "type": "\"string\""
        },
        {
         "metadata": "{}",
         "name": "species",
         "type": "\"string\""
        }
       ],
       "type": "table"
      }
     },
     "output_type": "display_data"
    }
   ],
   "source": [
    "display(iris.describe())"
   ]
  },
  {
   "cell_type": "code",
   "execution_count": 0,
   "metadata": {
    "application/vnd.databricks.v1+cell": {
     "cellMetadata": {
      "byteLimit": 2048000,
      "rowLimit": 10000
     },
     "inputWidgets": {},
     "nuid": "afdff141-0933-46c8-a50f-feb3074574cd",
     "showTitle": false,
     "title": ""
    }
   },
   "outputs": [
    {
     "output_type": "stream",
     "name": "stdout",
     "output_type": "stream",
     "text": [
      "Out[19]: ['sepal_length', 'sepal_width', 'petal_length', 'petal_width', 'species']"
     ]
    }
   ],
   "source": [
    "iris.columns"
   ]
  },
  {
   "cell_type": "code",
   "execution_count": 0,
   "metadata": {
    "application/vnd.databricks.v1+cell": {
     "cellMetadata": {
      "byteLimit": 2048000,
      "rowLimit": 10000
     },
     "inputWidgets": {},
     "nuid": "06922ce7-ba82-4e37-b4d4-6f912e7841a7",
     "showTitle": false,
     "title": ""
    }
   },
   "outputs": [
    {
     "output_type": "display_data",
     "data": {
      "text/html": [
       "<style scoped>\n",
       "  .table-result-container {\n",
       "    max-height: 300px;\n",
       "    overflow: auto;\n",
       "  }\n",
       "  table, th, td {\n",
       "    border: 1px solid black;\n",
       "    border-collapse: collapse;\n",
       "  }\n",
       "  th, td {\n",
       "    padding: 5px;\n",
       "  }\n",
       "  th {\n",
       "    text-align: left;\n",
       "  }\n",
       "</style><div class='table-result-container'><table class='table-result'><thead style='background-color: white'><tr><th>sepal_length</th><th>sepal_width</th></tr></thead><tbody><tr><td>5.1</td><td>3.5</td></tr><tr><td>4.9</td><td>3.0</td></tr><tr><td>4.7</td><td>3.2</td></tr><tr><td>4.6</td><td>3.1</td></tr><tr><td>5.0</td><td>3.6</td></tr><tr><td>5.4</td><td>3.9</td></tr><tr><td>4.6</td><td>3.4</td></tr><tr><td>5.0</td><td>3.4</td></tr><tr><td>4.4</td><td>2.9</td></tr><tr><td>4.9</td><td>3.1</td></tr><tr><td>5.4</td><td>3.7</td></tr><tr><td>4.8</td><td>3.4</td></tr><tr><td>4.8</td><td>3.0</td></tr><tr><td>4.3</td><td>3.0</td></tr><tr><td>5.8</td><td>4.0</td></tr><tr><td>5.7</td><td>4.4</td></tr><tr><td>5.4</td><td>3.9</td></tr><tr><td>5.1</td><td>3.5</td></tr><tr><td>5.7</td><td>3.8</td></tr><tr><td>5.1</td><td>3.8</td></tr><tr><td>5.4</td><td>3.4</td></tr><tr><td>5.1</td><td>3.7</td></tr><tr><td>4.6</td><td>3.6</td></tr><tr><td>5.1</td><td>3.3</td></tr><tr><td>4.8</td><td>3.4</td></tr><tr><td>5.0</td><td>3.0</td></tr><tr><td>5.0</td><td>3.4</td></tr><tr><td>5.2</td><td>3.5</td></tr><tr><td>5.2</td><td>3.4</td></tr><tr><td>4.7</td><td>3.2</td></tr><tr><td>4.8</td><td>3.1</td></tr><tr><td>5.4</td><td>3.4</td></tr><tr><td>5.2</td><td>4.1</td></tr><tr><td>5.5</td><td>4.2</td></tr><tr><td>4.9</td><td>3.1</td></tr><tr><td>5.0</td><td>3.2</td></tr><tr><td>5.5</td><td>3.5</td></tr><tr><td>4.9</td><td>3.1</td></tr><tr><td>4.4</td><td>3.0</td></tr><tr><td>5.1</td><td>3.4</td></tr><tr><td>5.0</td><td>3.5</td></tr><tr><td>4.5</td><td>2.3</td></tr><tr><td>4.4</td><td>3.2</td></tr><tr><td>5.0</td><td>3.5</td></tr><tr><td>5.1</td><td>3.8</td></tr><tr><td>4.8</td><td>3.0</td></tr><tr><td>5.1</td><td>3.8</td></tr><tr><td>4.6</td><td>3.2</td></tr><tr><td>5.3</td><td>3.7</td></tr><tr><td>5.0</td><td>3.3</td></tr><tr><td>7.0</td><td>3.2</td></tr><tr><td>6.4</td><td>3.2</td></tr><tr><td>6.9</td><td>3.1</td></tr><tr><td>5.5</td><td>2.3</td></tr><tr><td>6.5</td><td>2.8</td></tr><tr><td>5.7</td><td>2.8</td></tr><tr><td>6.3</td><td>3.3</td></tr><tr><td>4.9</td><td>2.4</td></tr><tr><td>6.6</td><td>2.9</td></tr><tr><td>5.2</td><td>2.7</td></tr><tr><td>5.0</td><td>2.0</td></tr><tr><td>5.9</td><td>3.0</td></tr><tr><td>6.0</td><td>2.2</td></tr><tr><td>6.1</td><td>2.9</td></tr><tr><td>5.6</td><td>2.9</td></tr><tr><td>6.7</td><td>3.1</td></tr><tr><td>5.6</td><td>3.0</td></tr><tr><td>5.8</td><td>2.7</td></tr><tr><td>6.2</td><td>2.2</td></tr><tr><td>5.6</td><td>2.5</td></tr><tr><td>5.9</td><td>3.2</td></tr><tr><td>6.1</td><td>2.8</td></tr><tr><td>6.3</td><td>2.5</td></tr><tr><td>6.1</td><td>2.8</td></tr><tr><td>6.4</td><td>2.9</td></tr><tr><td>6.6</td><td>3.0</td></tr><tr><td>6.8</td><td>2.8</td></tr><tr><td>6.7</td><td>3.0</td></tr><tr><td>6.0</td><td>2.9</td></tr><tr><td>5.7</td><td>2.6</td></tr><tr><td>5.5</td><td>2.4</td></tr><tr><td>5.5</td><td>2.4</td></tr><tr><td>5.8</td><td>2.7</td></tr><tr><td>6.0</td><td>2.7</td></tr><tr><td>5.4</td><td>3.0</td></tr><tr><td>6.0</td><td>3.4</td></tr><tr><td>6.7</td><td>3.1</td></tr><tr><td>6.3</td><td>2.3</td></tr><tr><td>5.6</td><td>3.0</td></tr><tr><td>5.5</td><td>2.5</td></tr><tr><td>5.5</td><td>2.6</td></tr><tr><td>6.1</td><td>3.0</td></tr><tr><td>5.8</td><td>2.6</td></tr><tr><td>5.0</td><td>2.3</td></tr><tr><td>5.6</td><td>2.7</td></tr><tr><td>5.7</td><td>3.0</td></tr><tr><td>5.7</td><td>2.9</td></tr><tr><td>6.2</td><td>2.9</td></tr><tr><td>5.1</td><td>2.5</td></tr><tr><td>5.7</td><td>2.8</td></tr><tr><td>6.3</td><td>3.3</td></tr><tr><td>5.8</td><td>2.7</td></tr><tr><td>7.1</td><td>3.0</td></tr><tr><td>6.3</td><td>2.9</td></tr><tr><td>6.5</td><td>3.0</td></tr><tr><td>7.6</td><td>3.0</td></tr><tr><td>4.9</td><td>2.5</td></tr><tr><td>7.3</td><td>2.9</td></tr><tr><td>6.7</td><td>2.5</td></tr><tr><td>7.2</td><td>3.6</td></tr><tr><td>6.5</td><td>3.2</td></tr><tr><td>6.4</td><td>2.7</td></tr><tr><td>6.8</td><td>3.0</td></tr><tr><td>5.7</td><td>2.5</td></tr><tr><td>5.8</td><td>2.8</td></tr><tr><td>6.4</td><td>3.2</td></tr><tr><td>6.5</td><td>3.0</td></tr><tr><td>7.7</td><td>3.8</td></tr><tr><td>7.7</td><td>2.6</td></tr><tr><td>6.0</td><td>2.2</td></tr><tr><td>6.9</td><td>3.2</td></tr><tr><td>5.6</td><td>2.8</td></tr><tr><td>7.7</td><td>2.8</td></tr><tr><td>6.3</td><td>2.7</td></tr><tr><td>6.7</td><td>3.3</td></tr><tr><td>7.2</td><td>3.2</td></tr><tr><td>6.2</td><td>2.8</td></tr><tr><td>6.1</td><td>3.0</td></tr><tr><td>6.4</td><td>2.8</td></tr><tr><td>7.2</td><td>3.0</td></tr><tr><td>7.4</td><td>2.8</td></tr><tr><td>7.9</td><td>3.8</td></tr><tr><td>6.4</td><td>2.8</td></tr><tr><td>6.3</td><td>2.8</td></tr><tr><td>6.1</td><td>2.6</td></tr><tr><td>7.7</td><td>3.0</td></tr><tr><td>6.3</td><td>3.4</td></tr><tr><td>6.4</td><td>3.1</td></tr><tr><td>6.0</td><td>3.0</td></tr><tr><td>6.9</td><td>3.1</td></tr><tr><td>6.7</td><td>3.1</td></tr><tr><td>6.9</td><td>3.1</td></tr><tr><td>5.8</td><td>2.7</td></tr><tr><td>6.8</td><td>3.2</td></tr><tr><td>6.7</td><td>3.3</td></tr><tr><td>6.7</td><td>3.0</td></tr><tr><td>6.3</td><td>2.5</td></tr><tr><td>6.5</td><td>3.0</td></tr><tr><td>6.2</td><td>3.4</td></tr><tr><td>5.9</td><td>3.0</td></tr></tbody></table></div>"
      ]
     },
     "metadata": {
      "application/vnd.databricks.v1+output": {
       "addedWidgets": {},
       "aggData": [],
       "aggError": "",
       "aggOverflow": false,
       "aggSchema": [],
       "aggSeriesLimitReached": false,
       "aggType": "",
       "arguments": {},
       "columnCustomDisplayInfos": {},
       "data": [
        [
         5.1,
         3.5
        ],
        [
         4.9,
         3.0
        ],
        [
         4.7,
         3.2
        ],
        [
         4.6,
         3.1
        ],
        [
         5.0,
         3.6
        ],
        [
         5.4,
         3.9
        ],
        [
         4.6,
         3.4
        ],
        [
         5.0,
         3.4
        ],
        [
         4.4,
         2.9
        ],
        [
         4.9,
         3.1
        ],
        [
         5.4,
         3.7
        ],
        [
         4.8,
         3.4
        ],
        [
         4.8,
         3.0
        ],
        [
         4.3,
         3.0
        ],
        [
         5.8,
         4.0
        ],
        [
         5.7,
         4.4
        ],
        [
         5.4,
         3.9
        ],
        [
         5.1,
         3.5
        ],
        [
         5.7,
         3.8
        ],
        [
         5.1,
         3.8
        ],
        [
         5.4,
         3.4
        ],
        [
         5.1,
         3.7
        ],
        [
         4.6,
         3.6
        ],
        [
         5.1,
         3.3
        ],
        [
         4.8,
         3.4
        ],
        [
         5.0,
         3.0
        ],
        [
         5.0,
         3.4
        ],
        [
         5.2,
         3.5
        ],
        [
         5.2,
         3.4
        ],
        [
         4.7,
         3.2
        ],
        [
         4.8,
         3.1
        ],
        [
         5.4,
         3.4
        ],
        [
         5.2,
         4.1
        ],
        [
         5.5,
         4.2
        ],
        [
         4.9,
         3.1
        ],
        [
         5.0,
         3.2
        ],
        [
         5.5,
         3.5
        ],
        [
         4.9,
         3.1
        ],
        [
         4.4,
         3.0
        ],
        [
         5.1,
         3.4
        ],
        [
         5.0,
         3.5
        ],
        [
         4.5,
         2.3
        ],
        [
         4.4,
         3.2
        ],
        [
         5.0,
         3.5
        ],
        [
         5.1,
         3.8
        ],
        [
         4.8,
         3.0
        ],
        [
         5.1,
         3.8
        ],
        [
         4.6,
         3.2
        ],
        [
         5.3,
         3.7
        ],
        [
         5.0,
         3.3
        ],
        [
         7.0,
         3.2
        ],
        [
         6.4,
         3.2
        ],
        [
         6.9,
         3.1
        ],
        [
         5.5,
         2.3
        ],
        [
         6.5,
         2.8
        ],
        [
         5.7,
         2.8
        ],
        [
         6.3,
         3.3
        ],
        [
         4.9,
         2.4
        ],
        [
         6.6,
         2.9
        ],
        [
         5.2,
         2.7
        ],
        [
         5.0,
         2.0
        ],
        [
         5.9,
         3.0
        ],
        [
         6.0,
         2.2
        ],
        [
         6.1,
         2.9
        ],
        [
         5.6,
         2.9
        ],
        [
         6.7,
         3.1
        ],
        [
         5.6,
         3.0
        ],
        [
         5.8,
         2.7
        ],
        [
         6.2,
         2.2
        ],
        [
         5.6,
         2.5
        ],
        [
         5.9,
         3.2
        ],
        [
         6.1,
         2.8
        ],
        [
         6.3,
         2.5
        ],
        [
         6.1,
         2.8
        ],
        [
         6.4,
         2.9
        ],
        [
         6.6,
         3.0
        ],
        [
         6.8,
         2.8
        ],
        [
         6.7,
         3.0
        ],
        [
         6.0,
         2.9
        ],
        [
         5.7,
         2.6
        ],
        [
         5.5,
         2.4
        ],
        [
         5.5,
         2.4
        ],
        [
         5.8,
         2.7
        ],
        [
         6.0,
         2.7
        ],
        [
         5.4,
         3.0
        ],
        [
         6.0,
         3.4
        ],
        [
         6.7,
         3.1
        ],
        [
         6.3,
         2.3
        ],
        [
         5.6,
         3.0
        ],
        [
         5.5,
         2.5
        ],
        [
         5.5,
         2.6
        ],
        [
         6.1,
         3.0
        ],
        [
         5.8,
         2.6
        ],
        [
         5.0,
         2.3
        ],
        [
         5.6,
         2.7
        ],
        [
         5.7,
         3.0
        ],
        [
         5.7,
         2.9
        ],
        [
         6.2,
         2.9
        ],
        [
         5.1,
         2.5
        ],
        [
         5.7,
         2.8
        ],
        [
         6.3,
         3.3
        ],
        [
         5.8,
         2.7
        ],
        [
         7.1,
         3.0
        ],
        [
         6.3,
         2.9
        ],
        [
         6.5,
         3.0
        ],
        [
         7.6,
         3.0
        ],
        [
         4.9,
         2.5
        ],
        [
         7.3,
         2.9
        ],
        [
         6.7,
         2.5
        ],
        [
         7.2,
         3.6
        ],
        [
         6.5,
         3.2
        ],
        [
         6.4,
         2.7
        ],
        [
         6.8,
         3.0
        ],
        [
         5.7,
         2.5
        ],
        [
         5.8,
         2.8
        ],
        [
         6.4,
         3.2
        ],
        [
         6.5,
         3.0
        ],
        [
         7.7,
         3.8
        ],
        [
         7.7,
         2.6
        ],
        [
         6.0,
         2.2
        ],
        [
         6.9,
         3.2
        ],
        [
         5.6,
         2.8
        ],
        [
         7.7,
         2.8
        ],
        [
         6.3,
         2.7
        ],
        [
         6.7,
         3.3
        ],
        [
         7.2,
         3.2
        ],
        [
         6.2,
         2.8
        ],
        [
         6.1,
         3.0
        ],
        [
         6.4,
         2.8
        ],
        [
         7.2,
         3.0
        ],
        [
         7.4,
         2.8
        ],
        [
         7.9,
         3.8
        ],
        [
         6.4,
         2.8
        ],
        [
         6.3,
         2.8
        ],
        [
         6.1,
         2.6
        ],
        [
         7.7,
         3.0
        ],
        [
         6.3,
         3.4
        ],
        [
         6.4,
         3.1
        ],
        [
         6.0,
         3.0
        ],
        [
         6.9,
         3.1
        ],
        [
         6.7,
         3.1
        ],
        [
         6.9,
         3.1
        ],
        [
         5.8,
         2.7
        ],
        [
         6.8,
         3.2
        ],
        [
         6.7,
         3.3
        ],
        [
         6.7,
         3.0
        ],
        [
         6.3,
         2.5
        ],
        [
         6.5,
         3.0
        ],
        [
         6.2,
         3.4
        ],
        [
         5.9,
         3.0
        ]
       ],
       "datasetInfos": [],
       "dbfsResultPath": null,
       "isJsonSchema": true,
       "metadata": {},
       "overflow": false,
       "plotOptions": {
        "customPlotOptions": {},
        "displayType": "table",
        "pivotAggregation": null,
        "pivotColumns": null,
        "xColumns": null,
        "yColumns": null
       },
       "removedWidgets": [],
       "schema": [
        {
         "metadata": "{}",
         "name": "sepal_length",
         "type": "\"double\""
        },
        {
         "metadata": "{}",
         "name": "sepal_width",
         "type": "\"double\""
        }
       ],
       "type": "table"
      }
     },
     "output_type": "display_data"
    }
   ],
   "source": [
    "iris.select('sepal_length','sepal_width').display()"
   ]
  },
  {
   "cell_type": "code",
   "execution_count": 0,
   "metadata": {
    "application/vnd.databricks.v1+cell": {
     "cellMetadata": {
      "byteLimit": 2048000,
      "rowLimit": 10000
     },
     "inputWidgets": {},
     "nuid": "d85d7f33-340e-4a22-ad9b-e9fc472395e6",
     "showTitle": false,
     "title": ""
    }
   },
   "outputs": [
    {
     "output_type": "display_data",
     "data": {
      "text/html": [
       "<style scoped>\n",
       "  .table-result-container {\n",
       "    max-height: 300px;\n",
       "    overflow: auto;\n",
       "  }\n",
       "  table, th, td {\n",
       "    border: 1px solid black;\n",
       "    border-collapse: collapse;\n",
       "  }\n",
       "  th, td {\n",
       "    padding: 5px;\n",
       "  }\n",
       "  th {\n",
       "    text-align: left;\n",
       "  }\n",
       "</style><div class='table-result-container'><table class='table-result'><thead style='background-color: white'><tr><th>sepal_width</th><th>petal_length</th><th>petal_width</th><th>species</th></tr></thead><tbody><tr><td>3.5</td><td>1.4</td><td>0.2</td><td>setosa</td></tr><tr><td>3.0</td><td>1.4</td><td>0.2</td><td>setosa</td></tr><tr><td>3.2</td><td>1.3</td><td>0.2</td><td>setosa</td></tr><tr><td>3.1</td><td>1.5</td><td>0.2</td><td>setosa</td></tr><tr><td>3.6</td><td>1.4</td><td>0.2</td><td>setosa</td></tr><tr><td>3.9</td><td>1.7</td><td>0.4</td><td>setosa</td></tr><tr><td>3.4</td><td>1.4</td><td>0.3</td><td>setosa</td></tr><tr><td>3.4</td><td>1.5</td><td>0.2</td><td>setosa</td></tr><tr><td>2.9</td><td>1.4</td><td>0.2</td><td>setosa</td></tr><tr><td>3.1</td><td>1.5</td><td>0.1</td><td>setosa</td></tr><tr><td>3.7</td><td>1.5</td><td>0.2</td><td>setosa</td></tr><tr><td>3.4</td><td>1.6</td><td>0.2</td><td>setosa</td></tr><tr><td>3.0</td><td>1.4</td><td>0.1</td><td>setosa</td></tr><tr><td>3.0</td><td>1.1</td><td>0.1</td><td>setosa</td></tr><tr><td>4.0</td><td>1.2</td><td>0.2</td><td>setosa</td></tr><tr><td>4.4</td><td>1.5</td><td>0.4</td><td>setosa</td></tr><tr><td>3.9</td><td>1.3</td><td>0.4</td><td>setosa</td></tr><tr><td>3.5</td><td>1.4</td><td>0.3</td><td>setosa</td></tr><tr><td>3.8</td><td>1.7</td><td>0.3</td><td>setosa</td></tr><tr><td>3.8</td><td>1.5</td><td>0.3</td><td>setosa</td></tr><tr><td>3.4</td><td>1.7</td><td>0.2</td><td>setosa</td></tr><tr><td>3.7</td><td>1.5</td><td>0.4</td><td>setosa</td></tr><tr><td>3.6</td><td>1.0</td><td>0.2</td><td>setosa</td></tr><tr><td>3.3</td><td>1.7</td><td>0.5</td><td>setosa</td></tr><tr><td>3.4</td><td>1.9</td><td>0.2</td><td>setosa</td></tr><tr><td>3.0</td><td>1.6</td><td>0.2</td><td>setosa</td></tr><tr><td>3.4</td><td>1.6</td><td>0.4</td><td>setosa</td></tr><tr><td>3.5</td><td>1.5</td><td>0.2</td><td>setosa</td></tr><tr><td>3.4</td><td>1.4</td><td>0.2</td><td>setosa</td></tr><tr><td>3.2</td><td>1.6</td><td>0.2</td><td>setosa</td></tr><tr><td>3.1</td><td>1.6</td><td>0.2</td><td>setosa</td></tr><tr><td>3.4</td><td>1.5</td><td>0.4</td><td>setosa</td></tr><tr><td>4.1</td><td>1.5</td><td>0.1</td><td>setosa</td></tr><tr><td>4.2</td><td>1.4</td><td>0.2</td><td>setosa</td></tr><tr><td>3.1</td><td>1.5</td><td>0.1</td><td>setosa</td></tr><tr><td>3.2</td><td>1.2</td><td>0.2</td><td>setosa</td></tr><tr><td>3.5</td><td>1.3</td><td>0.2</td><td>setosa</td></tr><tr><td>3.1</td><td>1.5</td><td>0.1</td><td>setosa</td></tr><tr><td>3.0</td><td>1.3</td><td>0.2</td><td>setosa</td></tr><tr><td>3.4</td><td>1.5</td><td>0.2</td><td>setosa</td></tr><tr><td>3.5</td><td>1.3</td><td>0.3</td><td>setosa</td></tr><tr><td>2.3</td><td>1.3</td><td>0.3</td><td>setosa</td></tr><tr><td>3.2</td><td>1.3</td><td>0.2</td><td>setosa</td></tr><tr><td>3.5</td><td>1.6</td><td>0.6</td><td>setosa</td></tr><tr><td>3.8</td><td>1.9</td><td>0.4</td><td>setosa</td></tr><tr><td>3.0</td><td>1.4</td><td>0.3</td><td>setosa</td></tr><tr><td>3.8</td><td>1.6</td><td>0.2</td><td>setosa</td></tr><tr><td>3.2</td><td>1.4</td><td>0.2</td><td>setosa</td></tr><tr><td>3.7</td><td>1.5</td><td>0.2</td><td>setosa</td></tr><tr><td>3.3</td><td>1.4</td><td>0.2</td><td>setosa</td></tr><tr><td>3.2</td><td>4.7</td><td>1.4</td><td>versicolor</td></tr><tr><td>3.2</td><td>4.5</td><td>1.5</td><td>versicolor</td></tr><tr><td>3.1</td><td>4.9</td><td>1.5</td><td>versicolor</td></tr><tr><td>2.3</td><td>4.0</td><td>1.3</td><td>versicolor</td></tr><tr><td>2.8</td><td>4.6</td><td>1.5</td><td>versicolor</td></tr><tr><td>2.8</td><td>4.5</td><td>1.3</td><td>versicolor</td></tr><tr><td>3.3</td><td>4.7</td><td>1.6</td><td>versicolor</td></tr><tr><td>2.4</td><td>3.3</td><td>1.0</td><td>versicolor</td></tr><tr><td>2.9</td><td>4.6</td><td>1.3</td><td>versicolor</td></tr><tr><td>2.7</td><td>3.9</td><td>1.4</td><td>versicolor</td></tr><tr><td>2.0</td><td>3.5</td><td>1.0</td><td>versicolor</td></tr><tr><td>3.0</td><td>4.2</td><td>1.5</td><td>versicolor</td></tr><tr><td>2.2</td><td>4.0</td><td>1.0</td><td>versicolor</td></tr><tr><td>2.9</td><td>4.7</td><td>1.4</td><td>versicolor</td></tr><tr><td>2.9</td><td>3.6</td><td>1.3</td><td>versicolor</td></tr><tr><td>3.1</td><td>4.4</td><td>1.4</td><td>versicolor</td></tr><tr><td>3.0</td><td>4.5</td><td>1.5</td><td>versicolor</td></tr><tr><td>2.7</td><td>4.1</td><td>1.0</td><td>versicolor</td></tr><tr><td>2.2</td><td>4.5</td><td>1.5</td><td>versicolor</td></tr><tr><td>2.5</td><td>3.9</td><td>1.1</td><td>versicolor</td></tr><tr><td>3.2</td><td>4.8</td><td>1.8</td><td>versicolor</td></tr><tr><td>2.8</td><td>4.0</td><td>1.3</td><td>versicolor</td></tr><tr><td>2.5</td><td>4.9</td><td>1.5</td><td>versicolor</td></tr><tr><td>2.8</td><td>4.7</td><td>1.2</td><td>versicolor</td></tr><tr><td>2.9</td><td>4.3</td><td>1.3</td><td>versicolor</td></tr><tr><td>3.0</td><td>4.4</td><td>1.4</td><td>versicolor</td></tr><tr><td>2.8</td><td>4.8</td><td>1.4</td><td>versicolor</td></tr><tr><td>3.0</td><td>5.0</td><td>1.7</td><td>versicolor</td></tr><tr><td>2.9</td><td>4.5</td><td>1.5</td><td>versicolor</td></tr><tr><td>2.6</td><td>3.5</td><td>1.0</td><td>versicolor</td></tr><tr><td>2.4</td><td>3.8</td><td>1.1</td><td>versicolor</td></tr><tr><td>2.4</td><td>3.7</td><td>1.0</td><td>versicolor</td></tr><tr><td>2.7</td><td>3.9</td><td>1.2</td><td>versicolor</td></tr><tr><td>2.7</td><td>5.1</td><td>1.6</td><td>versicolor</td></tr><tr><td>3.0</td><td>4.5</td><td>1.5</td><td>versicolor</td></tr><tr><td>3.4</td><td>4.5</td><td>1.6</td><td>versicolor</td></tr><tr><td>3.1</td><td>4.7</td><td>1.5</td><td>versicolor</td></tr><tr><td>2.3</td><td>4.4</td><td>1.3</td><td>versicolor</td></tr><tr><td>3.0</td><td>4.1</td><td>1.3</td><td>versicolor</td></tr><tr><td>2.5</td><td>4.0</td><td>1.3</td><td>versicolor</td></tr><tr><td>2.6</td><td>4.4</td><td>1.2</td><td>versicolor</td></tr><tr><td>3.0</td><td>4.6</td><td>1.4</td><td>versicolor</td></tr><tr><td>2.6</td><td>4.0</td><td>1.2</td><td>versicolor</td></tr><tr><td>2.3</td><td>3.3</td><td>1.0</td><td>versicolor</td></tr><tr><td>2.7</td><td>4.2</td><td>1.3</td><td>versicolor</td></tr><tr><td>3.0</td><td>4.2</td><td>1.2</td><td>versicolor</td></tr><tr><td>2.9</td><td>4.2</td><td>1.3</td><td>versicolor</td></tr><tr><td>2.9</td><td>4.3</td><td>1.3</td><td>versicolor</td></tr><tr><td>2.5</td><td>3.0</td><td>1.1</td><td>versicolor</td></tr><tr><td>2.8</td><td>4.1</td><td>1.3</td><td>versicolor</td></tr><tr><td>3.3</td><td>6.0</td><td>2.5</td><td>virginica</td></tr><tr><td>2.7</td><td>5.1</td><td>1.9</td><td>virginica</td></tr><tr><td>3.0</td><td>5.9</td><td>2.1</td><td>virginica</td></tr><tr><td>2.9</td><td>5.6</td><td>1.8</td><td>virginica</td></tr><tr><td>3.0</td><td>5.8</td><td>2.2</td><td>virginica</td></tr><tr><td>3.0</td><td>6.6</td><td>2.1</td><td>virginica</td></tr><tr><td>2.5</td><td>4.5</td><td>1.7</td><td>virginica</td></tr><tr><td>2.9</td><td>6.3</td><td>1.8</td><td>virginica</td></tr><tr><td>2.5</td><td>5.8</td><td>1.8</td><td>virginica</td></tr><tr><td>3.6</td><td>6.1</td><td>2.5</td><td>virginica</td></tr><tr><td>3.2</td><td>5.1</td><td>2.0</td><td>virginica</td></tr><tr><td>2.7</td><td>5.3</td><td>1.9</td><td>virginica</td></tr><tr><td>3.0</td><td>5.5</td><td>2.1</td><td>virginica</td></tr><tr><td>2.5</td><td>5.0</td><td>2.0</td><td>virginica</td></tr><tr><td>2.8</td><td>5.1</td><td>2.4</td><td>virginica</td></tr><tr><td>3.2</td><td>5.3</td><td>2.3</td><td>virginica</td></tr><tr><td>3.0</td><td>5.5</td><td>1.8</td><td>virginica</td></tr><tr><td>3.8</td><td>6.7</td><td>2.2</td><td>virginica</td></tr><tr><td>2.6</td><td>6.9</td><td>2.3</td><td>virginica</td></tr><tr><td>2.2</td><td>5.0</td><td>1.5</td><td>virginica</td></tr><tr><td>3.2</td><td>5.7</td><td>2.3</td><td>virginica</td></tr><tr><td>2.8</td><td>4.9</td><td>2.0</td><td>virginica</td></tr><tr><td>2.8</td><td>6.7</td><td>2.0</td><td>virginica</td></tr><tr><td>2.7</td><td>4.9</td><td>1.8</td><td>virginica</td></tr><tr><td>3.3</td><td>5.7</td><td>2.1</td><td>virginica</td></tr><tr><td>3.2</td><td>6.0</td><td>1.8</td><td>virginica</td></tr><tr><td>2.8</td><td>4.8</td><td>1.8</td><td>virginica</td></tr><tr><td>3.0</td><td>4.9</td><td>1.8</td><td>virginica</td></tr><tr><td>2.8</td><td>5.6</td><td>2.1</td><td>virginica</td></tr><tr><td>3.0</td><td>5.8</td><td>1.6</td><td>virginica</td></tr><tr><td>2.8</td><td>6.1</td><td>1.9</td><td>virginica</td></tr><tr><td>3.8</td><td>6.4</td><td>2.0</td><td>virginica</td></tr><tr><td>2.8</td><td>5.6</td><td>2.2</td><td>virginica</td></tr><tr><td>2.8</td><td>5.1</td><td>1.5</td><td>virginica</td></tr><tr><td>2.6</td><td>5.6</td><td>1.4</td><td>virginica</td></tr><tr><td>3.0</td><td>6.1</td><td>2.3</td><td>virginica</td></tr><tr><td>3.4</td><td>5.6</td><td>2.4</td><td>virginica</td></tr><tr><td>3.1</td><td>5.5</td><td>1.8</td><td>virginica</td></tr><tr><td>3.0</td><td>4.8</td><td>1.8</td><td>virginica</td></tr><tr><td>3.1</td><td>5.4</td><td>2.1</td><td>virginica</td></tr><tr><td>3.1</td><td>5.6</td><td>2.4</td><td>virginica</td></tr><tr><td>3.1</td><td>5.1</td><td>2.3</td><td>virginica</td></tr><tr><td>2.7</td><td>5.1</td><td>1.9</td><td>virginica</td></tr><tr><td>3.2</td><td>5.9</td><td>2.3</td><td>virginica</td></tr><tr><td>3.3</td><td>5.7</td><td>2.5</td><td>virginica</td></tr><tr><td>3.0</td><td>5.2</td><td>2.3</td><td>virginica</td></tr><tr><td>2.5</td><td>5.0</td><td>1.9</td><td>virginica</td></tr><tr><td>3.0</td><td>5.2</td><td>2.0</td><td>virginica</td></tr><tr><td>3.4</td><td>5.4</td><td>2.3</td><td>virginica</td></tr><tr><td>3.0</td><td>5.1</td><td>1.8</td><td>virginica</td></tr></tbody></table></div>"
      ]
     },
     "metadata": {
      "application/vnd.databricks.v1+output": {
       "addedWidgets": {},
       "aggData": [],
       "aggError": "",
       "aggOverflow": false,
       "aggSchema": [],
       "aggSeriesLimitReached": false,
       "aggType": "",
       "arguments": {},
       "columnCustomDisplayInfos": {},
       "data": [
        [
         3.5,
         1.4,
         0.2,
         "setosa"
        ],
        [
         3.0,
         1.4,
         0.2,
         "setosa"
        ],
        [
         3.2,
         1.3,
         0.2,
         "setosa"
        ],
        [
         3.1,
         1.5,
         0.2,
         "setosa"
        ],
        [
         3.6,
         1.4,
         0.2,
         "setosa"
        ],
        [
         3.9,
         1.7,
         0.4,
         "setosa"
        ],
        [
         3.4,
         1.4,
         0.3,
         "setosa"
        ],
        [
         3.4,
         1.5,
         0.2,
         "setosa"
        ],
        [
         2.9,
         1.4,
         0.2,
         "setosa"
        ],
        [
         3.1,
         1.5,
         0.1,
         "setosa"
        ],
        [
         3.7,
         1.5,
         0.2,
         "setosa"
        ],
        [
         3.4,
         1.6,
         0.2,
         "setosa"
        ],
        [
         3.0,
         1.4,
         0.1,
         "setosa"
        ],
        [
         3.0,
         1.1,
         0.1,
         "setosa"
        ],
        [
         4.0,
         1.2,
         0.2,
         "setosa"
        ],
        [
         4.4,
         1.5,
         0.4,
         "setosa"
        ],
        [
         3.9,
         1.3,
         0.4,
         "setosa"
        ],
        [
         3.5,
         1.4,
         0.3,
         "setosa"
        ],
        [
         3.8,
         1.7,
         0.3,
         "setosa"
        ],
        [
         3.8,
         1.5,
         0.3,
         "setosa"
        ],
        [
         3.4,
         1.7,
         0.2,
         "setosa"
        ],
        [
         3.7,
         1.5,
         0.4,
         "setosa"
        ],
        [
         3.6,
         1.0,
         0.2,
         "setosa"
        ],
        [
         3.3,
         1.7,
         0.5,
         "setosa"
        ],
        [
         3.4,
         1.9,
         0.2,
         "setosa"
        ],
        [
         3.0,
         1.6,
         0.2,
         "setosa"
        ],
        [
         3.4,
         1.6,
         0.4,
         "setosa"
        ],
        [
         3.5,
         1.5,
         0.2,
         "setosa"
        ],
        [
         3.4,
         1.4,
         0.2,
         "setosa"
        ],
        [
         3.2,
         1.6,
         0.2,
         "setosa"
        ],
        [
         3.1,
         1.6,
         0.2,
         "setosa"
        ],
        [
         3.4,
         1.5,
         0.4,
         "setosa"
        ],
        [
         4.1,
         1.5,
         0.1,
         "setosa"
        ],
        [
         4.2,
         1.4,
         0.2,
         "setosa"
        ],
        [
         3.1,
         1.5,
         0.1,
         "setosa"
        ],
        [
         3.2,
         1.2,
         0.2,
         "setosa"
        ],
        [
         3.5,
         1.3,
         0.2,
         "setosa"
        ],
        [
         3.1,
         1.5,
         0.1,
         "setosa"
        ],
        [
         3.0,
         1.3,
         0.2,
         "setosa"
        ],
        [
         3.4,
         1.5,
         0.2,
         "setosa"
        ],
        [
         3.5,
         1.3,
         0.3,
         "setosa"
        ],
        [
         2.3,
         1.3,
         0.3,
         "setosa"
        ],
        [
         3.2,
         1.3,
         0.2,
         "setosa"
        ],
        [
         3.5,
         1.6,
         0.6,
         "setosa"
        ],
        [
         3.8,
         1.9,
         0.4,
         "setosa"
        ],
        [
         3.0,
         1.4,
         0.3,
         "setosa"
        ],
        [
         3.8,
         1.6,
         0.2,
         "setosa"
        ],
        [
         3.2,
         1.4,
         0.2,
         "setosa"
        ],
        [
         3.7,
         1.5,
         0.2,
         "setosa"
        ],
        [
         3.3,
         1.4,
         0.2,
         "setosa"
        ],
        [
         3.2,
         4.7,
         1.4,
         "versicolor"
        ],
        [
         3.2,
         4.5,
         1.5,
         "versicolor"
        ],
        [
         3.1,
         4.9,
         1.5,
         "versicolor"
        ],
        [
         2.3,
         4.0,
         1.3,
         "versicolor"
        ],
        [
         2.8,
         4.6,
         1.5,
         "versicolor"
        ],
        [
         2.8,
         4.5,
         1.3,
         "versicolor"
        ],
        [
         3.3,
         4.7,
         1.6,
         "versicolor"
        ],
        [
         2.4,
         3.3,
         1.0,
         "versicolor"
        ],
        [
         2.9,
         4.6,
         1.3,
         "versicolor"
        ],
        [
         2.7,
         3.9,
         1.4,
         "versicolor"
        ],
        [
         2.0,
         3.5,
         1.0,
         "versicolor"
        ],
        [
         3.0,
         4.2,
         1.5,
         "versicolor"
        ],
        [
         2.2,
         4.0,
         1.0,
         "versicolor"
        ],
        [
         2.9,
         4.7,
         1.4,
         "versicolor"
        ],
        [
         2.9,
         3.6,
         1.3,
         "versicolor"
        ],
        [
         3.1,
         4.4,
         1.4,
         "versicolor"
        ],
        [
         3.0,
         4.5,
         1.5,
         "versicolor"
        ],
        [
         2.7,
         4.1,
         1.0,
         "versicolor"
        ],
        [
         2.2,
         4.5,
         1.5,
         "versicolor"
        ],
        [
         2.5,
         3.9,
         1.1,
         "versicolor"
        ],
        [
         3.2,
         4.8,
         1.8,
         "versicolor"
        ],
        [
         2.8,
         4.0,
         1.3,
         "versicolor"
        ],
        [
         2.5,
         4.9,
         1.5,
         "versicolor"
        ],
        [
         2.8,
         4.7,
         1.2,
         "versicolor"
        ],
        [
         2.9,
         4.3,
         1.3,
         "versicolor"
        ],
        [
         3.0,
         4.4,
         1.4,
         "versicolor"
        ],
        [
         2.8,
         4.8,
         1.4,
         "versicolor"
        ],
        [
         3.0,
         5.0,
         1.7,
         "versicolor"
        ],
        [
         2.9,
         4.5,
         1.5,
         "versicolor"
        ],
        [
         2.6,
         3.5,
         1.0,
         "versicolor"
        ],
        [
         2.4,
         3.8,
         1.1,
         "versicolor"
        ],
        [
         2.4,
         3.7,
         1.0,
         "versicolor"
        ],
        [
         2.7,
         3.9,
         1.2,
         "versicolor"
        ],
        [
         2.7,
         5.1,
         1.6,
         "versicolor"
        ],
        [
         3.0,
         4.5,
         1.5,
         "versicolor"
        ],
        [
         3.4,
         4.5,
         1.6,
         "versicolor"
        ],
        [
         3.1,
         4.7,
         1.5,
         "versicolor"
        ],
        [
         2.3,
         4.4,
         1.3,
         "versicolor"
        ],
        [
         3.0,
         4.1,
         1.3,
         "versicolor"
        ],
        [
         2.5,
         4.0,
         1.3,
         "versicolor"
        ],
        [
         2.6,
         4.4,
         1.2,
         "versicolor"
        ],
        [
         3.0,
         4.6,
         1.4,
         "versicolor"
        ],
        [
         2.6,
         4.0,
         1.2,
         "versicolor"
        ],
        [
         2.3,
         3.3,
         1.0,
         "versicolor"
        ],
        [
         2.7,
         4.2,
         1.3,
         "versicolor"
        ],
        [
         3.0,
         4.2,
         1.2,
         "versicolor"
        ],
        [
         2.9,
         4.2,
         1.3,
         "versicolor"
        ],
        [
         2.9,
         4.3,
         1.3,
         "versicolor"
        ],
        [
         2.5,
         3.0,
         1.1,
         "versicolor"
        ],
        [
         2.8,
         4.1,
         1.3,
         "versicolor"
        ],
        [
         3.3,
         6.0,
         2.5,
         "virginica"
        ],
        [
         2.7,
         5.1,
         1.9,
         "virginica"
        ],
        [
         3.0,
         5.9,
         2.1,
         "virginica"
        ],
        [
         2.9,
         5.6,
         1.8,
         "virginica"
        ],
        [
         3.0,
         5.8,
         2.2,
         "virginica"
        ],
        [
         3.0,
         6.6,
         2.1,
         "virginica"
        ],
        [
         2.5,
         4.5,
         1.7,
         "virginica"
        ],
        [
         2.9,
         6.3,
         1.8,
         "virginica"
        ],
        [
         2.5,
         5.8,
         1.8,
         "virginica"
        ],
        [
         3.6,
         6.1,
         2.5,
         "virginica"
        ],
        [
         3.2,
         5.1,
         2.0,
         "virginica"
        ],
        [
         2.7,
         5.3,
         1.9,
         "virginica"
        ],
        [
         3.0,
         5.5,
         2.1,
         "virginica"
        ],
        [
         2.5,
         5.0,
         2.0,
         "virginica"
        ],
        [
         2.8,
         5.1,
         2.4,
         "virginica"
        ],
        [
         3.2,
         5.3,
         2.3,
         "virginica"
        ],
        [
         3.0,
         5.5,
         1.8,
         "virginica"
        ],
        [
         3.8,
         6.7,
         2.2,
         "virginica"
        ],
        [
         2.6,
         6.9,
         2.3,
         "virginica"
        ],
        [
         2.2,
         5.0,
         1.5,
         "virginica"
        ],
        [
         3.2,
         5.7,
         2.3,
         "virginica"
        ],
        [
         2.8,
         4.9,
         2.0,
         "virginica"
        ],
        [
         2.8,
         6.7,
         2.0,
         "virginica"
        ],
        [
         2.7,
         4.9,
         1.8,
         "virginica"
        ],
        [
         3.3,
         5.7,
         2.1,
         "virginica"
        ],
        [
         3.2,
         6.0,
         1.8,
         "virginica"
        ],
        [
         2.8,
         4.8,
         1.8,
         "virginica"
        ],
        [
         3.0,
         4.9,
         1.8,
         "virginica"
        ],
        [
         2.8,
         5.6,
         2.1,
         "virginica"
        ],
        [
         3.0,
         5.8,
         1.6,
         "virginica"
        ],
        [
         2.8,
         6.1,
         1.9,
         "virginica"
        ],
        [
         3.8,
         6.4,
         2.0,
         "virginica"
        ],
        [
         2.8,
         5.6,
         2.2,
         "virginica"
        ],
        [
         2.8,
         5.1,
         1.5,
         "virginica"
        ],
        [
         2.6,
         5.6,
         1.4,
         "virginica"
        ],
        [
         3.0,
         6.1,
         2.3,
         "virginica"
        ],
        [
         3.4,
         5.6,
         2.4,
         "virginica"
        ],
        [
         3.1,
         5.5,
         1.8,
         "virginica"
        ],
        [
         3.0,
         4.8,
         1.8,
         "virginica"
        ],
        [
         3.1,
         5.4,
         2.1,
         "virginica"
        ],
        [
         3.1,
         5.6,
         2.4,
         "virginica"
        ],
        [
         3.1,
         5.1,
         2.3,
         "virginica"
        ],
        [
         2.7,
         5.1,
         1.9,
         "virginica"
        ],
        [
         3.2,
         5.9,
         2.3,
         "virginica"
        ],
        [
         3.3,
         5.7,
         2.5,
         "virginica"
        ],
        [
         3.0,
         5.2,
         2.3,
         "virginica"
        ],
        [
         2.5,
         5.0,
         1.9,
         "virginica"
        ],
        [
         3.0,
         5.2,
         2.0,
         "virginica"
        ],
        [
         3.4,
         5.4,
         2.3,
         "virginica"
        ],
        [
         3.0,
         5.1,
         1.8,
         "virginica"
        ]
       ],
       "datasetInfos": [],
       "dbfsResultPath": null,
       "isJsonSchema": true,
       "metadata": {},
       "overflow": false,
       "plotOptions": {
        "customPlotOptions": {},
        "displayType": "table",
        "pivotAggregation": null,
        "pivotColumns": null,
        "xColumns": null,
        "yColumns": null
       },
       "removedWidgets": [],
       "schema": [
        {
         "metadata": "{}",
         "name": "sepal_width",
         "type": "\"double\""
        },
        {
         "metadata": "{}",
         "name": "petal_length",
         "type": "\"double\""
        },
        {
         "metadata": "{}",
         "name": "petal_width",
         "type": "\"double\""
        },
        {
         "metadata": "{}",
         "name": "species",
         "type": "\"string\""
        }
       ],
       "type": "table"
      }
     },
     "output_type": "display_data"
    }
   ],
   "source": [
    "drop_iris=iris.drop('sepal_length')\n",
    "display(drop_iris)"
   ]
  },
  {
   "cell_type": "code",
   "execution_count": 0,
   "metadata": {
    "application/vnd.databricks.v1+cell": {
     "cellMetadata": {
      "byteLimit": 2048000,
      "rowLimit": 10000
     },
     "inputWidgets": {},
     "nuid": "361921e5-7978-403d-8e5e-c8f2be9691c9",
     "showTitle": false,
     "title": ""
    }
   },
   "outputs": [
    {
     "output_type": "stream",
     "name": "stdout",
     "output_type": "stream",
     "text": [
      "+------------+-----------+------------+-----------+---------+\n|sepal_length|sepal_width|petal_length|petal_width|  species|\n+------------+-----------+------------+-----------+---------+\n|         6.3|        3.3|         6.0|        2.5|virginica|\n|         7.1|        3.0|         5.9|        2.1|virginica|\n|         6.3|        2.9|         5.6|        1.8|virginica|\n|         6.5|        3.0|         5.8|        2.2|virginica|\n|         7.6|        3.0|         6.6|        2.1|virginica|\n|         7.3|        2.9|         6.3|        1.8|virginica|\n|         6.7|        2.5|         5.8|        1.8|virginica|\n|         7.2|        3.6|         6.1|        2.5|virginica|\n|         7.7|        3.8|         6.7|        2.2|virginica|\n|         7.7|        2.6|         6.9|        2.3|virginica|\n|         6.9|        3.2|         5.7|        2.3|virginica|\n|         7.7|        2.8|         6.7|        2.0|virginica|\n|         6.7|        3.3|         5.7|        2.1|virginica|\n|         7.2|        3.2|         6.0|        1.8|virginica|\n|         6.4|        2.8|         5.6|        2.1|virginica|\n|         7.2|        3.0|         5.8|        1.6|virginica|\n|         7.4|        2.8|         6.1|        1.9|virginica|\n|         7.9|        3.8|         6.4|        2.0|virginica|\n|         6.4|        2.8|         5.6|        2.2|virginica|\n|         6.1|        2.6|         5.6|        1.4|virginica|\n+------------+-----------+------------+-----------+---------+\nonly showing top 20 rows\n\n"
     ]
    }
   ],
   "source": [
    "iris.filter(iris.petal_length>5.5).show()"
   ]
  },
  {
   "cell_type": "code",
   "execution_count": 0,
   "metadata": {
    "application/vnd.databricks.v1+cell": {
     "cellMetadata": {
      "byteLimit": 2048000,
      "rowLimit": 10000
     },
     "inputWidgets": {},
     "nuid": "c57abf8b-ee09-4484-96f9-f88ad1b56ddc",
     "showTitle": false,
     "title": ""
    }
   },
   "outputs": [
    {
     "output_type": "display_data",
     "data": {
      "text/html": [
       "<style scoped>\n",
       "  .table-result-container {\n",
       "    max-height: 300px;\n",
       "    overflow: auto;\n",
       "  }\n",
       "  table, th, td {\n",
       "    border: 1px solid black;\n",
       "    border-collapse: collapse;\n",
       "  }\n",
       "  th, td {\n",
       "    padding: 5px;\n",
       "  }\n",
       "  th {\n",
       "    text-align: left;\n",
       "  }\n",
       "</style><div class='table-result-container'><table class='table-result'><thead style='background-color: white'><tr><th>sepal_width</th><th>petal_length</th><th>species</th></tr></thead><tbody><tr><td>3.2</td><td>4.7</td><td>versicolor</td></tr><tr><td>3.2</td><td>4.5</td><td>versicolor</td></tr><tr><td>3.1</td><td>4.9</td><td>versicolor</td></tr><tr><td>2.3</td><td>4.0</td><td>versicolor</td></tr><tr><td>2.8</td><td>4.6</td><td>versicolor</td></tr><tr><td>2.8</td><td>4.5</td><td>versicolor</td></tr><tr><td>3.3</td><td>4.7</td><td>versicolor</td></tr><tr><td>2.4</td><td>3.3</td><td>versicolor</td></tr><tr><td>2.9</td><td>4.6</td><td>versicolor</td></tr><tr><td>2.7</td><td>3.9</td><td>versicolor</td></tr><tr><td>2.0</td><td>3.5</td><td>versicolor</td></tr><tr><td>3.0</td><td>4.2</td><td>versicolor</td></tr><tr><td>2.2</td><td>4.0</td><td>versicolor</td></tr><tr><td>2.9</td><td>4.7</td><td>versicolor</td></tr><tr><td>2.9</td><td>3.6</td><td>versicolor</td></tr><tr><td>3.1</td><td>4.4</td><td>versicolor</td></tr><tr><td>3.0</td><td>4.5</td><td>versicolor</td></tr><tr><td>2.7</td><td>4.1</td><td>versicolor</td></tr><tr><td>2.2</td><td>4.5</td><td>versicolor</td></tr><tr><td>2.5</td><td>3.9</td><td>versicolor</td></tr><tr><td>3.2</td><td>4.8</td><td>versicolor</td></tr><tr><td>2.8</td><td>4.0</td><td>versicolor</td></tr><tr><td>2.5</td><td>4.9</td><td>versicolor</td></tr><tr><td>2.8</td><td>4.7</td><td>versicolor</td></tr><tr><td>2.9</td><td>4.3</td><td>versicolor</td></tr><tr><td>3.0</td><td>4.4</td><td>versicolor</td></tr><tr><td>2.8</td><td>4.8</td><td>versicolor</td></tr><tr><td>3.0</td><td>5.0</td><td>versicolor</td></tr><tr><td>2.9</td><td>4.5</td><td>versicolor</td></tr><tr><td>2.6</td><td>3.5</td><td>versicolor</td></tr><tr><td>2.4</td><td>3.8</td><td>versicolor</td></tr><tr><td>2.4</td><td>3.7</td><td>versicolor</td></tr><tr><td>2.7</td><td>3.9</td><td>versicolor</td></tr><tr><td>2.7</td><td>5.1</td><td>versicolor</td></tr><tr><td>3.0</td><td>4.5</td><td>versicolor</td></tr><tr><td>3.4</td><td>4.5</td><td>versicolor</td></tr><tr><td>3.1</td><td>4.7</td><td>versicolor</td></tr><tr><td>2.3</td><td>4.4</td><td>versicolor</td></tr><tr><td>3.0</td><td>4.1</td><td>versicolor</td></tr><tr><td>2.5</td><td>4.0</td><td>versicolor</td></tr><tr><td>2.6</td><td>4.4</td><td>versicolor</td></tr><tr><td>3.0</td><td>4.6</td><td>versicolor</td></tr><tr><td>2.6</td><td>4.0</td><td>versicolor</td></tr><tr><td>2.3</td><td>3.3</td><td>versicolor</td></tr><tr><td>2.7</td><td>4.2</td><td>versicolor</td></tr><tr><td>3.0</td><td>4.2</td><td>versicolor</td></tr><tr><td>2.9</td><td>4.2</td><td>versicolor</td></tr><tr><td>2.9</td><td>4.3</td><td>versicolor</td></tr><tr><td>2.5</td><td>3.0</td><td>versicolor</td></tr><tr><td>2.8</td><td>4.1</td><td>versicolor</td></tr><tr><td>3.3</td><td>6.0</td><td>virginica</td></tr><tr><td>2.7</td><td>5.1</td><td>virginica</td></tr><tr><td>3.0</td><td>5.9</td><td>virginica</td></tr><tr><td>2.9</td><td>5.6</td><td>virginica</td></tr><tr><td>3.0</td><td>5.8</td><td>virginica</td></tr><tr><td>3.0</td><td>6.6</td><td>virginica</td></tr><tr><td>2.5</td><td>4.5</td><td>virginica</td></tr><tr><td>2.9</td><td>6.3</td><td>virginica</td></tr><tr><td>2.5</td><td>5.8</td><td>virginica</td></tr><tr><td>3.6</td><td>6.1</td><td>virginica</td></tr><tr><td>3.2</td><td>5.1</td><td>virginica</td></tr><tr><td>2.7</td><td>5.3</td><td>virginica</td></tr><tr><td>3.0</td><td>5.5</td><td>virginica</td></tr><tr><td>2.5</td><td>5.0</td><td>virginica</td></tr><tr><td>2.8</td><td>5.1</td><td>virginica</td></tr><tr><td>3.2</td><td>5.3</td><td>virginica</td></tr><tr><td>3.0</td><td>5.5</td><td>virginica</td></tr><tr><td>3.8</td><td>6.7</td><td>virginica</td></tr><tr><td>2.6</td><td>6.9</td><td>virginica</td></tr><tr><td>2.2</td><td>5.0</td><td>virginica</td></tr><tr><td>3.2</td><td>5.7</td><td>virginica</td></tr><tr><td>2.8</td><td>4.9</td><td>virginica</td></tr><tr><td>2.8</td><td>6.7</td><td>virginica</td></tr><tr><td>2.7</td><td>4.9</td><td>virginica</td></tr><tr><td>3.3</td><td>5.7</td><td>virginica</td></tr><tr><td>3.2</td><td>6.0</td><td>virginica</td></tr><tr><td>2.8</td><td>4.8</td><td>virginica</td></tr><tr><td>3.0</td><td>4.9</td><td>virginica</td></tr><tr><td>2.8</td><td>5.6</td><td>virginica</td></tr><tr><td>3.0</td><td>5.8</td><td>virginica</td></tr><tr><td>2.8</td><td>6.1</td><td>virginica</td></tr><tr><td>3.8</td><td>6.4</td><td>virginica</td></tr><tr><td>2.8</td><td>5.6</td><td>virginica</td></tr><tr><td>2.8</td><td>5.1</td><td>virginica</td></tr><tr><td>2.6</td><td>5.6</td><td>virginica</td></tr><tr><td>3.0</td><td>6.1</td><td>virginica</td></tr><tr><td>3.4</td><td>5.6</td><td>virginica</td></tr><tr><td>3.1</td><td>5.5</td><td>virginica</td></tr><tr><td>3.0</td><td>4.8</td><td>virginica</td></tr><tr><td>3.1</td><td>5.4</td><td>virginica</td></tr><tr><td>3.1</td><td>5.6</td><td>virginica</td></tr><tr><td>3.1</td><td>5.1</td><td>virginica</td></tr><tr><td>2.7</td><td>5.1</td><td>virginica</td></tr><tr><td>3.2</td><td>5.9</td><td>virginica</td></tr><tr><td>3.3</td><td>5.7</td><td>virginica</td></tr><tr><td>3.0</td><td>5.2</td><td>virginica</td></tr><tr><td>2.5</td><td>5.0</td><td>virginica</td></tr><tr><td>3.0</td><td>5.2</td><td>virginica</td></tr><tr><td>3.4</td><td>5.4</td><td>virginica</td></tr><tr><td>3.0</td><td>5.1</td><td>virginica</td></tr></tbody></table></div>"
      ]
     },
     "metadata": {
      "application/vnd.databricks.v1+output": {
       "addedWidgets": {},
       "aggData": [],
       "aggError": "",
       "aggOverflow": false,
       "aggSchema": [],
       "aggSeriesLimitReached": false,
       "aggType": "",
       "arguments": {},
       "columnCustomDisplayInfos": {},
       "data": [
        [
         3.2,
         4.7,
         "versicolor"
        ],
        [
         3.2,
         4.5,
         "versicolor"
        ],
        [
         3.1,
         4.9,
         "versicolor"
        ],
        [
         2.3,
         4.0,
         "versicolor"
        ],
        [
         2.8,
         4.6,
         "versicolor"
        ],
        [
         2.8,
         4.5,
         "versicolor"
        ],
        [
         3.3,
         4.7,
         "versicolor"
        ],
        [
         2.4,
         3.3,
         "versicolor"
        ],
        [
         2.9,
         4.6,
         "versicolor"
        ],
        [
         2.7,
         3.9,
         "versicolor"
        ],
        [
         2.0,
         3.5,
         "versicolor"
        ],
        [
         3.0,
         4.2,
         "versicolor"
        ],
        [
         2.2,
         4.0,
         "versicolor"
        ],
        [
         2.9,
         4.7,
         "versicolor"
        ],
        [
         2.9,
         3.6,
         "versicolor"
        ],
        [
         3.1,
         4.4,
         "versicolor"
        ],
        [
         3.0,
         4.5,
         "versicolor"
        ],
        [
         2.7,
         4.1,
         "versicolor"
        ],
        [
         2.2,
         4.5,
         "versicolor"
        ],
        [
         2.5,
         3.9,
         "versicolor"
        ],
        [
         3.2,
         4.8,
         "versicolor"
        ],
        [
         2.8,
         4.0,
         "versicolor"
        ],
        [
         2.5,
         4.9,
         "versicolor"
        ],
        [
         2.8,
         4.7,
         "versicolor"
        ],
        [
         2.9,
         4.3,
         "versicolor"
        ],
        [
         3.0,
         4.4,
         "versicolor"
        ],
        [
         2.8,
         4.8,
         "versicolor"
        ],
        [
         3.0,
         5.0,
         "versicolor"
        ],
        [
         2.9,
         4.5,
         "versicolor"
        ],
        [
         2.6,
         3.5,
         "versicolor"
        ],
        [
         2.4,
         3.8,
         "versicolor"
        ],
        [
         2.4,
         3.7,
         "versicolor"
        ],
        [
         2.7,
         3.9,
         "versicolor"
        ],
        [
         2.7,
         5.1,
         "versicolor"
        ],
        [
         3.0,
         4.5,
         "versicolor"
        ],
        [
         3.4,
         4.5,
         "versicolor"
        ],
        [
         3.1,
         4.7,
         "versicolor"
        ],
        [
         2.3,
         4.4,
         "versicolor"
        ],
        [
         3.0,
         4.1,
         "versicolor"
        ],
        [
         2.5,
         4.0,
         "versicolor"
        ],
        [
         2.6,
         4.4,
         "versicolor"
        ],
        [
         3.0,
         4.6,
         "versicolor"
        ],
        [
         2.6,
         4.0,
         "versicolor"
        ],
        [
         2.3,
         3.3,
         "versicolor"
        ],
        [
         2.7,
         4.2,
         "versicolor"
        ],
        [
         3.0,
         4.2,
         "versicolor"
        ],
        [
         2.9,
         4.2,
         "versicolor"
        ],
        [
         2.9,
         4.3,
         "versicolor"
        ],
        [
         2.5,
         3.0,
         "versicolor"
        ],
        [
         2.8,
         4.1,
         "versicolor"
        ],
        [
         3.3,
         6.0,
         "virginica"
        ],
        [
         2.7,
         5.1,
         "virginica"
        ],
        [
         3.0,
         5.9,
         "virginica"
        ],
        [
         2.9,
         5.6,
         "virginica"
        ],
        [
         3.0,
         5.8,
         "virginica"
        ],
        [
         3.0,
         6.6,
         "virginica"
        ],
        [
         2.5,
         4.5,
         "virginica"
        ],
        [
         2.9,
         6.3,
         "virginica"
        ],
        [
         2.5,
         5.8,
         "virginica"
        ],
        [
         3.6,
         6.1,
         "virginica"
        ],
        [
         3.2,
         5.1,
         "virginica"
        ],
        [
         2.7,
         5.3,
         "virginica"
        ],
        [
         3.0,
         5.5,
         "virginica"
        ],
        [
         2.5,
         5.0,
         "virginica"
        ],
        [
         2.8,
         5.1,
         "virginica"
        ],
        [
         3.2,
         5.3,
         "virginica"
        ],
        [
         3.0,
         5.5,
         "virginica"
        ],
        [
         3.8,
         6.7,
         "virginica"
        ],
        [
         2.6,
         6.9,
         "virginica"
        ],
        [
         2.2,
         5.0,
         "virginica"
        ],
        [
         3.2,
         5.7,
         "virginica"
        ],
        [
         2.8,
         4.9,
         "virginica"
        ],
        [
         2.8,
         6.7,
         "virginica"
        ],
        [
         2.7,
         4.9,
         "virginica"
        ],
        [
         3.3,
         5.7,
         "virginica"
        ],
        [
         3.2,
         6.0,
         "virginica"
        ],
        [
         2.8,
         4.8,
         "virginica"
        ],
        [
         3.0,
         4.9,
         "virginica"
        ],
        [
         2.8,
         5.6,
         "virginica"
        ],
        [
         3.0,
         5.8,
         "virginica"
        ],
        [
         2.8,
         6.1,
         "virginica"
        ],
        [
         3.8,
         6.4,
         "virginica"
        ],
        [
         2.8,
         5.6,
         "virginica"
        ],
        [
         2.8,
         5.1,
         "virginica"
        ],
        [
         2.6,
         5.6,
         "virginica"
        ],
        [
         3.0,
         6.1,
         "virginica"
        ],
        [
         3.4,
         5.6,
         "virginica"
        ],
        [
         3.1,
         5.5,
         "virginica"
        ],
        [
         3.0,
         4.8,
         "virginica"
        ],
        [
         3.1,
         5.4,
         "virginica"
        ],
        [
         3.1,
         5.6,
         "virginica"
        ],
        [
         3.1,
         5.1,
         "virginica"
        ],
        [
         2.7,
         5.1,
         "virginica"
        ],
        [
         3.2,
         5.9,
         "virginica"
        ],
        [
         3.3,
         5.7,
         "virginica"
        ],
        [
         3.0,
         5.2,
         "virginica"
        ],
        [
         2.5,
         5.0,
         "virginica"
        ],
        [
         3.0,
         5.2,
         "virginica"
        ],
        [
         3.4,
         5.4,
         "virginica"
        ],
        [
         3.0,
         5.1,
         "virginica"
        ]
       ],
       "datasetInfos": [],
       "dbfsResultPath": null,
       "isJsonSchema": true,
       "metadata": {},
       "overflow": false,
       "plotOptions": {
        "customPlotOptions": {},
        "displayType": "table",
        "pivotAggregation": null,
        "pivotColumns": null,
        "xColumns": null,
        "yColumns": null
       },
       "removedWidgets": [],
       "schema": [
        {
         "metadata": "{}",
         "name": "sepal_width",
         "type": "\"double\""
        },
        {
         "metadata": "{}",
         "name": "petal_length",
         "type": "\"double\""
        },
        {
         "metadata": "{}",
         "name": "species",
         "type": "\"string\""
        }
       ],
       "type": "table"
      }
     },
     "output_type": "display_data"
    }
   ],
   "source": [
    "iris.filter(iris.species.like('v%')).select('sepal_width','petal_length','species').display()"
   ]
  },
  {
   "cell_type": "code",
   "execution_count": 0,
   "metadata": {
    "application/vnd.databricks.v1+cell": {
     "cellMetadata": {
      "byteLimit": 2048000,
      "rowLimit": 10000
     },
     "inputWidgets": {},
     "nuid": "389d6a11-74d4-47a1-a1a5-586f3f11cdce",
     "showTitle": false,
     "title": ""
    }
   },
   "outputs": [
    {
     "output_type": "display_data",
     "data": {
      "text/html": [
       "<style scoped>\n",
       "  .table-result-container {\n",
       "    max-height: 300px;\n",
       "    overflow: auto;\n",
       "  }\n",
       "  table, th, td {\n",
       "    border: 1px solid black;\n",
       "    border-collapse: collapse;\n",
       "  }\n",
       "  th, td {\n",
       "    padding: 5px;\n",
       "  }\n",
       "  th {\n",
       "    text-align: left;\n",
       "  }\n",
       "</style><div class='table-result-container'><table class='table-result'><thead style='background-color: white'><tr><th>sepal_length</th><th>sepal_width</th><th>petal_length</th><th>petal_width</th><th>species</th><th>species LIKE v%</th><th>newname</th></tr></thead><tbody><tr><td>5.1</td><td>3.5</td><td>1.4</td><td>0.2</td><td>setosa</td><td>false</td><td>set</td></tr><tr><td>4.9</td><td>3.0</td><td>1.4</td><td>0.2</td><td>setosa</td><td>false</td><td>set</td></tr><tr><td>4.7</td><td>3.2</td><td>1.3</td><td>0.2</td><td>setosa</td><td>false</td><td>set</td></tr><tr><td>4.6</td><td>3.1</td><td>1.5</td><td>0.2</td><td>setosa</td><td>false</td><td>set</td></tr><tr><td>5.0</td><td>3.6</td><td>1.4</td><td>0.2</td><td>setosa</td><td>false</td><td>set</td></tr><tr><td>5.4</td><td>3.9</td><td>1.7</td><td>0.4</td><td>setosa</td><td>false</td><td>set</td></tr><tr><td>4.6</td><td>3.4</td><td>1.4</td><td>0.3</td><td>setosa</td><td>false</td><td>set</td></tr><tr><td>5.0</td><td>3.4</td><td>1.5</td><td>0.2</td><td>setosa</td><td>false</td><td>set</td></tr><tr><td>4.4</td><td>2.9</td><td>1.4</td><td>0.2</td><td>setosa</td><td>false</td><td>set</td></tr><tr><td>4.9</td><td>3.1</td><td>1.5</td><td>0.1</td><td>setosa</td><td>false</td><td>set</td></tr><tr><td>5.4</td><td>3.7</td><td>1.5</td><td>0.2</td><td>setosa</td><td>false</td><td>set</td></tr><tr><td>4.8</td><td>3.4</td><td>1.6</td><td>0.2</td><td>setosa</td><td>false</td><td>set</td></tr><tr><td>4.8</td><td>3.0</td><td>1.4</td><td>0.1</td><td>setosa</td><td>false</td><td>set</td></tr><tr><td>4.3</td><td>3.0</td><td>1.1</td><td>0.1</td><td>setosa</td><td>false</td><td>set</td></tr><tr><td>5.8</td><td>4.0</td><td>1.2</td><td>0.2</td><td>setosa</td><td>false</td><td>set</td></tr><tr><td>5.7</td><td>4.4</td><td>1.5</td><td>0.4</td><td>setosa</td><td>false</td><td>set</td></tr><tr><td>5.4</td><td>3.9</td><td>1.3</td><td>0.4</td><td>setosa</td><td>false</td><td>set</td></tr><tr><td>5.1</td><td>3.5</td><td>1.4</td><td>0.3</td><td>setosa</td><td>false</td><td>set</td></tr><tr><td>5.7</td><td>3.8</td><td>1.7</td><td>0.3</td><td>setosa</td><td>false</td><td>set</td></tr><tr><td>5.1</td><td>3.8</td><td>1.5</td><td>0.3</td><td>setosa</td><td>false</td><td>set</td></tr><tr><td>5.4</td><td>3.4</td><td>1.7</td><td>0.2</td><td>setosa</td><td>false</td><td>set</td></tr><tr><td>5.1</td><td>3.7</td><td>1.5</td><td>0.4</td><td>setosa</td><td>false</td><td>set</td></tr><tr><td>4.6</td><td>3.6</td><td>1.0</td><td>0.2</td><td>setosa</td><td>false</td><td>set</td></tr><tr><td>5.1</td><td>3.3</td><td>1.7</td><td>0.5</td><td>setosa</td><td>false</td><td>set</td></tr><tr><td>4.8</td><td>3.4</td><td>1.9</td><td>0.2</td><td>setosa</td><td>false</td><td>set</td></tr><tr><td>5.0</td><td>3.0</td><td>1.6</td><td>0.2</td><td>setosa</td><td>false</td><td>set</td></tr><tr><td>5.0</td><td>3.4</td><td>1.6</td><td>0.4</td><td>setosa</td><td>false</td><td>set</td></tr><tr><td>5.2</td><td>3.5</td><td>1.5</td><td>0.2</td><td>setosa</td><td>false</td><td>set</td></tr><tr><td>5.2</td><td>3.4</td><td>1.4</td><td>0.2</td><td>setosa</td><td>false</td><td>set</td></tr><tr><td>4.7</td><td>3.2</td><td>1.6</td><td>0.2</td><td>setosa</td><td>false</td><td>set</td></tr><tr><td>4.8</td><td>3.1</td><td>1.6</td><td>0.2</td><td>setosa</td><td>false</td><td>set</td></tr><tr><td>5.4</td><td>3.4</td><td>1.5</td><td>0.4</td><td>setosa</td><td>false</td><td>set</td></tr><tr><td>5.2</td><td>4.1</td><td>1.5</td><td>0.1</td><td>setosa</td><td>false</td><td>set</td></tr><tr><td>5.5</td><td>4.2</td><td>1.4</td><td>0.2</td><td>setosa</td><td>false</td><td>set</td></tr><tr><td>4.9</td><td>3.1</td><td>1.5</td><td>0.1</td><td>setosa</td><td>false</td><td>set</td></tr><tr><td>5.0</td><td>3.2</td><td>1.2</td><td>0.2</td><td>setosa</td><td>false</td><td>set</td></tr><tr><td>5.5</td><td>3.5</td><td>1.3</td><td>0.2</td><td>setosa</td><td>false</td><td>set</td></tr><tr><td>4.9</td><td>3.1</td><td>1.5</td><td>0.1</td><td>setosa</td><td>false</td><td>set</td></tr><tr><td>4.4</td><td>3.0</td><td>1.3</td><td>0.2</td><td>setosa</td><td>false</td><td>set</td></tr><tr><td>5.1</td><td>3.4</td><td>1.5</td><td>0.2</td><td>setosa</td><td>false</td><td>set</td></tr><tr><td>5.0</td><td>3.5</td><td>1.3</td><td>0.3</td><td>setosa</td><td>false</td><td>set</td></tr><tr><td>4.5</td><td>2.3</td><td>1.3</td><td>0.3</td><td>setosa</td><td>false</td><td>set</td></tr><tr><td>4.4</td><td>3.2</td><td>1.3</td><td>0.2</td><td>setosa</td><td>false</td><td>set</td></tr><tr><td>5.0</td><td>3.5</td><td>1.6</td><td>0.6</td><td>setosa</td><td>false</td><td>set</td></tr><tr><td>5.1</td><td>3.8</td><td>1.9</td><td>0.4</td><td>setosa</td><td>false</td><td>set</td></tr><tr><td>4.8</td><td>3.0</td><td>1.4</td><td>0.3</td><td>setosa</td><td>false</td><td>set</td></tr><tr><td>5.1</td><td>3.8</td><td>1.6</td><td>0.2</td><td>setosa</td><td>false</td><td>set</td></tr><tr><td>4.6</td><td>3.2</td><td>1.4</td><td>0.2</td><td>setosa</td><td>false</td><td>set</td></tr><tr><td>5.3</td><td>3.7</td><td>1.5</td><td>0.2</td><td>setosa</td><td>false</td><td>set</td></tr><tr><td>5.0</td><td>3.3</td><td>1.4</td><td>0.2</td><td>setosa</td><td>false</td><td>set</td></tr><tr><td>7.0</td><td>3.2</td><td>4.7</td><td>1.4</td><td>versicolor</td><td>true</td><td>ver</td></tr><tr><td>6.4</td><td>3.2</td><td>4.5</td><td>1.5</td><td>versicolor</td><td>true</td><td>ver</td></tr><tr><td>6.9</td><td>3.1</td><td>4.9</td><td>1.5</td><td>versicolor</td><td>true</td><td>ver</td></tr><tr><td>5.5</td><td>2.3</td><td>4.0</td><td>1.3</td><td>versicolor</td><td>true</td><td>ver</td></tr><tr><td>6.5</td><td>2.8</td><td>4.6</td><td>1.5</td><td>versicolor</td><td>true</td><td>ver</td></tr><tr><td>5.7</td><td>2.8</td><td>4.5</td><td>1.3</td><td>versicolor</td><td>true</td><td>ver</td></tr><tr><td>6.3</td><td>3.3</td><td>4.7</td><td>1.6</td><td>versicolor</td><td>true</td><td>ver</td></tr><tr><td>4.9</td><td>2.4</td><td>3.3</td><td>1.0</td><td>versicolor</td><td>true</td><td>ver</td></tr><tr><td>6.6</td><td>2.9</td><td>4.6</td><td>1.3</td><td>versicolor</td><td>true</td><td>ver</td></tr><tr><td>5.2</td><td>2.7</td><td>3.9</td><td>1.4</td><td>versicolor</td><td>true</td><td>ver</td></tr><tr><td>5.0</td><td>2.0</td><td>3.5</td><td>1.0</td><td>versicolor</td><td>true</td><td>ver</td></tr><tr><td>5.9</td><td>3.0</td><td>4.2</td><td>1.5</td><td>versicolor</td><td>true</td><td>ver</td></tr><tr><td>6.0</td><td>2.2</td><td>4.0</td><td>1.0</td><td>versicolor</td><td>true</td><td>ver</td></tr><tr><td>6.1</td><td>2.9</td><td>4.7</td><td>1.4</td><td>versicolor</td><td>true</td><td>ver</td></tr><tr><td>5.6</td><td>2.9</td><td>3.6</td><td>1.3</td><td>versicolor</td><td>true</td><td>ver</td></tr><tr><td>6.7</td><td>3.1</td><td>4.4</td><td>1.4</td><td>versicolor</td><td>true</td><td>ver</td></tr><tr><td>5.6</td><td>3.0</td><td>4.5</td><td>1.5</td><td>versicolor</td><td>true</td><td>ver</td></tr><tr><td>5.8</td><td>2.7</td><td>4.1</td><td>1.0</td><td>versicolor</td><td>true</td><td>ver</td></tr><tr><td>6.2</td><td>2.2</td><td>4.5</td><td>1.5</td><td>versicolor</td><td>true</td><td>ver</td></tr><tr><td>5.6</td><td>2.5</td><td>3.9</td><td>1.1</td><td>versicolor</td><td>true</td><td>ver</td></tr><tr><td>5.9</td><td>3.2</td><td>4.8</td><td>1.8</td><td>versicolor</td><td>true</td><td>ver</td></tr><tr><td>6.1</td><td>2.8</td><td>4.0</td><td>1.3</td><td>versicolor</td><td>true</td><td>ver</td></tr><tr><td>6.3</td><td>2.5</td><td>4.9</td><td>1.5</td><td>versicolor</td><td>true</td><td>ver</td></tr><tr><td>6.1</td><td>2.8</td><td>4.7</td><td>1.2</td><td>versicolor</td><td>true</td><td>ver</td></tr><tr><td>6.4</td><td>2.9</td><td>4.3</td><td>1.3</td><td>versicolor</td><td>true</td><td>ver</td></tr><tr><td>6.6</td><td>3.0</td><td>4.4</td><td>1.4</td><td>versicolor</td><td>true</td><td>ver</td></tr><tr><td>6.8</td><td>2.8</td><td>4.8</td><td>1.4</td><td>versicolor</td><td>true</td><td>ver</td></tr><tr><td>6.7</td><td>3.0</td><td>5.0</td><td>1.7</td><td>versicolor</td><td>true</td><td>ver</td></tr><tr><td>6.0</td><td>2.9</td><td>4.5</td><td>1.5</td><td>versicolor</td><td>true</td><td>ver</td></tr><tr><td>5.7</td><td>2.6</td><td>3.5</td><td>1.0</td><td>versicolor</td><td>true</td><td>ver</td></tr><tr><td>5.5</td><td>2.4</td><td>3.8</td><td>1.1</td><td>versicolor</td><td>true</td><td>ver</td></tr><tr><td>5.5</td><td>2.4</td><td>3.7</td><td>1.0</td><td>versicolor</td><td>true</td><td>ver</td></tr><tr><td>5.8</td><td>2.7</td><td>3.9</td><td>1.2</td><td>versicolor</td><td>true</td><td>ver</td></tr><tr><td>6.0</td><td>2.7</td><td>5.1</td><td>1.6</td><td>versicolor</td><td>true</td><td>ver</td></tr><tr><td>5.4</td><td>3.0</td><td>4.5</td><td>1.5</td><td>versicolor</td><td>true</td><td>ver</td></tr><tr><td>6.0</td><td>3.4</td><td>4.5</td><td>1.6</td><td>versicolor</td><td>true</td><td>ver</td></tr><tr><td>6.7</td><td>3.1</td><td>4.7</td><td>1.5</td><td>versicolor</td><td>true</td><td>ver</td></tr><tr><td>6.3</td><td>2.3</td><td>4.4</td><td>1.3</td><td>versicolor</td><td>true</td><td>ver</td></tr><tr><td>5.6</td><td>3.0</td><td>4.1</td><td>1.3</td><td>versicolor</td><td>true</td><td>ver</td></tr><tr><td>5.5</td><td>2.5</td><td>4.0</td><td>1.3</td><td>versicolor</td><td>true</td><td>ver</td></tr><tr><td>5.5</td><td>2.6</td><td>4.4</td><td>1.2</td><td>versicolor</td><td>true</td><td>ver</td></tr><tr><td>6.1</td><td>3.0</td><td>4.6</td><td>1.4</td><td>versicolor</td><td>true</td><td>ver</td></tr><tr><td>5.8</td><td>2.6</td><td>4.0</td><td>1.2</td><td>versicolor</td><td>true</td><td>ver</td></tr><tr><td>5.0</td><td>2.3</td><td>3.3</td><td>1.0</td><td>versicolor</td><td>true</td><td>ver</td></tr><tr><td>5.6</td><td>2.7</td><td>4.2</td><td>1.3</td><td>versicolor</td><td>true</td><td>ver</td></tr><tr><td>5.7</td><td>3.0</td><td>4.2</td><td>1.2</td><td>versicolor</td><td>true</td><td>ver</td></tr><tr><td>5.7</td><td>2.9</td><td>4.2</td><td>1.3</td><td>versicolor</td><td>true</td><td>ver</td></tr><tr><td>6.2</td><td>2.9</td><td>4.3</td><td>1.3</td><td>versicolor</td><td>true</td><td>ver</td></tr><tr><td>5.1</td><td>2.5</td><td>3.0</td><td>1.1</td><td>versicolor</td><td>true</td><td>ver</td></tr><tr><td>5.7</td><td>2.8</td><td>4.1</td><td>1.3</td><td>versicolor</td><td>true</td><td>ver</td></tr><tr><td>6.3</td><td>3.3</td><td>6.0</td><td>2.5</td><td>virginica</td><td>true</td><td>vir</td></tr><tr><td>5.8</td><td>2.7</td><td>5.1</td><td>1.9</td><td>virginica</td><td>true</td><td>vir</td></tr><tr><td>7.1</td><td>3.0</td><td>5.9</td><td>2.1</td><td>virginica</td><td>true</td><td>vir</td></tr><tr><td>6.3</td><td>2.9</td><td>5.6</td><td>1.8</td><td>virginica</td><td>true</td><td>vir</td></tr><tr><td>6.5</td><td>3.0</td><td>5.8</td><td>2.2</td><td>virginica</td><td>true</td><td>vir</td></tr><tr><td>7.6</td><td>3.0</td><td>6.6</td><td>2.1</td><td>virginica</td><td>true</td><td>vir</td></tr><tr><td>4.9</td><td>2.5</td><td>4.5</td><td>1.7</td><td>virginica</td><td>true</td><td>vir</td></tr><tr><td>7.3</td><td>2.9</td><td>6.3</td><td>1.8</td><td>virginica</td><td>true</td><td>vir</td></tr><tr><td>6.7</td><td>2.5</td><td>5.8</td><td>1.8</td><td>virginica</td><td>true</td><td>vir</td></tr><tr><td>7.2</td><td>3.6</td><td>6.1</td><td>2.5</td><td>virginica</td><td>true</td><td>vir</td></tr><tr><td>6.5</td><td>3.2</td><td>5.1</td><td>2.0</td><td>virginica</td><td>true</td><td>vir</td></tr><tr><td>6.4</td><td>2.7</td><td>5.3</td><td>1.9</td><td>virginica</td><td>true</td><td>vir</td></tr><tr><td>6.8</td><td>3.0</td><td>5.5</td><td>2.1</td><td>virginica</td><td>true</td><td>vir</td></tr><tr><td>5.7</td><td>2.5</td><td>5.0</td><td>2.0</td><td>virginica</td><td>true</td><td>vir</td></tr><tr><td>5.8</td><td>2.8</td><td>5.1</td><td>2.4</td><td>virginica</td><td>true</td><td>vir</td></tr><tr><td>6.4</td><td>3.2</td><td>5.3</td><td>2.3</td><td>virginica</td><td>true</td><td>vir</td></tr><tr><td>6.5</td><td>3.0</td><td>5.5</td><td>1.8</td><td>virginica</td><td>true</td><td>vir</td></tr><tr><td>7.7</td><td>3.8</td><td>6.7</td><td>2.2</td><td>virginica</td><td>true</td><td>vir</td></tr><tr><td>7.7</td><td>2.6</td><td>6.9</td><td>2.3</td><td>virginica</td><td>true</td><td>vir</td></tr><tr><td>6.0</td><td>2.2</td><td>5.0</td><td>1.5</td><td>virginica</td><td>true</td><td>vir</td></tr><tr><td>6.9</td><td>3.2</td><td>5.7</td><td>2.3</td><td>virginica</td><td>true</td><td>vir</td></tr><tr><td>5.6</td><td>2.8</td><td>4.9</td><td>2.0</td><td>virginica</td><td>true</td><td>vir</td></tr><tr><td>7.7</td><td>2.8</td><td>6.7</td><td>2.0</td><td>virginica</td><td>true</td><td>vir</td></tr><tr><td>6.3</td><td>2.7</td><td>4.9</td><td>1.8</td><td>virginica</td><td>true</td><td>vir</td></tr><tr><td>6.7</td><td>3.3</td><td>5.7</td><td>2.1</td><td>virginica</td><td>true</td><td>vir</td></tr><tr><td>7.2</td><td>3.2</td><td>6.0</td><td>1.8</td><td>virginica</td><td>true</td><td>vir</td></tr><tr><td>6.2</td><td>2.8</td><td>4.8</td><td>1.8</td><td>virginica</td><td>true</td><td>vir</td></tr><tr><td>6.1</td><td>3.0</td><td>4.9</td><td>1.8</td><td>virginica</td><td>true</td><td>vir</td></tr><tr><td>6.4</td><td>2.8</td><td>5.6</td><td>2.1</td><td>virginica</td><td>true</td><td>vir</td></tr><tr><td>7.2</td><td>3.0</td><td>5.8</td><td>1.6</td><td>virginica</td><td>true</td><td>vir</td></tr><tr><td>7.4</td><td>2.8</td><td>6.1</td><td>1.9</td><td>virginica</td><td>true</td><td>vir</td></tr><tr><td>7.9</td><td>3.8</td><td>6.4</td><td>2.0</td><td>virginica</td><td>true</td><td>vir</td></tr><tr><td>6.4</td><td>2.8</td><td>5.6</td><td>2.2</td><td>virginica</td><td>true</td><td>vir</td></tr><tr><td>6.3</td><td>2.8</td><td>5.1</td><td>1.5</td><td>virginica</td><td>true</td><td>vir</td></tr><tr><td>6.1</td><td>2.6</td><td>5.6</td><td>1.4</td><td>virginica</td><td>true</td><td>vir</td></tr><tr><td>7.7</td><td>3.0</td><td>6.1</td><td>2.3</td><td>virginica</td><td>true</td><td>vir</td></tr><tr><td>6.3</td><td>3.4</td><td>5.6</td><td>2.4</td><td>virginica</td><td>true</td><td>vir</td></tr><tr><td>6.4</td><td>3.1</td><td>5.5</td><td>1.8</td><td>virginica</td><td>true</td><td>vir</td></tr><tr><td>6.0</td><td>3.0</td><td>4.8</td><td>1.8</td><td>virginica</td><td>true</td><td>vir</td></tr><tr><td>6.9</td><td>3.1</td><td>5.4</td><td>2.1</td><td>virginica</td><td>true</td><td>vir</td></tr><tr><td>6.7</td><td>3.1</td><td>5.6</td><td>2.4</td><td>virginica</td><td>true</td><td>vir</td></tr><tr><td>6.9</td><td>3.1</td><td>5.1</td><td>2.3</td><td>virginica</td><td>true</td><td>vir</td></tr><tr><td>5.8</td><td>2.7</td><td>5.1</td><td>1.9</td><td>virginica</td><td>true</td><td>vir</td></tr><tr><td>6.8</td><td>3.2</td><td>5.9</td><td>2.3</td><td>virginica</td><td>true</td><td>vir</td></tr><tr><td>6.7</td><td>3.3</td><td>5.7</td><td>2.5</td><td>virginica</td><td>true</td><td>vir</td></tr><tr><td>6.7</td><td>3.0</td><td>5.2</td><td>2.3</td><td>virginica</td><td>true</td><td>vir</td></tr><tr><td>6.3</td><td>2.5</td><td>5.0</td><td>1.9</td><td>virginica</td><td>true</td><td>vir</td></tr><tr><td>6.5</td><td>3.0</td><td>5.2</td><td>2.0</td><td>virginica</td><td>true</td><td>vir</td></tr><tr><td>6.2</td><td>3.4</td><td>5.4</td><td>2.3</td><td>virginica</td><td>true</td><td>vir</td></tr><tr><td>5.9</td><td>3.0</td><td>5.1</td><td>1.8</td><td>virginica</td><td>true</td><td>vir</td></tr></tbody></table></div>"
      ]
     },
     "metadata": {
      "application/vnd.databricks.v1+output": {
       "addedWidgets": {},
       "aggData": [],
       "aggError": "",
       "aggOverflow": false,
       "aggSchema": [],
       "aggSeriesLimitReached": false,
       "aggType": "",
       "arguments": {},
       "columnCustomDisplayInfos": {},
       "data": [
        [
         5.1,
         3.5,
         1.4,
         0.2,
         "setosa",
         false,
         "set"
        ],
        [
         4.9,
         3.0,
         1.4,
         0.2,
         "setosa",
         false,
         "set"
        ],
        [
         4.7,
         3.2,
         1.3,
         0.2,
         "setosa",
         false,
         "set"
        ],
        [
         4.6,
         3.1,
         1.5,
         0.2,
         "setosa",
         false,
         "set"
        ],
        [
         5.0,
         3.6,
         1.4,
         0.2,
         "setosa",
         false,
         "set"
        ],
        [
         5.4,
         3.9,
         1.7,
         0.4,
         "setosa",
         false,
         "set"
        ],
        [
         4.6,
         3.4,
         1.4,
         0.3,
         "setosa",
         false,
         "set"
        ],
        [
         5.0,
         3.4,
         1.5,
         0.2,
         "setosa",
         false,
         "set"
        ],
        [
         4.4,
         2.9,
         1.4,
         0.2,
         "setosa",
         false,
         "set"
        ],
        [
         4.9,
         3.1,
         1.5,
         0.1,
         "setosa",
         false,
         "set"
        ],
        [
         5.4,
         3.7,
         1.5,
         0.2,
         "setosa",
         false,
         "set"
        ],
        [
         4.8,
         3.4,
         1.6,
         0.2,
         "setosa",
         false,
         "set"
        ],
        [
         4.8,
         3.0,
         1.4,
         0.1,
         "setosa",
         false,
         "set"
        ],
        [
         4.3,
         3.0,
         1.1,
         0.1,
         "setosa",
         false,
         "set"
        ],
        [
         5.8,
         4.0,
         1.2,
         0.2,
         "setosa",
         false,
         "set"
        ],
        [
         5.7,
         4.4,
         1.5,
         0.4,
         "setosa",
         false,
         "set"
        ],
        [
         5.4,
         3.9,
         1.3,
         0.4,
         "setosa",
         false,
         "set"
        ],
        [
         5.1,
         3.5,
         1.4,
         0.3,
         "setosa",
         false,
         "set"
        ],
        [
         5.7,
         3.8,
         1.7,
         0.3,
         "setosa",
         false,
         "set"
        ],
        [
         5.1,
         3.8,
         1.5,
         0.3,
         "setosa",
         false,
         "set"
        ],
        [
         5.4,
         3.4,
         1.7,
         0.2,
         "setosa",
         false,
         "set"
        ],
        [
         5.1,
         3.7,
         1.5,
         0.4,
         "setosa",
         false,
         "set"
        ],
        [
         4.6,
         3.6,
         1.0,
         0.2,
         "setosa",
         false,
         "set"
        ],
        [
         5.1,
         3.3,
         1.7,
         0.5,
         "setosa",
         false,
         "set"
        ],
        [
         4.8,
         3.4,
         1.9,
         0.2,
         "setosa",
         false,
         "set"
        ],
        [
         5.0,
         3.0,
         1.6,
         0.2,
         "setosa",
         false,
         "set"
        ],
        [
         5.0,
         3.4,
         1.6,
         0.4,
         "setosa",
         false,
         "set"
        ],
        [
         5.2,
         3.5,
         1.5,
         0.2,
         "setosa",
         false,
         "set"
        ],
        [
         5.2,
         3.4,
         1.4,
         0.2,
         "setosa",
         false,
         "set"
        ],
        [
         4.7,
         3.2,
         1.6,
         0.2,
         "setosa",
         false,
         "set"
        ],
        [
         4.8,
         3.1,
         1.6,
         0.2,
         "setosa",
         false,
         "set"
        ],
        [
         5.4,
         3.4,
         1.5,
         0.4,
         "setosa",
         false,
         "set"
        ],
        [
         5.2,
         4.1,
         1.5,
         0.1,
         "setosa",
         false,
         "set"
        ],
        [
         5.5,
         4.2,
         1.4,
         0.2,
         "setosa",
         false,
         "set"
        ],
        [
         4.9,
         3.1,
         1.5,
         0.1,
         "setosa",
         false,
         "set"
        ],
        [
         5.0,
         3.2,
         1.2,
         0.2,
         "setosa",
         false,
         "set"
        ],
        [
         5.5,
         3.5,
         1.3,
         0.2,
         "setosa",
         false,
         "set"
        ],
        [
         4.9,
         3.1,
         1.5,
         0.1,
         "setosa",
         false,
         "set"
        ],
        [
         4.4,
         3.0,
         1.3,
         0.2,
         "setosa",
         false,
         "set"
        ],
        [
         5.1,
         3.4,
         1.5,
         0.2,
         "setosa",
         false,
         "set"
        ],
        [
         5.0,
         3.5,
         1.3,
         0.3,
         "setosa",
         false,
         "set"
        ],
        [
         4.5,
         2.3,
         1.3,
         0.3,
         "setosa",
         false,
         "set"
        ],
        [
         4.4,
         3.2,
         1.3,
         0.2,
         "setosa",
         false,
         "set"
        ],
        [
         5.0,
         3.5,
         1.6,
         0.6,
         "setosa",
         false,
         "set"
        ],
        [
         5.1,
         3.8,
         1.9,
         0.4,
         "setosa",
         false,
         "set"
        ],
        [
         4.8,
         3.0,
         1.4,
         0.3,
         "setosa",
         false,
         "set"
        ],
        [
         5.1,
         3.8,
         1.6,
         0.2,
         "setosa",
         false,
         "set"
        ],
        [
         4.6,
         3.2,
         1.4,
         0.2,
         "setosa",
         false,
         "set"
        ],
        [
         5.3,
         3.7,
         1.5,
         0.2,
         "setosa",
         false,
         "set"
        ],
        [
         5.0,
         3.3,
         1.4,
         0.2,
         "setosa",
         false,
         "set"
        ],
        [
         7.0,
         3.2,
         4.7,
         1.4,
         "versicolor",
         true,
         "ver"
        ],
        [
         6.4,
         3.2,
         4.5,
         1.5,
         "versicolor",
         true,
         "ver"
        ],
        [
         6.9,
         3.1,
         4.9,
         1.5,
         "versicolor",
         true,
         "ver"
        ],
        [
         5.5,
         2.3,
         4.0,
         1.3,
         "versicolor",
         true,
         "ver"
        ],
        [
         6.5,
         2.8,
         4.6,
         1.5,
         "versicolor",
         true,
         "ver"
        ],
        [
         5.7,
         2.8,
         4.5,
         1.3,
         "versicolor",
         true,
         "ver"
        ],
        [
         6.3,
         3.3,
         4.7,
         1.6,
         "versicolor",
         true,
         "ver"
        ],
        [
         4.9,
         2.4,
         3.3,
         1.0,
         "versicolor",
         true,
         "ver"
        ],
        [
         6.6,
         2.9,
         4.6,
         1.3,
         "versicolor",
         true,
         "ver"
        ],
        [
         5.2,
         2.7,
         3.9,
         1.4,
         "versicolor",
         true,
         "ver"
        ],
        [
         5.0,
         2.0,
         3.5,
         1.0,
         "versicolor",
         true,
         "ver"
        ],
        [
         5.9,
         3.0,
         4.2,
         1.5,
         "versicolor",
         true,
         "ver"
        ],
        [
         6.0,
         2.2,
         4.0,
         1.0,
         "versicolor",
         true,
         "ver"
        ],
        [
         6.1,
         2.9,
         4.7,
         1.4,
         "versicolor",
         true,
         "ver"
        ],
        [
         5.6,
         2.9,
         3.6,
         1.3,
         "versicolor",
         true,
         "ver"
        ],
        [
         6.7,
         3.1,
         4.4,
         1.4,
         "versicolor",
         true,
         "ver"
        ],
        [
         5.6,
         3.0,
         4.5,
         1.5,
         "versicolor",
         true,
         "ver"
        ],
        [
         5.8,
         2.7,
         4.1,
         1.0,
         "versicolor",
         true,
         "ver"
        ],
        [
         6.2,
         2.2,
         4.5,
         1.5,
         "versicolor",
         true,
         "ver"
        ],
        [
         5.6,
         2.5,
         3.9,
         1.1,
         "versicolor",
         true,
         "ver"
        ],
        [
         5.9,
         3.2,
         4.8,
         1.8,
         "versicolor",
         true,
         "ver"
        ],
        [
         6.1,
         2.8,
         4.0,
         1.3,
         "versicolor",
         true,
         "ver"
        ],
        [
         6.3,
         2.5,
         4.9,
         1.5,
         "versicolor",
         true,
         "ver"
        ],
        [
         6.1,
         2.8,
         4.7,
         1.2,
         "versicolor",
         true,
         "ver"
        ],
        [
         6.4,
         2.9,
         4.3,
         1.3,
         "versicolor",
         true,
         "ver"
        ],
        [
         6.6,
         3.0,
         4.4,
         1.4,
         "versicolor",
         true,
         "ver"
        ],
        [
         6.8,
         2.8,
         4.8,
         1.4,
         "versicolor",
         true,
         "ver"
        ],
        [
         6.7,
         3.0,
         5.0,
         1.7,
         "versicolor",
         true,
         "ver"
        ],
        [
         6.0,
         2.9,
         4.5,
         1.5,
         "versicolor",
         true,
         "ver"
        ],
        [
         5.7,
         2.6,
         3.5,
         1.0,
         "versicolor",
         true,
         "ver"
        ],
        [
         5.5,
         2.4,
         3.8,
         1.1,
         "versicolor",
         true,
         "ver"
        ],
        [
         5.5,
         2.4,
         3.7,
         1.0,
         "versicolor",
         true,
         "ver"
        ],
        [
         5.8,
         2.7,
         3.9,
         1.2,
         "versicolor",
         true,
         "ver"
        ],
        [
         6.0,
         2.7,
         5.1,
         1.6,
         "versicolor",
         true,
         "ver"
        ],
        [
         5.4,
         3.0,
         4.5,
         1.5,
         "versicolor",
         true,
         "ver"
        ],
        [
         6.0,
         3.4,
         4.5,
         1.6,
         "versicolor",
         true,
         "ver"
        ],
        [
         6.7,
         3.1,
         4.7,
         1.5,
         "versicolor",
         true,
         "ver"
        ],
        [
         6.3,
         2.3,
         4.4,
         1.3,
         "versicolor",
         true,
         "ver"
        ],
        [
         5.6,
         3.0,
         4.1,
         1.3,
         "versicolor",
         true,
         "ver"
        ],
        [
         5.5,
         2.5,
         4.0,
         1.3,
         "versicolor",
         true,
         "ver"
        ],
        [
         5.5,
         2.6,
         4.4,
         1.2,
         "versicolor",
         true,
         "ver"
        ],
        [
         6.1,
         3.0,
         4.6,
         1.4,
         "versicolor",
         true,
         "ver"
        ],
        [
         5.8,
         2.6,
         4.0,
         1.2,
         "versicolor",
         true,
         "ver"
        ],
        [
         5.0,
         2.3,
         3.3,
         1.0,
         "versicolor",
         true,
         "ver"
        ],
        [
         5.6,
         2.7,
         4.2,
         1.3,
         "versicolor",
         true,
         "ver"
        ],
        [
         5.7,
         3.0,
         4.2,
         1.2,
         "versicolor",
         true,
         "ver"
        ],
        [
         5.7,
         2.9,
         4.2,
         1.3,
         "versicolor",
         true,
         "ver"
        ],
        [
         6.2,
         2.9,
         4.3,
         1.3,
         "versicolor",
         true,
         "ver"
        ],
        [
         5.1,
         2.5,
         3.0,
         1.1,
         "versicolor",
         true,
         "ver"
        ],
        [
         5.7,
         2.8,
         4.1,
         1.3,
         "versicolor",
         true,
         "ver"
        ],
        [
         6.3,
         3.3,
         6.0,
         2.5,
         "virginica",
         true,
         "vir"
        ],
        [
         5.8,
         2.7,
         5.1,
         1.9,
         "virginica",
         true,
         "vir"
        ],
        [
         7.1,
         3.0,
         5.9,
         2.1,
         "virginica",
         true,
         "vir"
        ],
        [
         6.3,
         2.9,
         5.6,
         1.8,
         "virginica",
         true,
         "vir"
        ],
        [
         6.5,
         3.0,
         5.8,
         2.2,
         "virginica",
         true,
         "vir"
        ],
        [
         7.6,
         3.0,
         6.6,
         2.1,
         "virginica",
         true,
         "vir"
        ],
        [
         4.9,
         2.5,
         4.5,
         1.7,
         "virginica",
         true,
         "vir"
        ],
        [
         7.3,
         2.9,
         6.3,
         1.8,
         "virginica",
         true,
         "vir"
        ],
        [
         6.7,
         2.5,
         5.8,
         1.8,
         "virginica",
         true,
         "vir"
        ],
        [
         7.2,
         3.6,
         6.1,
         2.5,
         "virginica",
         true,
         "vir"
        ],
        [
         6.5,
         3.2,
         5.1,
         2.0,
         "virginica",
         true,
         "vir"
        ],
        [
         6.4,
         2.7,
         5.3,
         1.9,
         "virginica",
         true,
         "vir"
        ],
        [
         6.8,
         3.0,
         5.5,
         2.1,
         "virginica",
         true,
         "vir"
        ],
        [
         5.7,
         2.5,
         5.0,
         2.0,
         "virginica",
         true,
         "vir"
        ],
        [
         5.8,
         2.8,
         5.1,
         2.4,
         "virginica",
         true,
         "vir"
        ],
        [
         6.4,
         3.2,
         5.3,
         2.3,
         "virginica",
         true,
         "vir"
        ],
        [
         6.5,
         3.0,
         5.5,
         1.8,
         "virginica",
         true,
         "vir"
        ],
        [
         7.7,
         3.8,
         6.7,
         2.2,
         "virginica",
         true,
         "vir"
        ],
        [
         7.7,
         2.6,
         6.9,
         2.3,
         "virginica",
         true,
         "vir"
        ],
        [
         6.0,
         2.2,
         5.0,
         1.5,
         "virginica",
         true,
         "vir"
        ],
        [
         6.9,
         3.2,
         5.7,
         2.3,
         "virginica",
         true,
         "vir"
        ],
        [
         5.6,
         2.8,
         4.9,
         2.0,
         "virginica",
         true,
         "vir"
        ],
        [
         7.7,
         2.8,
         6.7,
         2.0,
         "virginica",
         true,
         "vir"
        ],
        [
         6.3,
         2.7,
         4.9,
         1.8,
         "virginica",
         true,
         "vir"
        ],
        [
         6.7,
         3.3,
         5.7,
         2.1,
         "virginica",
         true,
         "vir"
        ],
        [
         7.2,
         3.2,
         6.0,
         1.8,
         "virginica",
         true,
         "vir"
        ],
        [
         6.2,
         2.8,
         4.8,
         1.8,
         "virginica",
         true,
         "vir"
        ],
        [
         6.1,
         3.0,
         4.9,
         1.8,
         "virginica",
         true,
         "vir"
        ],
        [
         6.4,
         2.8,
         5.6,
         2.1,
         "virginica",
         true,
         "vir"
        ],
        [
         7.2,
         3.0,
         5.8,
         1.6,
         "virginica",
         true,
         "vir"
        ],
        [
         7.4,
         2.8,
         6.1,
         1.9,
         "virginica",
         true,
         "vir"
        ],
        [
         7.9,
         3.8,
         6.4,
         2.0,
         "virginica",
         true,
         "vir"
        ],
        [
         6.4,
         2.8,
         5.6,
         2.2,
         "virginica",
         true,
         "vir"
        ],
        [
         6.3,
         2.8,
         5.1,
         1.5,
         "virginica",
         true,
         "vir"
        ],
        [
         6.1,
         2.6,
         5.6,
         1.4,
         "virginica",
         true,
         "vir"
        ],
        [
         7.7,
         3.0,
         6.1,
         2.3,
         "virginica",
         true,
         "vir"
        ],
        [
         6.3,
         3.4,
         5.6,
         2.4,
         "virginica",
         true,
         "vir"
        ],
        [
         6.4,
         3.1,
         5.5,
         1.8,
         "virginica",
         true,
         "vir"
        ],
        [
         6.0,
         3.0,
         4.8,
         1.8,
         "virginica",
         true,
         "vir"
        ],
        [
         6.9,
         3.1,
         5.4,
         2.1,
         "virginica",
         true,
         "vir"
        ],
        [
         6.7,
         3.1,
         5.6,
         2.4,
         "virginica",
         true,
         "vir"
        ],
        [
         6.9,
         3.1,
         5.1,
         2.3,
         "virginica",
         true,
         "vir"
        ],
        [
         5.8,
         2.7,
         5.1,
         1.9,
         "virginica",
         true,
         "vir"
        ],
        [
         6.8,
         3.2,
         5.9,
         2.3,
         "virginica",
         true,
         "vir"
        ],
        [
         6.7,
         3.3,
         5.7,
         2.5,
         "virginica",
         true,
         "vir"
        ],
        [
         6.7,
         3.0,
         5.2,
         2.3,
         "virginica",
         true,
         "vir"
        ],
        [
         6.3,
         2.5,
         5.0,
         1.9,
         "virginica",
         true,
         "vir"
        ],
        [
         6.5,
         3.0,
         5.2,
         2.0,
         "virginica",
         true,
         "vir"
        ],
        [
         6.2,
         3.4,
         5.4,
         2.3,
         "virginica",
         true,
         "vir"
        ],
        [
         5.9,
         3.0,
         5.1,
         1.8,
         "virginica",
         true,
         "vir"
        ]
       ],
       "datasetInfos": [],
       "dbfsResultPath": null,
       "isJsonSchema": true,
       "metadata": {},
       "overflow": false,
       "plotOptions": {
        "customPlotOptions": {},
        "displayType": "table",
        "pivotAggregation": null,
        "pivotColumns": null,
        "xColumns": null,
        "yColumns": null
       },
       "removedWidgets": [],
       "schema": [
        {
         "metadata": "{}",
         "name": "sepal_length",
         "type": "\"double\""
        },
        {
         "metadata": "{}",
         "name": "sepal_width",
         "type": "\"double\""
        },
        {
         "metadata": "{}",
         "name": "petal_length",
         "type": "\"double\""
        },
        {
         "metadata": "{}",
         "name": "petal_width",
         "type": "\"double\""
        },
        {
         "metadata": "{}",
         "name": "species",
         "type": "\"string\""
        },
        {
         "metadata": "{}",
         "name": "species LIKE v%",
         "type": "\"boolean\""
        },
        {
         "metadata": "{}",
         "name": "newname",
         "type": "\"string\""
        }
       ],
       "type": "table"
      }
     },
     "output_type": "display_data"
    }
   ],
   "source": [
    "iris.select('*', iris.species.like('v%'),iris.species.substr(1,3).alias(\"newname\")).display()"
   ]
  },
  {
   "cell_type": "code",
   "execution_count": 0,
   "metadata": {
    "application/vnd.databricks.v1+cell": {
     "cellMetadata": {
      "byteLimit": 2048000,
      "rowLimit": 10000
     },
     "inputWidgets": {},
     "nuid": "fe71cb03-3203-49d3-b520-76c308f1c884",
     "showTitle": false,
     "title": ""
    }
   },
   "outputs": [
    {
     "output_type": "display_data",
     "data": {
      "text/html": [
       "<style scoped>\n",
       "  .table-result-container {\n",
       "    max-height: 300px;\n",
       "    overflow: auto;\n",
       "  }\n",
       "  table, th, td {\n",
       "    border: 1px solid black;\n",
       "    border-collapse: collapse;\n",
       "  }\n",
       "  th, td {\n",
       "    padding: 5px;\n",
       "  }\n",
       "  th {\n",
       "    text-align: left;\n",
       "  }\n",
       "</style><div class='table-result-container'><table class='table-result'><thead style='background-color: white'><tr><th>species</th><th>avg(sepal_length)</th></tr></thead><tbody><tr><td>virginica</td><td>6.587999999999998</td></tr><tr><td>versicolor</td><td>5.936</td></tr><tr><td>setosa</td><td>5.005999999999999</td></tr></tbody></table></div>"
      ]
     },
     "metadata": {
      "application/vnd.databricks.v1+output": {
       "addedWidgets": {},
       "aggData": [],
       "aggError": "",
       "aggOverflow": false,
       "aggSchema": [],
       "aggSeriesLimitReached": false,
       "aggType": "",
       "arguments": {},
       "columnCustomDisplayInfos": {},
       "data": [
        [
         "virginica",
         6.587999999999998
        ],
        [
         "versicolor",
         5.936
        ],
        [
         "setosa",
         5.005999999999999
        ]
       ],
       "datasetInfos": [],
       "dbfsResultPath": null,
       "isJsonSchema": true,
       "metadata": {},
       "overflow": false,
       "plotOptions": {
        "customPlotOptions": {},
        "displayType": "table",
        "pivotAggregation": null,
        "pivotColumns": null,
        "xColumns": null,
        "yColumns": null
       },
       "removedWidgets": [],
       "schema": [
        {
         "metadata": "{}",
         "name": "species",
         "type": "\"string\""
        },
        {
         "metadata": "{}",
         "name": "avg(sepal_length)",
         "type": "\"double\""
        }
       ],
       "type": "table"
      }
     },
     "output_type": "display_data"
    }
   ],
   "source": [
    "avg_iris=iris.groupby('species').agg({'sepal_length':'avg'})\n",
    "avg_iris.display()"
   ]
  },
  {
   "cell_type": "code",
   "execution_count": 0,
   "metadata": {
    "application/vnd.databricks.v1+cell": {
     "cellMetadata": {
      "byteLimit": 2048000,
      "rowLimit": 10000
     },
     "inputWidgets": {},
     "nuid": "5b5d73be-4c31-4002-b518-ecda1fd7193d",
     "showTitle": false,
     "title": ""
    }
   },
   "outputs": [
    {
     "output_type": "display_data",
     "data": {
      "text/html": [
       "<style scoped>\n",
       "  .table-result-container {\n",
       "    max-height: 300px;\n",
       "    overflow: auto;\n",
       "  }\n",
       "  table, th, td {\n",
       "    border: 1px solid black;\n",
       "    border-collapse: collapse;\n",
       "  }\n",
       "  th, td {\n",
       "    padding: 5px;\n",
       "  }\n",
       "  th {\n",
       "    text-align: left;\n",
       "  }\n",
       "</style><div class='table-result-container'><table class='table-result'><thead style='background-color: white'><tr><th>species</th><th>max(sepal_length)</th><th>avg(petal_length)</th></tr></thead><tbody><tr><td>virginica</td><td>7.9</td><td>5.552</td></tr><tr><td>versicolor</td><td>7.0</td><td>4.26</td></tr><tr><td>setosa</td><td>5.8</td><td>1.464</td></tr></tbody></table></div>"
      ]
     },
     "metadata": {
      "application/vnd.databricks.v1+output": {
       "addedWidgets": {},
       "aggData": [],
       "aggError": "",
       "aggOverflow": false,
       "aggSchema": [],
       "aggSeriesLimitReached": false,
       "aggType": "",
       "arguments": {},
       "columnCustomDisplayInfos": {},
       "data": [
        [
         "virginica",
         7.9,
         5.552
        ],
        [
         "versicolor",
         7.0,
         4.26
        ],
        [
         "setosa",
         5.8,
         1.464
        ]
       ],
       "datasetInfos": [],
       "dbfsResultPath": null,
       "isJsonSchema": true,
       "metadata": {},
       "overflow": false,
       "plotOptions": {
        "customPlotOptions": {},
        "displayType": "table",
        "pivotAggregation": null,
        "pivotColumns": null,
        "xColumns": null,
        "yColumns": null
       },
       "removedWidgets": [],
       "schema": [
        {
         "metadata": "{}",
         "name": "species",
         "type": "\"string\""
        },
        {
         "metadata": "{}",
         "name": "max(sepal_length)",
         "type": "\"double\""
        },
        {
         "metadata": "{}",
         "name": "avg(petal_length)",
         "type": "\"double\""
        }
       ],
       "type": "table"
      }
     },
     "output_type": "display_data"
    }
   ],
   "source": [
    "group=iris.groupby('species').agg({'petal_length':'avg', 'sepal_length':'max'})\n",
    "group.display()"
   ]
  },
  {
   "cell_type": "code",
   "execution_count": 0,
   "metadata": {
    "application/vnd.databricks.v1+cell": {
     "cellMetadata": {
      "byteLimit": 2048000,
      "rowLimit": 10000
     },
     "inputWidgets": {},
     "nuid": "1314634b-118c-4d90-b714-38fdc76575d7",
     "showTitle": false,
     "title": ""
    }
   },
   "outputs": [
    {
     "output_type": "display_data",
     "data": {
      "text/html": [
       "<style scoped>\n",
       "  .table-result-container {\n",
       "    max-height: 300px;\n",
       "    overflow: auto;\n",
       "  }\n",
       "  table, th, td {\n",
       "    border: 1px solid black;\n",
       "    border-collapse: collapse;\n",
       "  }\n",
       "  th, td {\n",
       "    padding: 5px;\n",
       "  }\n",
       "  th {\n",
       "    text-align: left;\n",
       "  }\n",
       "</style><div class='table-result-container'><table class='table-result'><thead style='background-color: white'><tr><th>species</th><th>max(sepal_length)</th><th>avg(petal_length)</th></tr></thead><tbody><tr><td>A</td><td>7.9</td><td>5.552</td></tr><tr><td>B</td><td>7.0</td><td>4.26</td></tr><tr><td>C</td><td>5.8</td><td>1.464</td></tr></tbody></table></div>"
      ]
     },
     "metadata": {
      "application/vnd.databricks.v1+output": {
       "addedWidgets": {},
       "aggData": [],
       "aggError": "",
       "aggOverflow": false,
       "aggSchema": [],
       "aggSeriesLimitReached": false,
       "aggType": "",
       "arguments": {},
       "columnCustomDisplayInfos": {},
       "data": [
        [
         "A",
         7.9,
         5.552
        ],
        [
         "B",
         7.0,
         4.26
        ],
        [
         "C",
         5.8,
         1.464
        ]
       ],
       "datasetInfos": [],
       "dbfsResultPath": null,
       "isJsonSchema": true,
       "metadata": {},
       "overflow": false,
       "plotOptions": {
        "customPlotOptions": {},
        "displayType": "table",
        "pivotAggregation": null,
        "pivotColumns": null,
        "xColumns": null,
        "yColumns": null
       },
       "removedWidgets": [],
       "schema": [
        {
         "metadata": "{}",
         "name": "species",
         "type": "\"string\""
        },
        {
         "metadata": "{}",
         "name": "max(sepal_length)",
         "type": "\"double\""
        },
        {
         "metadata": "{}",
         "name": "avg(petal_length)",
         "type": "\"double\""
        }
       ],
       "type": "table"
      }
     },
     "output_type": "display_data"
    }
   ],
   "source": [
    "group.replace('virginica','A').replace('versicolor','B').replace('setosa','C').display()"
   ]
  },
  {
   "cell_type": "code",
   "execution_count": 0,
   "metadata": {
    "application/vnd.databricks.v1+cell": {
     "cellMetadata": {
      "byteLimit": 2048000,
      "rowLimit": 10000
     },
     "inputWidgets": {},
     "nuid": "2c7176b4-fe3f-456c-90da-530692e8b6de",
     "showTitle": false,
     "title": ""
    }
   },
   "outputs": [
    {
     "output_type": "display_data",
     "data": {
      "text/html": [
       "<style scoped>\n",
       "  .table-result-container {\n",
       "    max-height: 300px;\n",
       "    overflow: auto;\n",
       "  }\n",
       "  table, th, td {\n",
       "    border: 1px solid black;\n",
       "    border-collapse: collapse;\n",
       "  }\n",
       "  th, td {\n",
       "    padding: 5px;\n",
       "  }\n",
       "  th {\n",
       "    text-align: left;\n",
       "  }\n",
       "</style><div class='table-result-container'><table class='table-result'><thead style='background-color: white'><tr><th>sepal_length</th><th>sepal_width</th><th>petal_length</th><th>petal_width</th><th>species</th></tr></thead><tbody><tr><td>5.1</td><td>3.5</td><td>1.4</td><td>null</td><td>setosa</td></tr><tr><td>4.9</td><td>3.0</td><td>1.4</td><td>null</td><td>setosa</td></tr><tr><td>4.7</td><td>3.2</td><td>1.3</td><td>null</td><td>setosa</td></tr><tr><td>4.6</td><td>3.1</td><td>1.5</td><td>null</td><td>setosa</td></tr><tr><td>5.0</td><td>3.6</td><td>1.4</td><td>null</td><td>setosa</td></tr><tr><td>5.4</td><td>3.9</td><td>1.7</td><td>0.4</td><td>setosa</td></tr><tr><td>4.6</td><td>3.4</td><td>1.4</td><td>0.3</td><td>setosa</td></tr><tr><td>5.0</td><td>3.4</td><td>1.5</td><td>null</td><td>setosa</td></tr><tr><td>4.4</td><td>2.9</td><td>1.4</td><td>null</td><td>setosa</td></tr><tr><td>4.9</td><td>3.1</td><td>1.5</td><td>0.1</td><td>setosa</td></tr><tr><td>5.4</td><td>3.7</td><td>1.5</td><td>null</td><td>setosa</td></tr><tr><td>4.8</td><td>3.4</td><td>1.6</td><td>null</td><td>setosa</td></tr><tr><td>4.8</td><td>3.0</td><td>1.4</td><td>0.1</td><td>setosa</td></tr><tr><td>4.3</td><td>3.0</td><td>1.1</td><td>0.1</td><td>setosa</td></tr><tr><td>5.8</td><td>4.0</td><td>1.2</td><td>null</td><td>setosa</td></tr><tr><td>5.7</td><td>4.4</td><td>1.5</td><td>0.4</td><td>setosa</td></tr><tr><td>5.4</td><td>3.9</td><td>1.3</td><td>0.4</td><td>setosa</td></tr><tr><td>5.1</td><td>3.5</td><td>1.4</td><td>0.3</td><td>setosa</td></tr><tr><td>5.7</td><td>3.8</td><td>1.7</td><td>0.3</td><td>setosa</td></tr><tr><td>5.1</td><td>3.8</td><td>1.5</td><td>0.3</td><td>setosa</td></tr><tr><td>5.4</td><td>3.4</td><td>1.7</td><td>null</td><td>setosa</td></tr><tr><td>5.1</td><td>3.7</td><td>1.5</td><td>0.4</td><td>setosa</td></tr><tr><td>4.6</td><td>3.6</td><td>1.0</td><td>null</td><td>setosa</td></tr><tr><td>5.1</td><td>3.3</td><td>1.7</td><td>0.5</td><td>setosa</td></tr><tr><td>4.8</td><td>3.4</td><td>1.9</td><td>null</td><td>setosa</td></tr><tr><td>5.0</td><td>3.0</td><td>1.6</td><td>null</td><td>setosa</td></tr><tr><td>5.0</td><td>3.4</td><td>1.6</td><td>0.4</td><td>setosa</td></tr><tr><td>5.2</td><td>3.5</td><td>1.5</td><td>null</td><td>setosa</td></tr><tr><td>5.2</td><td>3.4</td><td>1.4</td><td>null</td><td>setosa</td></tr><tr><td>4.7</td><td>3.2</td><td>1.6</td><td>null</td><td>setosa</td></tr><tr><td>4.8</td><td>3.1</td><td>1.6</td><td>null</td><td>setosa</td></tr><tr><td>5.4</td><td>3.4</td><td>1.5</td><td>0.4</td><td>setosa</td></tr><tr><td>5.2</td><td>4.1</td><td>1.5</td><td>0.1</td><td>setosa</td></tr><tr><td>5.5</td><td>4.2</td><td>1.4</td><td>null</td><td>setosa</td></tr><tr><td>4.9</td><td>3.1</td><td>1.5</td><td>0.1</td><td>setosa</td></tr><tr><td>5.0</td><td>3.2</td><td>1.2</td><td>null</td><td>setosa</td></tr><tr><td>5.5</td><td>3.5</td><td>1.3</td><td>null</td><td>setosa</td></tr><tr><td>4.9</td><td>3.1</td><td>1.5</td><td>0.1</td><td>setosa</td></tr><tr><td>4.4</td><td>3.0</td><td>1.3</td><td>null</td><td>setosa</td></tr><tr><td>5.1</td><td>3.4</td><td>1.5</td><td>null</td><td>setosa</td></tr><tr><td>5.0</td><td>3.5</td><td>1.3</td><td>0.3</td><td>setosa</td></tr><tr><td>4.5</td><td>2.3</td><td>1.3</td><td>0.3</td><td>setosa</td></tr><tr><td>4.4</td><td>3.2</td><td>1.3</td><td>null</td><td>setosa</td></tr><tr><td>5.0</td><td>3.5</td><td>1.6</td><td>0.6</td><td>setosa</td></tr><tr><td>5.1</td><td>3.8</td><td>1.9</td><td>0.4</td><td>setosa</td></tr><tr><td>4.8</td><td>3.0</td><td>1.4</td><td>0.3</td><td>setosa</td></tr><tr><td>5.1</td><td>3.8</td><td>1.6</td><td>null</td><td>setosa</td></tr><tr><td>4.6</td><td>3.2</td><td>1.4</td><td>null</td><td>setosa</td></tr><tr><td>5.3</td><td>3.7</td><td>1.5</td><td>null</td><td>setosa</td></tr><tr><td>5.0</td><td>3.3</td><td>1.4</td><td>null</td><td>setosa</td></tr><tr><td>7.0</td><td>3.2</td><td>4.7</td><td>1.4</td><td>versicolor</td></tr><tr><td>6.4</td><td>3.2</td><td>4.5</td><td>1.5</td><td>versicolor</td></tr><tr><td>6.9</td><td>3.1</td><td>4.9</td><td>1.5</td><td>versicolor</td></tr><tr><td>5.5</td><td>2.3</td><td>4.0</td><td>1.3</td><td>versicolor</td></tr><tr><td>6.5</td><td>2.8</td><td>4.6</td><td>1.5</td><td>versicolor</td></tr><tr><td>5.7</td><td>2.8</td><td>4.5</td><td>1.3</td><td>versicolor</td></tr><tr><td>6.3</td><td>3.3</td><td>4.7</td><td>1.6</td><td>versicolor</td></tr><tr><td>4.9</td><td>2.4</td><td>3.3</td><td>1.0</td><td>versicolor</td></tr><tr><td>6.6</td><td>2.9</td><td>4.6</td><td>1.3</td><td>versicolor</td></tr><tr><td>5.2</td><td>2.7</td><td>3.9</td><td>1.4</td><td>versicolor</td></tr><tr><td>5.0</td><td>2.0</td><td>3.5</td><td>1.0</td><td>versicolor</td></tr><tr><td>5.9</td><td>3.0</td><td>4.2</td><td>1.5</td><td>versicolor</td></tr><tr><td>6.0</td><td>2.2</td><td>4.0</td><td>1.0</td><td>versicolor</td></tr><tr><td>6.1</td><td>2.9</td><td>4.7</td><td>1.4</td><td>versicolor</td></tr><tr><td>5.6</td><td>2.9</td><td>3.6</td><td>1.3</td><td>versicolor</td></tr><tr><td>6.7</td><td>3.1</td><td>4.4</td><td>1.4</td><td>versicolor</td></tr><tr><td>5.6</td><td>3.0</td><td>4.5</td><td>1.5</td><td>versicolor</td></tr><tr><td>5.8</td><td>2.7</td><td>4.1</td><td>1.0</td><td>versicolor</td></tr><tr><td>6.2</td><td>2.2</td><td>4.5</td><td>1.5</td><td>versicolor</td></tr><tr><td>5.6</td><td>2.5</td><td>3.9</td><td>1.1</td><td>versicolor</td></tr><tr><td>5.9</td><td>3.2</td><td>4.8</td><td>1.8</td><td>versicolor</td></tr><tr><td>6.1</td><td>2.8</td><td>4.0</td><td>1.3</td><td>versicolor</td></tr><tr><td>6.3</td><td>2.5</td><td>4.9</td><td>1.5</td><td>versicolor</td></tr><tr><td>6.1</td><td>2.8</td><td>4.7</td><td>1.2</td><td>versicolor</td></tr><tr><td>6.4</td><td>2.9</td><td>4.3</td><td>1.3</td><td>versicolor</td></tr><tr><td>6.6</td><td>3.0</td><td>4.4</td><td>1.4</td><td>versicolor</td></tr><tr><td>6.8</td><td>2.8</td><td>4.8</td><td>1.4</td><td>versicolor</td></tr><tr><td>6.7</td><td>3.0</td><td>5.0</td><td>1.7</td><td>versicolor</td></tr><tr><td>6.0</td><td>2.9</td><td>4.5</td><td>1.5</td><td>versicolor</td></tr><tr><td>5.7</td><td>2.6</td><td>3.5</td><td>1.0</td><td>versicolor</td></tr><tr><td>5.5</td><td>2.4</td><td>3.8</td><td>1.1</td><td>versicolor</td></tr><tr><td>5.5</td><td>2.4</td><td>3.7</td><td>1.0</td><td>versicolor</td></tr><tr><td>5.8</td><td>2.7</td><td>3.9</td><td>1.2</td><td>versicolor</td></tr><tr><td>6.0</td><td>2.7</td><td>5.1</td><td>1.6</td><td>versicolor</td></tr><tr><td>5.4</td><td>3.0</td><td>4.5</td><td>1.5</td><td>versicolor</td></tr><tr><td>6.0</td><td>3.4</td><td>4.5</td><td>1.6</td><td>versicolor</td></tr><tr><td>6.7</td><td>3.1</td><td>4.7</td><td>1.5</td><td>versicolor</td></tr><tr><td>6.3</td><td>2.3</td><td>4.4</td><td>1.3</td><td>versicolor</td></tr><tr><td>5.6</td><td>3.0</td><td>4.1</td><td>1.3</td><td>versicolor</td></tr><tr><td>5.5</td><td>2.5</td><td>4.0</td><td>1.3</td><td>versicolor</td></tr><tr><td>5.5</td><td>2.6</td><td>4.4</td><td>1.2</td><td>versicolor</td></tr><tr><td>6.1</td><td>3.0</td><td>4.6</td><td>1.4</td><td>versicolor</td></tr><tr><td>5.8</td><td>2.6</td><td>4.0</td><td>1.2</td><td>versicolor</td></tr><tr><td>5.0</td><td>2.3</td><td>3.3</td><td>1.0</td><td>versicolor</td></tr><tr><td>5.6</td><td>2.7</td><td>4.2</td><td>1.3</td><td>versicolor</td></tr><tr><td>5.7</td><td>3.0</td><td>4.2</td><td>1.2</td><td>versicolor</td></tr><tr><td>5.7</td><td>2.9</td><td>4.2</td><td>1.3</td><td>versicolor</td></tr><tr><td>6.2</td><td>2.9</td><td>4.3</td><td>1.3</td><td>versicolor</td></tr><tr><td>5.1</td><td>2.5</td><td>3.0</td><td>1.1</td><td>versicolor</td></tr><tr><td>5.7</td><td>2.8</td><td>4.1</td><td>1.3</td><td>versicolor</td></tr><tr><td>6.3</td><td>3.3</td><td>6.0</td><td>2.5</td><td>virginica</td></tr><tr><td>5.8</td><td>2.7</td><td>5.1</td><td>1.9</td><td>virginica</td></tr><tr><td>7.1</td><td>3.0</td><td>5.9</td><td>2.1</td><td>virginica</td></tr><tr><td>6.3</td><td>2.9</td><td>5.6</td><td>1.8</td><td>virginica</td></tr><tr><td>6.5</td><td>3.0</td><td>5.8</td><td>2.2</td><td>virginica</td></tr><tr><td>7.6</td><td>3.0</td><td>6.6</td><td>2.1</td><td>virginica</td></tr><tr><td>4.9</td><td>2.5</td><td>4.5</td><td>1.7</td><td>virginica</td></tr><tr><td>7.3</td><td>2.9</td><td>6.3</td><td>1.8</td><td>virginica</td></tr><tr><td>6.7</td><td>2.5</td><td>5.8</td><td>1.8</td><td>virginica</td></tr><tr><td>7.2</td><td>3.6</td><td>6.1</td><td>2.5</td><td>virginica</td></tr><tr><td>6.5</td><td>3.2</td><td>5.1</td><td>2.0</td><td>virginica</td></tr><tr><td>6.4</td><td>2.7</td><td>5.3</td><td>1.9</td><td>virginica</td></tr><tr><td>6.8</td><td>3.0</td><td>5.5</td><td>2.1</td><td>virginica</td></tr><tr><td>5.7</td><td>2.5</td><td>5.0</td><td>2.0</td><td>virginica</td></tr><tr><td>5.8</td><td>2.8</td><td>5.1</td><td>2.4</td><td>virginica</td></tr><tr><td>6.4</td><td>3.2</td><td>5.3</td><td>2.3</td><td>virginica</td></tr><tr><td>6.5</td><td>3.0</td><td>5.5</td><td>1.8</td><td>virginica</td></tr><tr><td>7.7</td><td>3.8</td><td>6.7</td><td>2.2</td><td>virginica</td></tr><tr><td>7.7</td><td>2.6</td><td>6.9</td><td>2.3</td><td>virginica</td></tr><tr><td>6.0</td><td>2.2</td><td>5.0</td><td>1.5</td><td>virginica</td></tr><tr><td>6.9</td><td>3.2</td><td>5.7</td><td>2.3</td><td>virginica</td></tr><tr><td>5.6</td><td>2.8</td><td>4.9</td><td>2.0</td><td>virginica</td></tr><tr><td>7.7</td><td>2.8</td><td>6.7</td><td>2.0</td><td>virginica</td></tr><tr><td>6.3</td><td>2.7</td><td>4.9</td><td>1.8</td><td>virginica</td></tr><tr><td>6.7</td><td>3.3</td><td>5.7</td><td>2.1</td><td>virginica</td></tr><tr><td>7.2</td><td>3.2</td><td>6.0</td><td>1.8</td><td>virginica</td></tr><tr><td>6.2</td><td>2.8</td><td>4.8</td><td>1.8</td><td>virginica</td></tr><tr><td>6.1</td><td>3.0</td><td>4.9</td><td>1.8</td><td>virginica</td></tr><tr><td>6.4</td><td>2.8</td><td>5.6</td><td>2.1</td><td>virginica</td></tr><tr><td>7.2</td><td>3.0</td><td>5.8</td><td>1.6</td><td>virginica</td></tr><tr><td>7.4</td><td>2.8</td><td>6.1</td><td>1.9</td><td>virginica</td></tr><tr><td>7.9</td><td>3.8</td><td>6.4</td><td>2.0</td><td>virginica</td></tr><tr><td>6.4</td><td>2.8</td><td>5.6</td><td>2.2</td><td>virginica</td></tr><tr><td>6.3</td><td>2.8</td><td>5.1</td><td>1.5</td><td>virginica</td></tr><tr><td>6.1</td><td>2.6</td><td>5.6</td><td>1.4</td><td>virginica</td></tr><tr><td>7.7</td><td>3.0</td><td>6.1</td><td>2.3</td><td>virginica</td></tr><tr><td>6.3</td><td>3.4</td><td>5.6</td><td>2.4</td><td>virginica</td></tr><tr><td>6.4</td><td>3.1</td><td>5.5</td><td>1.8</td><td>virginica</td></tr><tr><td>6.0</td><td>3.0</td><td>4.8</td><td>1.8</td><td>virginica</td></tr><tr><td>6.9</td><td>3.1</td><td>5.4</td><td>2.1</td><td>virginica</td></tr><tr><td>6.7</td><td>3.1</td><td>5.6</td><td>2.4</td><td>virginica</td></tr><tr><td>6.9</td><td>3.1</td><td>5.1</td><td>2.3</td><td>virginica</td></tr><tr><td>5.8</td><td>2.7</td><td>5.1</td><td>1.9</td><td>virginica</td></tr><tr><td>6.8</td><td>3.2</td><td>5.9</td><td>2.3</td><td>virginica</td></tr><tr><td>6.7</td><td>3.3</td><td>5.7</td><td>2.5</td><td>virginica</td></tr><tr><td>6.7</td><td>3.0</td><td>5.2</td><td>2.3</td><td>virginica</td></tr><tr><td>6.3</td><td>2.5</td><td>5.0</td><td>1.9</td><td>virginica</td></tr><tr><td>6.5</td><td>3.0</td><td>5.2</td><td>2.0</td><td>virginica</td></tr><tr><td>6.2</td><td>3.4</td><td>5.4</td><td>2.3</td><td>virginica</td></tr><tr><td>5.9</td><td>3.0</td><td>5.1</td><td>1.8</td><td>virginica</td></tr></tbody></table></div>"
      ]
     },
     "metadata": {
      "application/vnd.databricks.v1+output": {
       "addedWidgets": {},
       "aggData": [],
       "aggError": "",
       "aggOverflow": false,
       "aggSchema": [],
       "aggSeriesLimitReached": false,
       "aggType": "",
       "arguments": {},
       "columnCustomDisplayInfos": {},
       "data": [
        [
         5.1,
         3.5,
         1.4,
         null,
         "setosa"
        ],
        [
         4.9,
         3.0,
         1.4,
         null,
         "setosa"
        ],
        [
         4.7,
         3.2,
         1.3,
         null,
         "setosa"
        ],
        [
         4.6,
         3.1,
         1.5,
         null,
         "setosa"
        ],
        [
         5.0,
         3.6,
         1.4,
         null,
         "setosa"
        ],
        [
         5.4,
         3.9,
         1.7,
         0.4,
         "setosa"
        ],
        [
         4.6,
         3.4,
         1.4,
         0.3,
         "setosa"
        ],
        [
         5.0,
         3.4,
         1.5,
         null,
         "setosa"
        ],
        [
         4.4,
         2.9,
         1.4,
         null,
         "setosa"
        ],
        [
         4.9,
         3.1,
         1.5,
         0.1,
         "setosa"
        ],
        [
         5.4,
         3.7,
         1.5,
         null,
         "setosa"
        ],
        [
         4.8,
         3.4,
         1.6,
         null,
         "setosa"
        ],
        [
         4.8,
         3.0,
         1.4,
         0.1,
         "setosa"
        ],
        [
         4.3,
         3.0,
         1.1,
         0.1,
         "setosa"
        ],
        [
         5.8,
         4.0,
         1.2,
         null,
         "setosa"
        ],
        [
         5.7,
         4.4,
         1.5,
         0.4,
         "setosa"
        ],
        [
         5.4,
         3.9,
         1.3,
         0.4,
         "setosa"
        ],
        [
         5.1,
         3.5,
         1.4,
         0.3,
         "setosa"
        ],
        [
         5.7,
         3.8,
         1.7,
         0.3,
         "setosa"
        ],
        [
         5.1,
         3.8,
         1.5,
         0.3,
         "setosa"
        ],
        [
         5.4,
         3.4,
         1.7,
         null,
         "setosa"
        ],
        [
         5.1,
         3.7,
         1.5,
         0.4,
         "setosa"
        ],
        [
         4.6,
         3.6,
         1.0,
         null,
         "setosa"
        ],
        [
         5.1,
         3.3,
         1.7,
         0.5,
         "setosa"
        ],
        [
         4.8,
         3.4,
         1.9,
         null,
         "setosa"
        ],
        [
         5.0,
         3.0,
         1.6,
         null,
         "setosa"
        ],
        [
         5.0,
         3.4,
         1.6,
         0.4,
         "setosa"
        ],
        [
         5.2,
         3.5,
         1.5,
         null,
         "setosa"
        ],
        [
         5.2,
         3.4,
         1.4,
         null,
         "setosa"
        ],
        [
         4.7,
         3.2,
         1.6,
         null,
         "setosa"
        ],
        [
         4.8,
         3.1,
         1.6,
         null,
         "setosa"
        ],
        [
         5.4,
         3.4,
         1.5,
         0.4,
         "setosa"
        ],
        [
         5.2,
         4.1,
         1.5,
         0.1,
         "setosa"
        ],
        [
         5.5,
         4.2,
         1.4,
         null,
         "setosa"
        ],
        [
         4.9,
         3.1,
         1.5,
         0.1,
         "setosa"
        ],
        [
         5.0,
         3.2,
         1.2,
         null,
         "setosa"
        ],
        [
         5.5,
         3.5,
         1.3,
         null,
         "setosa"
        ],
        [
         4.9,
         3.1,
         1.5,
         0.1,
         "setosa"
        ],
        [
         4.4,
         3.0,
         1.3,
         null,
         "setosa"
        ],
        [
         5.1,
         3.4,
         1.5,
         null,
         "setosa"
        ],
        [
         5.0,
         3.5,
         1.3,
         0.3,
         "setosa"
        ],
        [
         4.5,
         2.3,
         1.3,
         0.3,
         "setosa"
        ],
        [
         4.4,
         3.2,
         1.3,
         null,
         "setosa"
        ],
        [
         5.0,
         3.5,
         1.6,
         0.6,
         "setosa"
        ],
        [
         5.1,
         3.8,
         1.9,
         0.4,
         "setosa"
        ],
        [
         4.8,
         3.0,
         1.4,
         0.3,
         "setosa"
        ],
        [
         5.1,
         3.8,
         1.6,
         null,
         "setosa"
        ],
        [
         4.6,
         3.2,
         1.4,
         null,
         "setosa"
        ],
        [
         5.3,
         3.7,
         1.5,
         null,
         "setosa"
        ],
        [
         5.0,
         3.3,
         1.4,
         null,
         "setosa"
        ],
        [
         7.0,
         3.2,
         4.7,
         1.4,
         "versicolor"
        ],
        [
         6.4,
         3.2,
         4.5,
         1.5,
         "versicolor"
        ],
        [
         6.9,
         3.1,
         4.9,
         1.5,
         "versicolor"
        ],
        [
         5.5,
         2.3,
         4.0,
         1.3,
         "versicolor"
        ],
        [
         6.5,
         2.8,
         4.6,
         1.5,
         "versicolor"
        ],
        [
         5.7,
         2.8,
         4.5,
         1.3,
         "versicolor"
        ],
        [
         6.3,
         3.3,
         4.7,
         1.6,
         "versicolor"
        ],
        [
         4.9,
         2.4,
         3.3,
         1.0,
         "versicolor"
        ],
        [
         6.6,
         2.9,
         4.6,
         1.3,
         "versicolor"
        ],
        [
         5.2,
         2.7,
         3.9,
         1.4,
         "versicolor"
        ],
        [
         5.0,
         2.0,
         3.5,
         1.0,
         "versicolor"
        ],
        [
         5.9,
         3.0,
         4.2,
         1.5,
         "versicolor"
        ],
        [
         6.0,
         2.2,
         4.0,
         1.0,
         "versicolor"
        ],
        [
         6.1,
         2.9,
         4.7,
         1.4,
         "versicolor"
        ],
        [
         5.6,
         2.9,
         3.6,
         1.3,
         "versicolor"
        ],
        [
         6.7,
         3.1,
         4.4,
         1.4,
         "versicolor"
        ],
        [
         5.6,
         3.0,
         4.5,
         1.5,
         "versicolor"
        ],
        [
         5.8,
         2.7,
         4.1,
         1.0,
         "versicolor"
        ],
        [
         6.2,
         2.2,
         4.5,
         1.5,
         "versicolor"
        ],
        [
         5.6,
         2.5,
         3.9,
         1.1,
         "versicolor"
        ],
        [
         5.9,
         3.2,
         4.8,
         1.8,
         "versicolor"
        ],
        [
         6.1,
         2.8,
         4.0,
         1.3,
         "versicolor"
        ],
        [
         6.3,
         2.5,
         4.9,
         1.5,
         "versicolor"
        ],
        [
         6.1,
         2.8,
         4.7,
         1.2,
         "versicolor"
        ],
        [
         6.4,
         2.9,
         4.3,
         1.3,
         "versicolor"
        ],
        [
         6.6,
         3.0,
         4.4,
         1.4,
         "versicolor"
        ],
        [
         6.8,
         2.8,
         4.8,
         1.4,
         "versicolor"
        ],
        [
         6.7,
         3.0,
         5.0,
         1.7,
         "versicolor"
        ],
        [
         6.0,
         2.9,
         4.5,
         1.5,
         "versicolor"
        ],
        [
         5.7,
         2.6,
         3.5,
         1.0,
         "versicolor"
        ],
        [
         5.5,
         2.4,
         3.8,
         1.1,
         "versicolor"
        ],
        [
         5.5,
         2.4,
         3.7,
         1.0,
         "versicolor"
        ],
        [
         5.8,
         2.7,
         3.9,
         1.2,
         "versicolor"
        ],
        [
         6.0,
         2.7,
         5.1,
         1.6,
         "versicolor"
        ],
        [
         5.4,
         3.0,
         4.5,
         1.5,
         "versicolor"
        ],
        [
         6.0,
         3.4,
         4.5,
         1.6,
         "versicolor"
        ],
        [
         6.7,
         3.1,
         4.7,
         1.5,
         "versicolor"
        ],
        [
         6.3,
         2.3,
         4.4,
         1.3,
         "versicolor"
        ],
        [
         5.6,
         3.0,
         4.1,
         1.3,
         "versicolor"
        ],
        [
         5.5,
         2.5,
         4.0,
         1.3,
         "versicolor"
        ],
        [
         5.5,
         2.6,
         4.4,
         1.2,
         "versicolor"
        ],
        [
         6.1,
         3.0,
         4.6,
         1.4,
         "versicolor"
        ],
        [
         5.8,
         2.6,
         4.0,
         1.2,
         "versicolor"
        ],
        [
         5.0,
         2.3,
         3.3,
         1.0,
         "versicolor"
        ],
        [
         5.6,
         2.7,
         4.2,
         1.3,
         "versicolor"
        ],
        [
         5.7,
         3.0,
         4.2,
         1.2,
         "versicolor"
        ],
        [
         5.7,
         2.9,
         4.2,
         1.3,
         "versicolor"
        ],
        [
         6.2,
         2.9,
         4.3,
         1.3,
         "versicolor"
        ],
        [
         5.1,
         2.5,
         3.0,
         1.1,
         "versicolor"
        ],
        [
         5.7,
         2.8,
         4.1,
         1.3,
         "versicolor"
        ],
        [
         6.3,
         3.3,
         6.0,
         2.5,
         "virginica"
        ],
        [
         5.8,
         2.7,
         5.1,
         1.9,
         "virginica"
        ],
        [
         7.1,
         3.0,
         5.9,
         2.1,
         "virginica"
        ],
        [
         6.3,
         2.9,
         5.6,
         1.8,
         "virginica"
        ],
        [
         6.5,
         3.0,
         5.8,
         2.2,
         "virginica"
        ],
        [
         7.6,
         3.0,
         6.6,
         2.1,
         "virginica"
        ],
        [
         4.9,
         2.5,
         4.5,
         1.7,
         "virginica"
        ],
        [
         7.3,
         2.9,
         6.3,
         1.8,
         "virginica"
        ],
        [
         6.7,
         2.5,
         5.8,
         1.8,
         "virginica"
        ],
        [
         7.2,
         3.6,
         6.1,
         2.5,
         "virginica"
        ],
        [
         6.5,
         3.2,
         5.1,
         2.0,
         "virginica"
        ],
        [
         6.4,
         2.7,
         5.3,
         1.9,
         "virginica"
        ],
        [
         6.8,
         3.0,
         5.5,
         2.1,
         "virginica"
        ],
        [
         5.7,
         2.5,
         5.0,
         2.0,
         "virginica"
        ],
        [
         5.8,
         2.8,
         5.1,
         2.4,
         "virginica"
        ],
        [
         6.4,
         3.2,
         5.3,
         2.3,
         "virginica"
        ],
        [
         6.5,
         3.0,
         5.5,
         1.8,
         "virginica"
        ],
        [
         7.7,
         3.8,
         6.7,
         2.2,
         "virginica"
        ],
        [
         7.7,
         2.6,
         6.9,
         2.3,
         "virginica"
        ],
        [
         6.0,
         2.2,
         5.0,
         1.5,
         "virginica"
        ],
        [
         6.9,
         3.2,
         5.7,
         2.3,
         "virginica"
        ],
        [
         5.6,
         2.8,
         4.9,
         2.0,
         "virginica"
        ],
        [
         7.7,
         2.8,
         6.7,
         2.0,
         "virginica"
        ],
        [
         6.3,
         2.7,
         4.9,
         1.8,
         "virginica"
        ],
        [
         6.7,
         3.3,
         5.7,
         2.1,
         "virginica"
        ],
        [
         7.2,
         3.2,
         6.0,
         1.8,
         "virginica"
        ],
        [
         6.2,
         2.8,
         4.8,
         1.8,
         "virginica"
        ],
        [
         6.1,
         3.0,
         4.9,
         1.8,
         "virginica"
        ],
        [
         6.4,
         2.8,
         5.6,
         2.1,
         "virginica"
        ],
        [
         7.2,
         3.0,
         5.8,
         1.6,
         "virginica"
        ],
        [
         7.4,
         2.8,
         6.1,
         1.9,
         "virginica"
        ],
        [
         7.9,
         3.8,
         6.4,
         2.0,
         "virginica"
        ],
        [
         6.4,
         2.8,
         5.6,
         2.2,
         "virginica"
        ],
        [
         6.3,
         2.8,
         5.1,
         1.5,
         "virginica"
        ],
        [
         6.1,
         2.6,
         5.6,
         1.4,
         "virginica"
        ],
        [
         7.7,
         3.0,
         6.1,
         2.3,
         "virginica"
        ],
        [
         6.3,
         3.4,
         5.6,
         2.4,
         "virginica"
        ],
        [
         6.4,
         3.1,
         5.5,
         1.8,
         "virginica"
        ],
        [
         6.0,
         3.0,
         4.8,
         1.8,
         "virginica"
        ],
        [
         6.9,
         3.1,
         5.4,
         2.1,
         "virginica"
        ],
        [
         6.7,
         3.1,
         5.6,
         2.4,
         "virginica"
        ],
        [
         6.9,
         3.1,
         5.1,
         2.3,
         "virginica"
        ],
        [
         5.8,
         2.7,
         5.1,
         1.9,
         "virginica"
        ],
        [
         6.8,
         3.2,
         5.9,
         2.3,
         "virginica"
        ],
        [
         6.7,
         3.3,
         5.7,
         2.5,
         "virginica"
        ],
        [
         6.7,
         3.0,
         5.2,
         2.3,
         "virginica"
        ],
        [
         6.3,
         2.5,
         5.0,
         1.9,
         "virginica"
        ],
        [
         6.5,
         3.0,
         5.2,
         2.0,
         "virginica"
        ],
        [
         6.2,
         3.4,
         5.4,
         2.3,
         "virginica"
        ],
        [
         5.9,
         3.0,
         5.1,
         1.8,
         "virginica"
        ]
       ],
       "datasetInfos": [],
       "dbfsResultPath": null,
       "isJsonSchema": true,
       "metadata": {},
       "overflow": false,
       "plotOptions": {
        "customPlotOptions": {},
        "displayType": "table",
        "pivotAggregation": null,
        "pivotColumns": null,
        "xColumns": null,
        "yColumns": null
       },
       "removedWidgets": [],
       "schema": [
        {
         "metadata": "{}",
         "name": "sepal_length",
         "type": "\"double\""
        },
        {
         "metadata": "{}",
         "name": "sepal_width",
         "type": "\"double\""
        },
        {
         "metadata": "{}",
         "name": "petal_length",
         "type": "\"double\""
        },
        {
         "metadata": "{}",
         "name": "petal_width",
         "type": "\"double\""
        },
        {
         "metadata": "{}",
         "name": "species",
         "type": "\"string\""
        }
       ],
       "type": "table"
      }
     },
     "output_type": "display_data"
    }
   ],
   "source": [
    "iris_null=iris.replace(0.2,None)\n",
    "iris_null.display()"
   ]
  },
  {
   "cell_type": "code",
   "execution_count": 0,
   "metadata": {
    "application/vnd.databricks.v1+cell": {
     "cellMetadata": {
      "byteLimit": 2048000,
      "rowLimit": 10000
     },
     "inputWidgets": {},
     "nuid": "8057509e-6f62-4cea-9b0b-32b1fd116910",
     "showTitle": false,
     "title": ""
    }
   },
   "outputs": [
    {
     "output_type": "display_data",
     "data": {
      "text/html": [
       "<style scoped>\n",
       "  .table-result-container {\n",
       "    max-height: 300px;\n",
       "    overflow: auto;\n",
       "  }\n",
       "  table, th, td {\n",
       "    border: 1px solid black;\n",
       "    border-collapse: collapse;\n",
       "  }\n",
       "  th, td {\n",
       "    padding: 5px;\n",
       "  }\n",
       "  th {\n",
       "    text-align: left;\n",
       "  }\n",
       "</style><div class='table-result-container'><table class='table-result'><thead style='background-color: white'><tr><th>species</th><th>count</th></tr></thead><tbody><tr><td>virginica</td><td>50</td></tr><tr><td>versicolor</td><td>50</td></tr><tr><td>setosa</td><td>22</td></tr></tbody></table></div>"
      ]
     },
     "metadata": {
      "application/vnd.databricks.v1+output": {
       "addedWidgets": {},
       "aggData": [],
       "aggError": "",
       "aggOverflow": false,
       "aggSchema": [],
       "aggSeriesLimitReached": false,
       "aggType": "",
       "arguments": {},
       "columnCustomDisplayInfos": {},
       "data": [
        [
         "virginica",
         50
        ],
        [
         "versicolor",
         50
        ],
        [
         "setosa",
         22
        ]
       ],
       "datasetInfos": [],
       "dbfsResultPath": null,
       "isJsonSchema": true,
       "metadata": {},
       "overflow": false,
       "plotOptions": {
        "customPlotOptions": {},
        "displayType": "table",
        "pivotAggregation": null,
        "pivotColumns": null,
        "xColumns": null,
        "yColumns": null
       },
       "removedWidgets": [],
       "schema": [
        {
         "metadata": "{}",
         "name": "species",
         "type": "\"string\""
        },
        {
         "metadata": "{}",
         "name": "count",
         "type": "\"long\""
        }
       ],
       "type": "table"
      }
     },
     "output_type": "display_data"
    }
   ],
   "source": [
    "iris_null.na.drop().groupby('species').count().display()"
   ]
  },
  {
   "cell_type": "code",
   "execution_count": 0,
   "metadata": {
    "application/vnd.databricks.v1+cell": {
     "cellMetadata": {
      "byteLimit": 2048000,
      "rowLimit": 10000
     },
     "inputWidgets": {},
     "nuid": "2d37e340-47c2-401f-986f-fb3d6394f53d",
     "showTitle": false,
     "title": ""
    }
   },
   "outputs": [
    {
     "output_type": "stream",
     "name": "stdout",
     "output_type": "stream",
     "text": [
      "+------------+-----------+------------+-----------+-------+\n|sepal_length|sepal_width|petal_length|petal_width|species|\n+------------+-----------+------------+-----------+-------+\n|         5.1|        3.5|         1.4|      100.0| setosa|\n|         4.9|        3.0|         1.4|      100.0| setosa|\n|         4.7|        3.2|         1.3|      100.0| setosa|\n|         4.6|        3.1|         1.5|      100.0| setosa|\n|         5.0|        3.6|         1.4|      100.0| setosa|\n|         5.4|        3.9|         1.7|        0.4| setosa|\n|         4.6|        3.4|         1.4|        0.3| setosa|\n|         5.0|        3.4|         1.5|      100.0| setosa|\n|         4.4|        2.9|         1.4|      100.0| setosa|\n|         4.9|        3.1|         1.5|        0.1| setosa|\n|         5.4|        3.7|         1.5|      100.0| setosa|\n|         4.8|        3.4|         1.6|      100.0| setosa|\n|         4.8|        3.0|         1.4|        0.1| setosa|\n|         4.3|        3.0|         1.1|        0.1| setosa|\n|         5.8|        4.0|         1.2|      100.0| setosa|\n|         5.7|        4.4|         1.5|        0.4| setosa|\n|         5.4|        3.9|         1.3|        0.4| setosa|\n|         5.1|        3.5|         1.4|        0.3| setosa|\n|         5.7|        3.8|         1.7|        0.3| setosa|\n|         5.1|        3.8|         1.5|        0.3| setosa|\n+------------+-----------+------------+-----------+-------+\nonly showing top 20 rows\n\n"
     ]
    }
   ],
   "source": [
    "iris_null.na.fill(100.0).show()"
   ]
  },
  {
   "cell_type": "code",
   "execution_count": 0,
   "metadata": {
    "application/vnd.databricks.v1+cell": {
     "cellMetadata": {
      "byteLimit": 2048000,
      "rowLimit": 10000
     },
     "inputWidgets": {},
     "nuid": "42635a4e-d954-4384-aeb4-faf6fc03c388",
     "showTitle": false,
     "title": ""
    }
   },
   "outputs": [],
   "source": [
    "avg_iris=iris.groupby('species').agg({'petal_length':'avg'})\n",
    "max_iris=iris.groupby('species').agg({'petal_length':'max'})"
   ]
  },
  {
   "cell_type": "code",
   "execution_count": 0,
   "metadata": {
    "application/vnd.databricks.v1+cell": {
     "cellMetadata": {
      "byteLimit": 2048000,
      "rowLimit": 10000
     },
     "inputWidgets": {},
     "nuid": "085e0e39-186e-4c8b-a3c7-a1447af472f9",
     "showTitle": false,
     "title": ""
    }
   },
   "outputs": [
    {
     "output_type": "display_data",
     "data": {
      "text/html": [
       "<style scoped>\n",
       "  .table-result-container {\n",
       "    max-height: 300px;\n",
       "    overflow: auto;\n",
       "  }\n",
       "  table, th, td {\n",
       "    border: 1px solid black;\n",
       "    border-collapse: collapse;\n",
       "  }\n",
       "  th, td {\n",
       "    padding: 5px;\n",
       "  }\n",
       "  th {\n",
       "    text-align: left;\n",
       "  }\n",
       "</style><div class='table-result-container'><table class='table-result'><thead style='background-color: white'><tr><th>species</th><th>avg(petal_length)</th><th>species</th><th>max(petal_length)</th></tr></thead><tbody><tr><td>virginica</td><td>5.552</td><td>virginica</td><td>6.9</td></tr><tr><td>versicolor</td><td>4.26</td><td>versicolor</td><td>5.1</td></tr><tr><td>setosa</td><td>1.464</td><td>setosa</td><td>1.9</td></tr></tbody></table></div>"
      ]
     },
     "metadata": {
      "application/vnd.databricks.v1+output": {
       "addedWidgets": {},
       "aggData": [],
       "aggError": "",
       "aggOverflow": false,
       "aggSchema": [],
       "aggSeriesLimitReached": false,
       "aggType": "",
       "arguments": {},
       "columnCustomDisplayInfos": {},
       "data": [
        [
         "virginica",
         5.552,
         "virginica",
         6.9
        ],
        [
         "versicolor",
         4.26,
         "versicolor",
         5.1
        ],
        [
         "setosa",
         1.464,
         "setosa",
         1.9
        ]
       ],
       "datasetInfos": [],
       "dbfsResultPath": null,
       "isJsonSchema": true,
       "metadata": {},
       "overflow": false,
       "plotOptions": {
        "customPlotOptions": {},
        "displayType": "table",
        "pivotAggregation": null,
        "pivotColumns": null,
        "xColumns": null,
        "yColumns": null
       },
       "removedWidgets": [],
       "schema": [
        {
         "metadata": "{}",
         "name": "species",
         "type": "\"string\""
        },
        {
         "metadata": "{}",
         "name": "avg(petal_length)",
         "type": "\"double\""
        },
        {
         "metadata": "{}",
         "name": "species",
         "type": "\"string\""
        },
        {
         "metadata": "{}",
         "name": "max(petal_length)",
         "type": "\"double\""
        }
       ],
       "type": "table"
      }
     },
     "output_type": "display_data"
    }
   ],
   "source": [
    "combined=avg_iris.join(max_iris,avg_iris.species== max_iris.species)\n",
    "combined.display()"
   ]
  },
  {
   "cell_type": "code",
   "execution_count": 0,
   "metadata": {
    "application/vnd.databricks.v1+cell": {
     "cellMetadata": {
      "byteLimit": 2048000,
      "rowLimit": 10000
     },
     "inputWidgets": {},
     "nuid": "3f3088fa-beb5-47b7-a5aa-1b05de4d69f6",
     "showTitle": false,
     "title": ""
    }
   },
   "outputs": [
    {
     "output_type": "display_data",
     "data": {
      "text/html": [
       "<style scoped>\n",
       "  .table-result-container {\n",
       "    max-height: 300px;\n",
       "    overflow: auto;\n",
       "  }\n",
       "  table, th, td {\n",
       "    border: 1px solid black;\n",
       "    border-collapse: collapse;\n",
       "  }\n",
       "  th, td {\n",
       "    padding: 5px;\n",
       "  }\n",
       "  th {\n",
       "    text-align: left;\n",
       "  }\n",
       "</style><div class='table-result-container'><table class='table-result'><thead style='background-color: white'><tr><th>species</th><th>avg(petal_length)</th><th>max(petal_length)</th></tr></thead><tbody><tr><td>virginica</td><td>5.552</td><td>6.9</td></tr><tr><td>versicolor</td><td>4.26</td><td>5.1</td></tr><tr><td>setosa</td><td>1.464</td><td>1.9</td></tr></tbody></table></div>"
      ]
     },
     "metadata": {
      "application/vnd.databricks.v1+output": {
       "addedWidgets": {},
       "aggData": [],
       "aggError": "",
       "aggOverflow": false,
       "aggSchema": [],
       "aggSeriesLimitReached": false,
       "aggType": "",
       "arguments": {},
       "columnCustomDisplayInfos": {},
       "data": [
        [
         "virginica",
         5.552,
         6.9
        ],
        [
         "versicolor",
         4.26,
         5.1
        ],
        [
         "setosa",
         1.464,
         1.9
        ]
       ],
       "datasetInfos": [],
       "dbfsResultPath": null,
       "isJsonSchema": true,
       "metadata": {},
       "overflow": false,
       "plotOptions": {
        "customPlotOptions": {},
        "displayType": "table",
        "pivotAggregation": null,
        "pivotColumns": null,
        "xColumns": null,
        "yColumns": null
       },
       "removedWidgets": [],
       "schema": [
        {
         "metadata": "{}",
         "name": "species",
         "type": "\"string\""
        },
        {
         "metadata": "{}",
         "name": "avg(petal_length)",
         "type": "\"double\""
        },
        {
         "metadata": "{}",
         "name": "max(petal_length)",
         "type": "\"double\""
        }
       ],
       "type": "table"
      }
     },
     "output_type": "display_data"
    }
   ],
   "source": [
    "combined2=avg_iris.join(max_iris,'species')\n",
    "combined2.display()"
   ]
  },
  {
   "cell_type": "code",
   "execution_count": 0,
   "metadata": {
    "application/vnd.databricks.v1+cell": {
     "cellMetadata": {
      "byteLimit": 2048000,
      "rowLimit": 10000
     },
     "inputWidgets": {},
     "nuid": "28cf3748-243c-41a8-92dd-c1fa5d3b63e9",
     "showTitle": false,
     "title": ""
    }
   },
   "outputs": [
    {
     "output_type": "display_data",
     "data": {
      "text/plain": [
       "\u001B[0;31m---------------------------------------------------------------------------\u001B[0m\n",
       "\u001B[0;31mAnalysisException\u001B[0m                         Traceback (most recent call last)\n",
       "File \u001B[0;32m<command-2206756307257694>:1\u001B[0m\n",
       "\u001B[0;32m----> 1\u001B[0m avg_iris\u001B[38;5;241m.\u001B[39mwrite\u001B[38;5;241m.\u001B[39msave(\u001B[38;5;124m'\u001B[39m\u001B[38;5;124m/FileStore/iris/iris_avg.parquet\u001B[39m\u001B[38;5;124m'\u001B[39m, \u001B[38;5;28mformat\u001B[39m\u001B[38;5;241m=\u001B[39m\u001B[38;5;124m'\u001B[39m\u001B[38;5;124mparquet\u001B[39m\u001B[38;5;124m'\u001B[39m)\n",
       "\u001B[1;32m      2\u001B[0m avg_iris\u001B[38;5;241m.\u001B[39mwrite\u001B[38;5;241m.\u001B[39msave(\u001B[38;5;124m'\u001B[39m\u001B[38;5;124m/FileStore/iris/iris_avg.json\u001B[39m\u001B[38;5;124m'\u001B[39m, \u001B[38;5;28mformat\u001B[39m\u001B[38;5;241m=\u001B[39m\u001B[38;5;124m'\u001B[39m\u001B[38;5;124mjson\u001B[39m\u001B[38;5;124m'\u001B[39m)\n",
       "\u001B[1;32m      3\u001B[0m avg_iris\u001B[38;5;241m.\u001B[39mwrite\u001B[38;5;241m.\u001B[39msave(\u001B[38;5;124m'\u001B[39m\u001B[38;5;124m/FileStore/iris/iris_avg.csv\u001B[39m\u001B[38;5;124m'\u001B[39m, \u001B[38;5;28mformat\u001B[39m\u001B[38;5;241m=\u001B[39m\u001B[38;5;124m'\u001B[39m\u001B[38;5;124mcsv\u001B[39m\u001B[38;5;124m'\u001B[39m)\n",
       "\n",
       "File \u001B[0;32m/databricks/spark/python/pyspark/instrumentation_utils.py:48\u001B[0m, in \u001B[0;36m_wrap_function.<locals>.wrapper\u001B[0;34m(*args, **kwargs)\u001B[0m\n",
       "\u001B[1;32m     46\u001B[0m start \u001B[38;5;241m=\u001B[39m time\u001B[38;5;241m.\u001B[39mperf_counter()\n",
       "\u001B[1;32m     47\u001B[0m \u001B[38;5;28;01mtry\u001B[39;00m:\n",
       "\u001B[0;32m---> 48\u001B[0m     res \u001B[38;5;241m=\u001B[39m \u001B[43mfunc\u001B[49m\u001B[43m(\u001B[49m\u001B[38;5;241;43m*\u001B[39;49m\u001B[43margs\u001B[49m\u001B[43m,\u001B[49m\u001B[43m \u001B[49m\u001B[38;5;241;43m*\u001B[39;49m\u001B[38;5;241;43m*\u001B[39;49m\u001B[43mkwargs\u001B[49m\u001B[43m)\u001B[49m\n",
       "\u001B[1;32m     49\u001B[0m     logger\u001B[38;5;241m.\u001B[39mlog_success(\n",
       "\u001B[1;32m     50\u001B[0m         module_name, class_name, function_name, time\u001B[38;5;241m.\u001B[39mperf_counter() \u001B[38;5;241m-\u001B[39m start, signature\n",
       "\u001B[1;32m     51\u001B[0m     )\n",
       "\u001B[1;32m     52\u001B[0m     \u001B[38;5;28;01mreturn\u001B[39;00m res\n",
       "\n",
       "File \u001B[0;32m/databricks/spark/python/pyspark/sql/readwriter.py:1397\u001B[0m, in \u001B[0;36mDataFrameWriter.save\u001B[0;34m(self, path, format, mode, partitionBy, **options)\u001B[0m\n",
       "\u001B[1;32m   1395\u001B[0m     \u001B[38;5;28mself\u001B[39m\u001B[38;5;241m.\u001B[39m_jwrite\u001B[38;5;241m.\u001B[39msave()\n",
       "\u001B[1;32m   1396\u001B[0m \u001B[38;5;28;01melse\u001B[39;00m:\n",
       "\u001B[0;32m-> 1397\u001B[0m     \u001B[38;5;28;43mself\u001B[39;49m\u001B[38;5;241;43m.\u001B[39;49m\u001B[43m_jwrite\u001B[49m\u001B[38;5;241;43m.\u001B[39;49m\u001B[43msave\u001B[49m\u001B[43m(\u001B[49m\u001B[43mpath\u001B[49m\u001B[43m)\u001B[49m\n",
       "\n",
       "File \u001B[0;32m/databricks/spark/python/lib/py4j-0.10.9.5-src.zip/py4j/java_gateway.py:1321\u001B[0m, in \u001B[0;36mJavaMember.__call__\u001B[0;34m(self, *args)\u001B[0m\n",
       "\u001B[1;32m   1315\u001B[0m command \u001B[38;5;241m=\u001B[39m proto\u001B[38;5;241m.\u001B[39mCALL_COMMAND_NAME \u001B[38;5;241m+\u001B[39m\\\n",
       "\u001B[1;32m   1316\u001B[0m     \u001B[38;5;28mself\u001B[39m\u001B[38;5;241m.\u001B[39mcommand_header \u001B[38;5;241m+\u001B[39m\\\n",
       "\u001B[1;32m   1317\u001B[0m     args_command \u001B[38;5;241m+\u001B[39m\\\n",
       "\u001B[1;32m   1318\u001B[0m     proto\u001B[38;5;241m.\u001B[39mEND_COMMAND_PART\n",
       "\u001B[1;32m   1320\u001B[0m answer \u001B[38;5;241m=\u001B[39m \u001B[38;5;28mself\u001B[39m\u001B[38;5;241m.\u001B[39mgateway_client\u001B[38;5;241m.\u001B[39msend_command(command)\n",
       "\u001B[0;32m-> 1321\u001B[0m return_value \u001B[38;5;241m=\u001B[39m \u001B[43mget_return_value\u001B[49m\u001B[43m(\u001B[49m\n",
       "\u001B[1;32m   1322\u001B[0m \u001B[43m    \u001B[49m\u001B[43manswer\u001B[49m\u001B[43m,\u001B[49m\u001B[43m \u001B[49m\u001B[38;5;28;43mself\u001B[39;49m\u001B[38;5;241;43m.\u001B[39;49m\u001B[43mgateway_client\u001B[49m\u001B[43m,\u001B[49m\u001B[43m \u001B[49m\u001B[38;5;28;43mself\u001B[39;49m\u001B[38;5;241;43m.\u001B[39;49m\u001B[43mtarget_id\u001B[49m\u001B[43m,\u001B[49m\u001B[43m \u001B[49m\u001B[38;5;28;43mself\u001B[39;49m\u001B[38;5;241;43m.\u001B[39;49m\u001B[43mname\u001B[49m\u001B[43m)\u001B[49m\n",
       "\u001B[1;32m   1324\u001B[0m \u001B[38;5;28;01mfor\u001B[39;00m temp_arg \u001B[38;5;129;01min\u001B[39;00m temp_args:\n",
       "\u001B[1;32m   1325\u001B[0m     temp_arg\u001B[38;5;241m.\u001B[39m_detach()\n",
       "\n",
       "File \u001B[0;32m/databricks/spark/python/pyspark/errors/exceptions.py:234\u001B[0m, in \u001B[0;36mcapture_sql_exception.<locals>.deco\u001B[0;34m(*a, **kw)\u001B[0m\n",
       "\u001B[1;32m    230\u001B[0m converted \u001B[38;5;241m=\u001B[39m convert_exception(e\u001B[38;5;241m.\u001B[39mjava_exception)\n",
       "\u001B[1;32m    231\u001B[0m \u001B[38;5;28;01mif\u001B[39;00m \u001B[38;5;129;01mnot\u001B[39;00m \u001B[38;5;28misinstance\u001B[39m(converted, UnknownException):\n",
       "\u001B[1;32m    232\u001B[0m     \u001B[38;5;66;03m# Hide where the exception came from that shows a non-Pythonic\u001B[39;00m\n",
       "\u001B[1;32m    233\u001B[0m     \u001B[38;5;66;03m# JVM exception message.\u001B[39;00m\n",
       "\u001B[0;32m--> 234\u001B[0m     \u001B[38;5;28;01mraise\u001B[39;00m converted \u001B[38;5;28;01mfrom\u001B[39;00m \u001B[38;5;28mNone\u001B[39m\n",
       "\u001B[1;32m    235\u001B[0m \u001B[38;5;28;01melse\u001B[39;00m:\n",
       "\u001B[1;32m    236\u001B[0m     \u001B[38;5;28;01mraise\u001B[39;00m\n",
       "\n",
       "\u001B[0;31mAnalysisException\u001B[0m: Path dbfs:/FileStore/iris/iris_avg.parquet already exists."
      ]
     },
     "metadata": {
      "application/vnd.databricks.v1+output": {
       "arguments": {},
       "data": "\u001B[0;31m---------------------------------------------------------------------------\u001B[0m\n\u001B[0;31mAnalysisException\u001B[0m                         Traceback (most recent call last)\nFile \u001B[0;32m<command-2206756307257694>:1\u001B[0m\n\u001B[0;32m----> 1\u001B[0m avg_iris\u001B[38;5;241m.\u001B[39mwrite\u001B[38;5;241m.\u001B[39msave(\u001B[38;5;124m'\u001B[39m\u001B[38;5;124m/FileStore/iris/iris_avg.parquet\u001B[39m\u001B[38;5;124m'\u001B[39m, \u001B[38;5;28mformat\u001B[39m\u001B[38;5;241m=\u001B[39m\u001B[38;5;124m'\u001B[39m\u001B[38;5;124mparquet\u001B[39m\u001B[38;5;124m'\u001B[39m)\n\u001B[1;32m      2\u001B[0m avg_iris\u001B[38;5;241m.\u001B[39mwrite\u001B[38;5;241m.\u001B[39msave(\u001B[38;5;124m'\u001B[39m\u001B[38;5;124m/FileStore/iris/iris_avg.json\u001B[39m\u001B[38;5;124m'\u001B[39m, \u001B[38;5;28mformat\u001B[39m\u001B[38;5;241m=\u001B[39m\u001B[38;5;124m'\u001B[39m\u001B[38;5;124mjson\u001B[39m\u001B[38;5;124m'\u001B[39m)\n\u001B[1;32m      3\u001B[0m avg_iris\u001B[38;5;241m.\u001B[39mwrite\u001B[38;5;241m.\u001B[39msave(\u001B[38;5;124m'\u001B[39m\u001B[38;5;124m/FileStore/iris/iris_avg.csv\u001B[39m\u001B[38;5;124m'\u001B[39m, \u001B[38;5;28mformat\u001B[39m\u001B[38;5;241m=\u001B[39m\u001B[38;5;124m'\u001B[39m\u001B[38;5;124mcsv\u001B[39m\u001B[38;5;124m'\u001B[39m)\n\nFile \u001B[0;32m/databricks/spark/python/pyspark/instrumentation_utils.py:48\u001B[0m, in \u001B[0;36m_wrap_function.<locals>.wrapper\u001B[0;34m(*args, **kwargs)\u001B[0m\n\u001B[1;32m     46\u001B[0m start \u001B[38;5;241m=\u001B[39m time\u001B[38;5;241m.\u001B[39mperf_counter()\n\u001B[1;32m     47\u001B[0m \u001B[38;5;28;01mtry\u001B[39;00m:\n\u001B[0;32m---> 48\u001B[0m     res \u001B[38;5;241m=\u001B[39m \u001B[43mfunc\u001B[49m\u001B[43m(\u001B[49m\u001B[38;5;241;43m*\u001B[39;49m\u001B[43margs\u001B[49m\u001B[43m,\u001B[49m\u001B[43m \u001B[49m\u001B[38;5;241;43m*\u001B[39;49m\u001B[38;5;241;43m*\u001B[39;49m\u001B[43mkwargs\u001B[49m\u001B[43m)\u001B[49m\n\u001B[1;32m     49\u001B[0m     logger\u001B[38;5;241m.\u001B[39mlog_success(\n\u001B[1;32m     50\u001B[0m         module_name, class_name, function_name, time\u001B[38;5;241m.\u001B[39mperf_counter() \u001B[38;5;241m-\u001B[39m start, signature\n\u001B[1;32m     51\u001B[0m     )\n\u001B[1;32m     52\u001B[0m     \u001B[38;5;28;01mreturn\u001B[39;00m res\n\nFile \u001B[0;32m/databricks/spark/python/pyspark/sql/readwriter.py:1397\u001B[0m, in \u001B[0;36mDataFrameWriter.save\u001B[0;34m(self, path, format, mode, partitionBy, **options)\u001B[0m\n\u001B[1;32m   1395\u001B[0m     \u001B[38;5;28mself\u001B[39m\u001B[38;5;241m.\u001B[39m_jwrite\u001B[38;5;241m.\u001B[39msave()\n\u001B[1;32m   1396\u001B[0m \u001B[38;5;28;01melse\u001B[39;00m:\n\u001B[0;32m-> 1397\u001B[0m     \u001B[38;5;28;43mself\u001B[39;49m\u001B[38;5;241;43m.\u001B[39;49m\u001B[43m_jwrite\u001B[49m\u001B[38;5;241;43m.\u001B[39;49m\u001B[43msave\u001B[49m\u001B[43m(\u001B[49m\u001B[43mpath\u001B[49m\u001B[43m)\u001B[49m\n\nFile \u001B[0;32m/databricks/spark/python/lib/py4j-0.10.9.5-src.zip/py4j/java_gateway.py:1321\u001B[0m, in \u001B[0;36mJavaMember.__call__\u001B[0;34m(self, *args)\u001B[0m\n\u001B[1;32m   1315\u001B[0m command \u001B[38;5;241m=\u001B[39m proto\u001B[38;5;241m.\u001B[39mCALL_COMMAND_NAME \u001B[38;5;241m+\u001B[39m\\\n\u001B[1;32m   1316\u001B[0m     \u001B[38;5;28mself\u001B[39m\u001B[38;5;241m.\u001B[39mcommand_header \u001B[38;5;241m+\u001B[39m\\\n\u001B[1;32m   1317\u001B[0m     args_command \u001B[38;5;241m+\u001B[39m\\\n\u001B[1;32m   1318\u001B[0m     proto\u001B[38;5;241m.\u001B[39mEND_COMMAND_PART\n\u001B[1;32m   1320\u001B[0m answer \u001B[38;5;241m=\u001B[39m \u001B[38;5;28mself\u001B[39m\u001B[38;5;241m.\u001B[39mgateway_client\u001B[38;5;241m.\u001B[39msend_command(command)\n\u001B[0;32m-> 1321\u001B[0m return_value \u001B[38;5;241m=\u001B[39m \u001B[43mget_return_value\u001B[49m\u001B[43m(\u001B[49m\n\u001B[1;32m   1322\u001B[0m \u001B[43m    \u001B[49m\u001B[43manswer\u001B[49m\u001B[43m,\u001B[49m\u001B[43m \u001B[49m\u001B[38;5;28;43mself\u001B[39;49m\u001B[38;5;241;43m.\u001B[39;49m\u001B[43mgateway_client\u001B[49m\u001B[43m,\u001B[49m\u001B[43m \u001B[49m\u001B[38;5;28;43mself\u001B[39;49m\u001B[38;5;241;43m.\u001B[39;49m\u001B[43mtarget_id\u001B[49m\u001B[43m,\u001B[49m\u001B[43m \u001B[49m\u001B[38;5;28;43mself\u001B[39;49m\u001B[38;5;241;43m.\u001B[39;49m\u001B[43mname\u001B[49m\u001B[43m)\u001B[49m\n\u001B[1;32m   1324\u001B[0m \u001B[38;5;28;01mfor\u001B[39;00m temp_arg \u001B[38;5;129;01min\u001B[39;00m temp_args:\n\u001B[1;32m   1325\u001B[0m     temp_arg\u001B[38;5;241m.\u001B[39m_detach()\n\nFile \u001B[0;32m/databricks/spark/python/pyspark/errors/exceptions.py:234\u001B[0m, in \u001B[0;36mcapture_sql_exception.<locals>.deco\u001B[0;34m(*a, **kw)\u001B[0m\n\u001B[1;32m    230\u001B[0m converted \u001B[38;5;241m=\u001B[39m convert_exception(e\u001B[38;5;241m.\u001B[39mjava_exception)\n\u001B[1;32m    231\u001B[0m \u001B[38;5;28;01mif\u001B[39;00m \u001B[38;5;129;01mnot\u001B[39;00m \u001B[38;5;28misinstance\u001B[39m(converted, UnknownException):\n\u001B[1;32m    232\u001B[0m     \u001B[38;5;66;03m# Hide where the exception came from that shows a non-Pythonic\u001B[39;00m\n\u001B[1;32m    233\u001B[0m     \u001B[38;5;66;03m# JVM exception message.\u001B[39;00m\n\u001B[0;32m--> 234\u001B[0m     \u001B[38;5;28;01mraise\u001B[39;00m converted \u001B[38;5;28;01mfrom\u001B[39;00m \u001B[38;5;28mNone\u001B[39m\n\u001B[1;32m    235\u001B[0m \u001B[38;5;28;01melse\u001B[39;00m:\n\u001B[1;32m    236\u001B[0m     \u001B[38;5;28;01mraise\u001B[39;00m\n\n\u001B[0;31mAnalysisException\u001B[0m: Path dbfs:/FileStore/iris/iris_avg.parquet already exists.",
       "errorSummary": "<span class='ansi-red-fg'>AnalysisException</span>: Path dbfs:/FileStore/iris/iris_avg.parquet already exists.",
       "errorTraceType": "ansi",
       "metadata": {},
       "type": "ipynbError"
      }
     },
     "output_type": "display_data"
    }
   ],
   "source": [
    "avg_iris.write.save('/FileStore/iris/iris_avg.parquet', format='parquet')\n",
    "avg_iris.write.save('/FileStore/iris/iris_avg.json', format='json')\n",
    "avg_iris.write.save('/FileStore/iris/iris_avg.csv', format='csv')"
   ]
  },
  {
   "cell_type": "code",
   "execution_count": 0,
   "metadata": {
    "application/vnd.databricks.v1+cell": {
     "cellMetadata": {
      "byteLimit": 2048000,
      "rowLimit": 10000
     },
     "inputWidgets": {},
     "nuid": "a84d3698-1c32-4f9c-974e-91737c3ab4d9",
     "showTitle": false,
     "title": ""
    }
   },
   "outputs": [],
   "source": [
    "iris.createOrReplaceTempView('iris')"
   ]
  },
  {
   "cell_type": "code",
   "execution_count": 0,
   "metadata": {
    "application/vnd.databricks.v1+cell": {
     "cellMetadata": {
      "byteLimit": 2048000,
      "rowLimit": 10000
     },
     "inputWidgets": {},
     "nuid": "9d6d4107-245b-4577-a36c-0f430c10c2f3",
     "showTitle": false,
     "title": ""
    }
   },
   "outputs": [
    {
     "output_type": "display_data",
     "data": {
      "text/html": [
       "<style scoped>\n",
       "  .table-result-container {\n",
       "    max-height: 300px;\n",
       "    overflow: auto;\n",
       "  }\n",
       "  table, th, td {\n",
       "    border: 1px solid black;\n",
       "    border-collapse: collapse;\n",
       "  }\n",
       "  th, td {\n",
       "    padding: 5px;\n",
       "  }\n",
       "  th {\n",
       "    text-align: left;\n",
       "  }\n",
       "</style><div class='table-result-container'><table class='table-result'><thead style='background-color: white'><tr><th>species</th><th>avg(petal_length)</th></tr></thead><tbody><tr><td>virginica</td><td>5.552</td></tr><tr><td>versicolor</td><td>4.26</td></tr><tr><td>setosa</td><td>1.464</td></tr></tbody></table></div>"
      ]
     },
     "metadata": {
      "application/vnd.databricks.v1+output": {
       "addedWidgets": {},
       "aggData": [],
       "aggError": "",
       "aggOverflow": false,
       "aggSchema": [],
       "aggSeriesLimitReached": false,
       "aggType": "",
       "arguments": {},
       "columnCustomDisplayInfos": {},
       "data": [
        [
         "virginica",
         5.552
        ],
        [
         "versicolor",
         4.26
        ],
        [
         "setosa",
         1.464
        ]
       ],
       "datasetInfos": [],
       "dbfsResultPath": null,
       "isJsonSchema": true,
       "metadata": {},
       "overflow": false,
       "plotOptions": {
        "customPlotOptions": {},
        "displayType": "table",
        "pivotAggregation": null,
        "pivotColumns": null,
        "xColumns": null,
        "yColumns": null
       },
       "removedWidgets": [],
       "schema": [
        {
         "metadata": "{}",
         "name": "species",
         "type": "\"string\""
        },
        {
         "metadata": "{\"__autoGeneratedAlias\":\"true\"}",
         "name": "avg(petal_length)",
         "type": "\"double\""
        }
       ],
       "type": "table"
      }
     },
     "output_type": "display_data"
    }
   ],
   "source": [
    "spark.sql('''\n",
    "          select species, avg(petal_length)\n",
    "          from iris\n",
    "          group by species\n",
    "          ''').display()"
   ]
  },
  {
   "cell_type": "code",
   "execution_count": 0,
   "metadata": {
    "application/vnd.databricks.v1+cell": {
     "cellMetadata": {
      "byteLimit": 2048000,
      "rowLimit": 10000
     },
     "inputWidgets": {},
     "nuid": "d6fdea0b-54f9-4be0-b092-5aac68b0cd70",
     "showTitle": false,
     "title": ""
    }
   },
   "outputs": [
    {
     "output_type": "stream",
     "name": "stdout",
     "output_type": "stream",
     "text": [
      "Out[68]: [Row(sepal_length=5.1, sepal_width=3.5, petal_length=1.4, petal_width=0.2, species='setosa'),\n Row(sepal_length=4.9, sepal_width=3.0, petal_length=1.4, petal_width=0.2, species='setosa'),\n Row(sepal_length=4.7, sepal_width=3.2, petal_length=1.3, petal_width=0.2, species='setosa'),\n Row(sepal_length=4.6, sepal_width=3.1, petal_length=1.5, petal_width=0.2, species='setosa'),\n Row(sepal_length=5.0, sepal_width=3.6, petal_length=1.4, petal_width=0.2, species='setosa')]"
     ]
    }
   ],
   "source": [
    "iris_rdd=spark.sql('''\n",
    "                   select *\n",
    "                   from iris\n",
    "                   where species='setosa'\n",
    "                   ''')\n",
    "iris_rdd.take(5)"
   ]
  },
  {
   "cell_type": "code",
   "execution_count": 0,
   "metadata": {
    "application/vnd.databricks.v1+cell": {
     "cellMetadata": {
      "byteLimit": 2048000,
      "rowLimit": 10000
     },
     "inputWidgets": {},
     "nuid": "11dcc3e6-34a6-49a8-8aeb-fbd1add8f7eb",
     "showTitle": false,
     "title": ""
    }
   },
   "outputs": [
    {
     "output_type": "stream",
     "name": "stdout",
     "output_type": "stream",
     "text": [
      "Out[69]: pyspark.sql.dataframe.DataFrame"
     ]
    }
   ],
   "source": [
    "type(iris_rdd)"
   ]
  },
  {
   "cell_type": "code",
   "execution_count": 0,
   "metadata": {
    "application/vnd.databricks.v1+cell": {
     "cellMetadata": {
      "byteLimit": 2048000,
      "implicitDf": true,
      "rowLimit": 10000
     },
     "inputWidgets": {},
     "nuid": "741ce29c-7e2c-4c1e-9abf-5f60bf0467b7",
     "showTitle": false,
     "title": ""
    }
   },
   "outputs": [
    {
     "output_type": "display_data",
     "data": {
      "text/html": [
       "<style scoped>\n",
       "  .table-result-container {\n",
       "    max-height: 300px;\n",
       "    overflow: auto;\n",
       "  }\n",
       "  table, th, td {\n",
       "    border: 1px solid black;\n",
       "    border-collapse: collapse;\n",
       "  }\n",
       "  th, td {\n",
       "    padding: 5px;\n",
       "  }\n",
       "  th {\n",
       "    text-align: left;\n",
       "  }\n",
       "</style><div class='table-result-container'><table class='table-result'><thead style='background-color: white'><tr><th>species</th></tr></thead><tbody><tr><td>setosa</td></tr><tr><td>setosa</td></tr><tr><td>setosa</td></tr><tr><td>setosa</td></tr><tr><td>setosa</td></tr><tr><td>setosa</td></tr><tr><td>setosa</td></tr><tr><td>setosa</td></tr><tr><td>setosa</td></tr><tr><td>setosa</td></tr><tr><td>setosa</td></tr><tr><td>setosa</td></tr><tr><td>setosa</td></tr><tr><td>setosa</td></tr><tr><td>setosa</td></tr><tr><td>setosa</td></tr><tr><td>setosa</td></tr><tr><td>setosa</td></tr><tr><td>setosa</td></tr><tr><td>setosa</td></tr><tr><td>setosa</td></tr><tr><td>setosa</td></tr><tr><td>setosa</td></tr><tr><td>setosa</td></tr><tr><td>setosa</td></tr><tr><td>setosa</td></tr><tr><td>setosa</td></tr><tr><td>setosa</td></tr><tr><td>setosa</td></tr><tr><td>setosa</td></tr><tr><td>setosa</td></tr><tr><td>setosa</td></tr><tr><td>setosa</td></tr><tr><td>setosa</td></tr><tr><td>setosa</td></tr><tr><td>setosa</td></tr><tr><td>setosa</td></tr><tr><td>setosa</td></tr><tr><td>setosa</td></tr><tr><td>setosa</td></tr><tr><td>setosa</td></tr><tr><td>setosa</td></tr><tr><td>setosa</td></tr><tr><td>setosa</td></tr><tr><td>setosa</td></tr><tr><td>setosa</td></tr><tr><td>setosa</td></tr><tr><td>setosa</td></tr><tr><td>setosa</td></tr><tr><td>setosa</td></tr><tr><td>versicolor</td></tr><tr><td>versicolor</td></tr><tr><td>versicolor</td></tr><tr><td>versicolor</td></tr><tr><td>versicolor</td></tr><tr><td>versicolor</td></tr><tr><td>versicolor</td></tr><tr><td>versicolor</td></tr><tr><td>versicolor</td></tr><tr><td>versicolor</td></tr><tr><td>versicolor</td></tr><tr><td>versicolor</td></tr><tr><td>versicolor</td></tr><tr><td>versicolor</td></tr><tr><td>versicolor</td></tr><tr><td>versicolor</td></tr><tr><td>versicolor</td></tr><tr><td>versicolor</td></tr><tr><td>versicolor</td></tr><tr><td>versicolor</td></tr><tr><td>versicolor</td></tr><tr><td>versicolor</td></tr><tr><td>versicolor</td></tr><tr><td>versicolor</td></tr><tr><td>versicolor</td></tr><tr><td>versicolor</td></tr><tr><td>versicolor</td></tr><tr><td>versicolor</td></tr><tr><td>versicolor</td></tr><tr><td>versicolor</td></tr><tr><td>versicolor</td></tr><tr><td>versicolor</td></tr><tr><td>versicolor</td></tr><tr><td>versicolor</td></tr><tr><td>versicolor</td></tr><tr><td>versicolor</td></tr><tr><td>versicolor</td></tr><tr><td>versicolor</td></tr><tr><td>versicolor</td></tr><tr><td>versicolor</td></tr><tr><td>versicolor</td></tr><tr><td>versicolor</td></tr><tr><td>versicolor</td></tr><tr><td>versicolor</td></tr><tr><td>versicolor</td></tr><tr><td>versicolor</td></tr><tr><td>versicolor</td></tr><tr><td>versicolor</td></tr><tr><td>versicolor</td></tr><tr><td>versicolor</td></tr><tr><td>virginica</td></tr><tr><td>virginica</td></tr><tr><td>virginica</td></tr><tr><td>virginica</td></tr><tr><td>virginica</td></tr><tr><td>virginica</td></tr><tr><td>virginica</td></tr><tr><td>virginica</td></tr><tr><td>virginica</td></tr><tr><td>virginica</td></tr><tr><td>virginica</td></tr><tr><td>virginica</td></tr><tr><td>virginica</td></tr><tr><td>virginica</td></tr><tr><td>virginica</td></tr><tr><td>virginica</td></tr><tr><td>virginica</td></tr><tr><td>virginica</td></tr><tr><td>virginica</td></tr><tr><td>virginica</td></tr><tr><td>virginica</td></tr><tr><td>virginica</td></tr><tr><td>virginica</td></tr><tr><td>virginica</td></tr><tr><td>virginica</td></tr><tr><td>virginica</td></tr><tr><td>virginica</td></tr><tr><td>virginica</td></tr><tr><td>virginica</td></tr><tr><td>virginica</td></tr><tr><td>virginica</td></tr><tr><td>virginica</td></tr><tr><td>virginica</td></tr><tr><td>virginica</td></tr><tr><td>virginica</td></tr><tr><td>virginica</td></tr><tr><td>virginica</td></tr><tr><td>virginica</td></tr><tr><td>virginica</td></tr><tr><td>virginica</td></tr><tr><td>virginica</td></tr><tr><td>virginica</td></tr><tr><td>virginica</td></tr><tr><td>virginica</td></tr><tr><td>virginica</td></tr><tr><td>virginica</td></tr><tr><td>virginica</td></tr><tr><td>virginica</td></tr><tr><td>virginica</td></tr><tr><td>virginica</td></tr></tbody></table></div>"
      ]
     },
     "metadata": {
      "application/vnd.databricks.v1+output": {
       "addedWidgets": {},
       "aggData": [],
       "aggError": "",
       "aggOverflow": false,
       "aggSchema": [],
       "aggSeriesLimitReached": false,
       "aggType": "",
       "arguments": {},
       "columnCustomDisplayInfos": {},
       "data": [
        [
         "setosa"
        ],
        [
         "setosa"
        ],
        [
         "setosa"
        ],
        [
         "setosa"
        ],
        [
         "setosa"
        ],
        [
         "setosa"
        ],
        [
         "setosa"
        ],
        [
         "setosa"
        ],
        [
         "setosa"
        ],
        [
         "setosa"
        ],
        [
         "setosa"
        ],
        [
         "setosa"
        ],
        [
         "setosa"
        ],
        [
         "setosa"
        ],
        [
         "setosa"
        ],
        [
         "setosa"
        ],
        [
         "setosa"
        ],
        [
         "setosa"
        ],
        [
         "setosa"
        ],
        [
         "setosa"
        ],
        [
         "setosa"
        ],
        [
         "setosa"
        ],
        [
         "setosa"
        ],
        [
         "setosa"
        ],
        [
         "setosa"
        ],
        [
         "setosa"
        ],
        [
         "setosa"
        ],
        [
         "setosa"
        ],
        [
         "setosa"
        ],
        [
         "setosa"
        ],
        [
         "setosa"
        ],
        [
         "setosa"
        ],
        [
         "setosa"
        ],
        [
         "setosa"
        ],
        [
         "setosa"
        ],
        [
         "setosa"
        ],
        [
         "setosa"
        ],
        [
         "setosa"
        ],
        [
         "setosa"
        ],
        [
         "setosa"
        ],
        [
         "setosa"
        ],
        [
         "setosa"
        ],
        [
         "setosa"
        ],
        [
         "setosa"
        ],
        [
         "setosa"
        ],
        [
         "setosa"
        ],
        [
         "setosa"
        ],
        [
         "setosa"
        ],
        [
         "setosa"
        ],
        [
         "setosa"
        ],
        [
         "versicolor"
        ],
        [
         "versicolor"
        ],
        [
         "versicolor"
        ],
        [
         "versicolor"
        ],
        [
         "versicolor"
        ],
        [
         "versicolor"
        ],
        [
         "versicolor"
        ],
        [
         "versicolor"
        ],
        [
         "versicolor"
        ],
        [
         "versicolor"
        ],
        [
         "versicolor"
        ],
        [
         "versicolor"
        ],
        [
         "versicolor"
        ],
        [
         "versicolor"
        ],
        [
         "versicolor"
        ],
        [
         "versicolor"
        ],
        [
         "versicolor"
        ],
        [
         "versicolor"
        ],
        [
         "versicolor"
        ],
        [
         "versicolor"
        ],
        [
         "versicolor"
        ],
        [
         "versicolor"
        ],
        [
         "versicolor"
        ],
        [
         "versicolor"
        ],
        [
         "versicolor"
        ],
        [
         "versicolor"
        ],
        [
         "versicolor"
        ],
        [
         "versicolor"
        ],
        [
         "versicolor"
        ],
        [
         "versicolor"
        ],
        [
         "versicolor"
        ],
        [
         "versicolor"
        ],
        [
         "versicolor"
        ],
        [
         "versicolor"
        ],
        [
         "versicolor"
        ],
        [
         "versicolor"
        ],
        [
         "versicolor"
        ],
        [
         "versicolor"
        ],
        [
         "versicolor"
        ],
        [
         "versicolor"
        ],
        [
         "versicolor"
        ],
        [
         "versicolor"
        ],
        [
         "versicolor"
        ],
        [
         "versicolor"
        ],
        [
         "versicolor"
        ],
        [
         "versicolor"
        ],
        [
         "versicolor"
        ],
        [
         "versicolor"
        ],
        [
         "versicolor"
        ],
        [
         "versicolor"
        ],
        [
         "virginica"
        ],
        [
         "virginica"
        ],
        [
         "virginica"
        ],
        [
         "virginica"
        ],
        [
         "virginica"
        ],
        [
         "virginica"
        ],
        [
         "virginica"
        ],
        [
         "virginica"
        ],
        [
         "virginica"
        ],
        [
         "virginica"
        ],
        [
         "virginica"
        ],
        [
         "virginica"
        ],
        [
         "virginica"
        ],
        [
         "virginica"
        ],
        [
         "virginica"
        ],
        [
         "virginica"
        ],
        [
         "virginica"
        ],
        [
         "virginica"
        ],
        [
         "virginica"
        ],
        [
         "virginica"
        ],
        [
         "virginica"
        ],
        [
         "virginica"
        ],
        [
         "virginica"
        ],
        [
         "virginica"
        ],
        [
         "virginica"
        ],
        [
         "virginica"
        ],
        [
         "virginica"
        ],
        [
         "virginica"
        ],
        [
         "virginica"
        ],
        [
         "virginica"
        ],
        [
         "virginica"
        ],
        [
         "virginica"
        ],
        [
         "virginica"
        ],
        [
         "virginica"
        ],
        [
         "virginica"
        ],
        [
         "virginica"
        ],
        [
         "virginica"
        ],
        [
         "virginica"
        ],
        [
         "virginica"
        ],
        [
         "virginica"
        ],
        [
         "virginica"
        ],
        [
         "virginica"
        ],
        [
         "virginica"
        ],
        [
         "virginica"
        ],
        [
         "virginica"
        ],
        [
         "virginica"
        ],
        [
         "virginica"
        ],
        [
         "virginica"
        ],
        [
         "virginica"
        ],
        [
         "virginica"
        ]
       ],
       "datasetInfos": [],
       "dbfsResultPath": null,
       "isJsonSchema": true,
       "metadata": {},
       "overflow": false,
       "plotOptions": {
        "customPlotOptions": {},
        "displayType": "table",
        "pivotAggregation": null,
        "pivotColumns": null,
        "xColumns": null,
        "yColumns": null
       },
       "removedWidgets": [],
       "schema": [
        {
         "metadata": "{}",
         "name": "species",
         "type": "\"string\""
        }
       ],
       "type": "table"
      }
     },
     "output_type": "display_data"
    }
   ],
   "source": [
    "%sql\n",
    "select species\n",
    "from iris"
   ]
  }
 ],
 "metadata": {
  "application/vnd.databricks.v1+notebook": {
   "dashboards": [
    {
     "elements": [
      {
       "dashboardResultIndex": 0,
       "elementNUID": "1fca28bd-7d42-401f-826b-4a743bb44571",
       "elementType": "command",
       "guid": "6015e106-a47b-4187-9be9-ae91cd099afe",
       "options": null,
       "position": {
        "height": 6,
        "width": 12,
        "x": 0,
        "y": 0,
        "z": null
       },
       "resultIndex": null
      }
     ],
     "globalVars": {},
     "guid": "",
     "layoutOption": {
      "grid": true,
      "stack": true
     },
     "nuid": "08150be7-3091-4b38-9d08-dac2ba01c0e3",
     "origId": 2206756307257677,
     "title": "Untitled",
     "version": "DashboardViewV1",
     "width": 1024
    }
   ],
   "language": "python",
   "notebookMetadata": {
    "mostRecentlyExecutedCommandWithImplicitDF": {
     "commandId": 3649564533988002,
     "dataframes": [
      "_sqldf"
     ]
    },
    "pythonIndentUnit": 4
   },
   "notebookName": "Data401",
   "widgets": {}
  }
 },
 "nbformat": 4,
 "nbformat_minor": 0
}
